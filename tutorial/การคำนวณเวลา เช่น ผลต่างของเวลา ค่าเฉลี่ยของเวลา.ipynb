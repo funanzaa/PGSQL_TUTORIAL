{
    "metadata": {
        "kernelspec": {
            "name": "SQL",
            "display_name": "SQL",
            "language": "sql"
        },
        "language_info": {
            "name": "sql",
            "version": ""
        }
    },
    "nbformat_minor": 2,
    "nbformat": 4,
    "cells": [
        {
            "cell_type": "markdown",
            "source": [
                "# การคำนวณเวลา เช่น ผลต่างของเวลา ค่าเฉลี่ยของเวลา"
            ],
            "metadata": {
                "azdata_cell_guid": "64845880-44f6-4b9c-a51d-e36087545591"
            }
        },
        {
            "cell_type": "code",
            "source": [
                "drop table if EXISTS guest;\n",
                "\n",
                "CREATE table guest (\n",
                "    order_id int PRIMARY KEY,\n",
                "    no_guest int,\n",
                "    table_no int,\n",
                "    in_time TIMESTAMP,\n",
                "    out_time TIMESTAMP,\n",
                "    total DECIMAL(10,2)\n",
                ");"
            ],
            "metadata": {
                "azdata_cell_guid": "d9510339-3ddb-4c8b-8942-2768d4c3629d"
            },
            "outputs": [
                {
                    "output_type": "display_data",
                    "data": {
                        "text/html": "NOTICE:  table \"guest\" does not exist, skipping\n"
                    },
                    "metadata": {}
                },
                {
                    "output_type": "display_data",
                    "data": {
                        "text/html": "Commands completed successfully"
                    },
                    "metadata": {}
                },
                {
                    "output_type": "display_data",
                    "data": {
                        "text/html": "Commands completed successfully"
                    },
                    "metadata": {}
                },
                {
                    "output_type": "display_data",
                    "data": {
                        "text/html": "Total execution time: 00:00:00.056"
                    },
                    "metadata": {}
                }
            ],
            "execution_count": 2
        }
    ]
}