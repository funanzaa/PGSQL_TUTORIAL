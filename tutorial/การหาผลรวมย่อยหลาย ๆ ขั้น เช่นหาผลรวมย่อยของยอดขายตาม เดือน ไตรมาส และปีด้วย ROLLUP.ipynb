{
    "metadata": {
        "kernelspec": {
            "name": "SQL",
            "display_name": "SQL",
            "language": "sql"
        },
        "language_info": {
            "name": "sql",
            "version": ""
        }
    },
    "nbformat_minor": 2,
    "nbformat": 4,
    "cells": [
        {
            "cell_type": "markdown",
            "source": [
                "# การหาผลรวมย่อยหลาย ๆ ขั้น เช่นหาผลรวมย่อยของยอดขายตาม เดือน ไตรมาส และปีด้วย ROLLUP"
            ],
            "metadata": {
                "azdata_cell_guid": "50e35be6-3605-4404-ab3f-5d55d17bae3d"
            }
        },
        {
            "cell_type": "code",
            "source": [
                "SELECT date_part('month',dt)::int \"month\" , sum(revenue)\n",
                "    from sales\n",
                "    GROUP BY date_part('month',dt)\n",
                "    ORDER BY \"month\""
            ],
            "metadata": {
                "azdata_cell_guid": "bbdadc6e-95e7-40ed-a150-cce828bb5db4"
            },
            "outputs": [
                {
                    "output_type": "display_data",
                    "data": {
                        "text/html": "(12 row(s) affected)"
                    },
                    "metadata": {}
                },
                {
                    "output_type": "display_data",
                    "data": {
                        "text/html": "Total execution time: 00:00:00.012"
                    },
                    "metadata": {}
                },
                {
                    "output_type": "execute_result",
                    "metadata": {},
                    "execution_count": 1,
                    "data": {
                        "application/vnd.dataresource+json": {
                            "schema": {
                                "fields": [
                                    {
                                        "name": "month"
                                    },
                                    {
                                        "name": "sum"
                                    }
                                ]
                            },
                            "data": [
                                {
                                    "0": "1",
                                    "1": "68633"
                                },
                                {
                                    "0": "2",
                                    "1": "59266"
                                },
                                {
                                    "0": "3",
                                    "1": "60370"
                                },
                                {
                                    "0": "4",
                                    "1": "64110"
                                },
                                {
                                    "0": "5",
                                    "1": "63102"
                                },
                                {
                                    "0": "6",
                                    "1": "60568"
                                },
                                {
                                    "0": "7",
                                    "1": "62004"
                                },
                                {
                                    "0": "8",
                                    "1": "59499"
                                },
                                {
                                    "0": "9",
                                    "1": "62852"
                                },
                                {
                                    "0": "10",
                                    "1": "62671"
                                },
                                {
                                    "0": "11",
                                    "1": "62372"
                                },
                                {
                                    "0": "12",
                                    "1": "67515"
                                }
                            ]
                        },
                        "text/html": "<table><tr><th>month</th><th>sum</th></tr><tr><td>1</td><td>68633</td></tr><tr><td>2</td><td>59266</td></tr><tr><td>3</td><td>60370</td></tr><tr><td>4</td><td>64110</td></tr><tr><td>5</td><td>63102</td></tr><tr><td>6</td><td>60568</td></tr><tr><td>7</td><td>62004</td></tr><tr><td>8</td><td>59499</td></tr><tr><td>9</td><td>62852</td></tr><tr><td>10</td><td>62671</td></tr><tr><td>11</td><td>62372</td></tr><tr><td>12</td><td>67515</td></tr></table>"
                    }
                }
            ],
            "execution_count": 1
        },
        {
            "cell_type": "code",
            "source": [
                "SELECT \n",
                "    date_part('year',dt)::int \"year\",\n",
                "    date_part('quarter',dt)::int \"quarter\",\n",
                "    date_part('month',dt)::int \"month\" ,\n",
                "    sum(revenue)\n",
                "    from sales\n",
                "    GROUP BY rollup(date_part('year',dt),date_part('quarter',dt),date_part('month',dt))\n",
                "    ORDER BY \"year\",\"quarter\",\"month\""
            ],
            "metadata": {
                "azdata_cell_guid": "f1dca79f-70eb-4c4f-95ca-ba2ec04f23c0"
            },
            "outputs": [
                {
                    "output_type": "display_data",
                    "data": {
                        "text/html": "(35 row(s) affected)"
                    },
                    "metadata": {}
                },
                {
                    "output_type": "display_data",
                    "data": {
                        "text/html": "Total execution time: 00:00:00.013"
                    },
                    "metadata": {}
                },
                {
                    "output_type": "execute_result",
                    "metadata": {},
                    "execution_count": 7,
                    "data": {
                        "application/vnd.dataresource+json": {
                            "schema": {
                                "fields": [
                                    {
                                        "name": "year"
                                    },
                                    {
                                        "name": "quarter"
                                    },
                                    {
                                        "name": "month"
                                    },
                                    {
                                        "name": "sum"
                                    }
                                ]
                            },
                            "data": [
                                {
                                    "0": "2018",
                                    "1": "1",
                                    "2": "1",
                                    "3": "35528"
                                },
                                {
                                    "0": "2018",
                                    "1": "1",
                                    "2": "2",
                                    "3": "29629"
                                },
                                {
                                    "0": "2018",
                                    "1": "1",
                                    "2": "3",
                                    "3": "30477"
                                },
                                {
                                    "0": "2018",
                                    "1": "1",
                                    "2": "NULL",
                                    "3": "95634"
                                },
                                {
                                    "0": "2018",
                                    "1": "2",
                                    "2": "4",
                                    "3": "33973"
                                },
                                {
                                    "0": "2018",
                                    "1": "2",
                                    "2": "5",
                                    "3": "32945"
                                },
                                {
                                    "0": "2018",
                                    "1": "2",
                                    "2": "6",
                                    "3": "26866"
                                },
                                {
                                    "0": "2018",
                                    "1": "2",
                                    "2": "NULL",
                                    "3": "93784"
                                },
                                {
                                    "0": "2018",
                                    "1": "3",
                                    "2": "7",
                                    "3": "30389"
                                },
                                {
                                    "0": "2018",
                                    "1": "3",
                                    "2": "8",
                                    "3": "31047"
                                },
                                {
                                    "0": "2018",
                                    "1": "3",
                                    "2": "9",
                                    "3": "30214"
                                },
                                {
                                    "0": "2018",
                                    "1": "3",
                                    "2": "NULL",
                                    "3": "91650"
                                },
                                {
                                    "0": "2018",
                                    "1": "4",
                                    "2": "10",
                                    "3": "33776"
                                },
                                {
                                    "0": "2018",
                                    "1": "4",
                                    "2": "11",
                                    "3": "31771"
                                },
                                {
                                    "0": "2018",
                                    "1": "4",
                                    "2": "12",
                                    "3": "30530"
                                },
                                {
                                    "0": "2018",
                                    "1": "4",
                                    "2": "NULL",
                                    "3": "96077"
                                },
                                {
                                    "0": "2018",
                                    "1": "NULL",
                                    "2": "NULL",
                                    "3": "377145"
                                },
                                {
                                    "0": "2019",
                                    "1": "1",
                                    "2": "1",
                                    "3": "33105"
                                },
                                {
                                    "0": "2019",
                                    "1": "1",
                                    "2": "2",
                                    "3": "29637"
                                },
                                {
                                    "0": "2019",
                                    "1": "1",
                                    "2": "3",
                                    "3": "29893"
                                },
                                {
                                    "0": "2019",
                                    "1": "1",
                                    "2": "NULL",
                                    "3": "92635"
                                },
                                {
                                    "0": "2019",
                                    "1": "2",
                                    "2": "4",
                                    "3": "30137"
                                },
                                {
                                    "0": "2019",
                                    "1": "2",
                                    "2": "5",
                                    "3": "30157"
                                },
                                {
                                    "0": "2019",
                                    "1": "2",
                                    "2": "6",
                                    "3": "33702"
                                },
                                {
                                    "0": "2019",
                                    "1": "2",
                                    "2": "NULL",
                                    "3": "93996"
                                },
                                {
                                    "0": "2019",
                                    "1": "3",
                                    "2": "7",
                                    "3": "31615"
                                },
                                {
                                    "0": "2019",
                                    "1": "3",
                                    "2": "8",
                                    "3": "28452"
                                },
                                {
                                    "0": "2019",
                                    "1": "3",
                                    "2": "9",
                                    "3": "32638"
                                },
                                {
                                    "0": "2019",
                                    "1": "3",
                                    "2": "NULL",
                                    "3": "92705"
                                },
                                {
                                    "0": "2019",
                                    "1": "4",
                                    "2": "10",
                                    "3": "28895"
                                },
                                {
                                    "0": "2019",
                                    "1": "4",
                                    "2": "11",
                                    "3": "30601"
                                },
                                {
                                    "0": "2019",
                                    "1": "4",
                                    "2": "12",
                                    "3": "36985"
                                },
                                {
                                    "0": "2019",
                                    "1": "4",
                                    "2": "NULL",
                                    "3": "96481"
                                },
                                {
                                    "0": "2019",
                                    "1": "NULL",
                                    "2": "NULL",
                                    "3": "375817"
                                },
                                {
                                    "0": "NULL",
                                    "1": "NULL",
                                    "2": "NULL",
                                    "3": "752962"
                                }
                            ]
                        },
                        "text/html": "<table><tr><th>year</th><th>quarter</th><th>month</th><th>sum</th></tr><tr><td>2018</td><td>1</td><td>1</td><td>35528</td></tr><tr><td>2018</td><td>1</td><td>2</td><td>29629</td></tr><tr><td>2018</td><td>1</td><td>3</td><td>30477</td></tr><tr><td>2018</td><td>1</td><td>NULL</td><td>95634</td></tr><tr><td>2018</td><td>2</td><td>4</td><td>33973</td></tr><tr><td>2018</td><td>2</td><td>5</td><td>32945</td></tr><tr><td>2018</td><td>2</td><td>6</td><td>26866</td></tr><tr><td>2018</td><td>2</td><td>NULL</td><td>93784</td></tr><tr><td>2018</td><td>3</td><td>7</td><td>30389</td></tr><tr><td>2018</td><td>3</td><td>8</td><td>31047</td></tr><tr><td>2018</td><td>3</td><td>9</td><td>30214</td></tr><tr><td>2018</td><td>3</td><td>NULL</td><td>91650</td></tr><tr><td>2018</td><td>4</td><td>10</td><td>33776</td></tr><tr><td>2018</td><td>4</td><td>11</td><td>31771</td></tr><tr><td>2018</td><td>4</td><td>12</td><td>30530</td></tr><tr><td>2018</td><td>4</td><td>NULL</td><td>96077</td></tr><tr><td>2018</td><td>NULL</td><td>NULL</td><td>377145</td></tr><tr><td>2019</td><td>1</td><td>1</td><td>33105</td></tr><tr><td>2019</td><td>1</td><td>2</td><td>29637</td></tr><tr><td>2019</td><td>1</td><td>3</td><td>29893</td></tr><tr><td>2019</td><td>1</td><td>NULL</td><td>92635</td></tr><tr><td>2019</td><td>2</td><td>4</td><td>30137</td></tr><tr><td>2019</td><td>2</td><td>5</td><td>30157</td></tr><tr><td>2019</td><td>2</td><td>6</td><td>33702</td></tr><tr><td>2019</td><td>2</td><td>NULL</td><td>93996</td></tr><tr><td>2019</td><td>3</td><td>7</td><td>31615</td></tr><tr><td>2019</td><td>3</td><td>8</td><td>28452</td></tr><tr><td>2019</td><td>3</td><td>9</td><td>32638</td></tr><tr><td>2019</td><td>3</td><td>NULL</td><td>92705</td></tr><tr><td>2019</td><td>4</td><td>10</td><td>28895</td></tr><tr><td>2019</td><td>4</td><td>11</td><td>30601</td></tr><tr><td>2019</td><td>4</td><td>12</td><td>36985</td></tr><tr><td>2019</td><td>4</td><td>NULL</td><td>96481</td></tr><tr><td>2019</td><td>NULL</td><td>NULL</td><td>375817</td></tr><tr><td>NULL</td><td>NULL</td><td>NULL</td><td>752962</td></tr></table>"
                    }
                }
            ],
            "execution_count": 7
        },
        {
            "cell_type": "markdown",
            "source": [
                "# ใช้แบบ grouping "
            ],
            "metadata": {
                "azdata_cell_guid": "c143154c-0d4f-4f77-9c7d-bda127132336"
            }
        },
        {
            "cell_type": "code",
            "source": [
                "SELECT \n",
                "    date_part('year',dt)::int \"year\",\n",
                "    date_part('quarter',dt)::int \"quarter\",\n",
                "    date_part('month',dt)::int \"month\" ,\n",
                "    sum(revenue)\n",
                "    from sales\n",
                "    -- GROUP BY rollup(date_part('year',dt),date_part('quarter',dt),date_part('month',dt))\n",
                "    group by grouping sets (\n",
                "        (date_part('year',dt),date_part('quarter',dt),date_part('month',dt)),\n",
                "        (date_part('year',dt),date_part('quarter',dt)),\n",
                "        date_part('year',dt),\n",
                "        ()\n",
                "    )\n",
                "    ORDER BY \"year\",\"quarter\",\"month\""
            ],
            "metadata": {
                "azdata_cell_guid": "29d0d7b6-7715-4943-bad8-ba94f68e3030"
            },
            "outputs": [
                {
                    "output_type": "display_data",
                    "data": {
                        "text/html": "(35 row(s) affected)"
                    },
                    "metadata": {}
                },
                {
                    "output_type": "display_data",
                    "data": {
                        "text/html": "Total execution time: 00:00:00.013"
                    },
                    "metadata": {}
                },
                {
                    "output_type": "execute_result",
                    "metadata": {},
                    "execution_count": 8,
                    "data": {
                        "application/vnd.dataresource+json": {
                            "schema": {
                                "fields": [
                                    {
                                        "name": "year"
                                    },
                                    {
                                        "name": "quarter"
                                    },
                                    {
                                        "name": "month"
                                    },
                                    {
                                        "name": "sum"
                                    }
                                ]
                            },
                            "data": [
                                {
                                    "0": "2018",
                                    "1": "1",
                                    "2": "1",
                                    "3": "35528"
                                },
                                {
                                    "0": "2018",
                                    "1": "1",
                                    "2": "2",
                                    "3": "29629"
                                },
                                {
                                    "0": "2018",
                                    "1": "1",
                                    "2": "3",
                                    "3": "30477"
                                },
                                {
                                    "0": "2018",
                                    "1": "1",
                                    "2": "NULL",
                                    "3": "95634"
                                },
                                {
                                    "0": "2018",
                                    "1": "2",
                                    "2": "4",
                                    "3": "33973"
                                },
                                {
                                    "0": "2018",
                                    "1": "2",
                                    "2": "5",
                                    "3": "32945"
                                },
                                {
                                    "0": "2018",
                                    "1": "2",
                                    "2": "6",
                                    "3": "26866"
                                },
                                {
                                    "0": "2018",
                                    "1": "2",
                                    "2": "NULL",
                                    "3": "93784"
                                },
                                {
                                    "0": "2018",
                                    "1": "3",
                                    "2": "7",
                                    "3": "30389"
                                },
                                {
                                    "0": "2018",
                                    "1": "3",
                                    "2": "8",
                                    "3": "31047"
                                },
                                {
                                    "0": "2018",
                                    "1": "3",
                                    "2": "9",
                                    "3": "30214"
                                },
                                {
                                    "0": "2018",
                                    "1": "3",
                                    "2": "NULL",
                                    "3": "91650"
                                },
                                {
                                    "0": "2018",
                                    "1": "4",
                                    "2": "10",
                                    "3": "33776"
                                },
                                {
                                    "0": "2018",
                                    "1": "4",
                                    "2": "11",
                                    "3": "31771"
                                },
                                {
                                    "0": "2018",
                                    "1": "4",
                                    "2": "12",
                                    "3": "30530"
                                },
                                {
                                    "0": "2018",
                                    "1": "4",
                                    "2": "NULL",
                                    "3": "96077"
                                },
                                {
                                    "0": "2018",
                                    "1": "NULL",
                                    "2": "NULL",
                                    "3": "377145"
                                },
                                {
                                    "0": "2019",
                                    "1": "1",
                                    "2": "1",
                                    "3": "33105"
                                },
                                {
                                    "0": "2019",
                                    "1": "1",
                                    "2": "2",
                                    "3": "29637"
                                },
                                {
                                    "0": "2019",
                                    "1": "1",
                                    "2": "3",
                                    "3": "29893"
                                },
                                {
                                    "0": "2019",
                                    "1": "1",
                                    "2": "NULL",
                                    "3": "92635"
                                },
                                {
                                    "0": "2019",
                                    "1": "2",
                                    "2": "4",
                                    "3": "30137"
                                },
                                {
                                    "0": "2019",
                                    "1": "2",
                                    "2": "5",
                                    "3": "30157"
                                },
                                {
                                    "0": "2019",
                                    "1": "2",
                                    "2": "6",
                                    "3": "33702"
                                },
                                {
                                    "0": "2019",
                                    "1": "2",
                                    "2": "NULL",
                                    "3": "93996"
                                },
                                {
                                    "0": "2019",
                                    "1": "3",
                                    "2": "7",
                                    "3": "31615"
                                },
                                {
                                    "0": "2019",
                                    "1": "3",
                                    "2": "8",
                                    "3": "28452"
                                },
                                {
                                    "0": "2019",
                                    "1": "3",
                                    "2": "9",
                                    "3": "32638"
                                },
                                {
                                    "0": "2019",
                                    "1": "3",
                                    "2": "NULL",
                                    "3": "92705"
                                },
                                {
                                    "0": "2019",
                                    "1": "4",
                                    "2": "10",
                                    "3": "28895"
                                },
                                {
                                    "0": "2019",
                                    "1": "4",
                                    "2": "11",
                                    "3": "30601"
                                },
                                {
                                    "0": "2019",
                                    "1": "4",
                                    "2": "12",
                                    "3": "36985"
                                },
                                {
                                    "0": "2019",
                                    "1": "4",
                                    "2": "NULL",
                                    "3": "96481"
                                },
                                {
                                    "0": "2019",
                                    "1": "NULL",
                                    "2": "NULL",
                                    "3": "375817"
                                },
                                {
                                    "0": "NULL",
                                    "1": "NULL",
                                    "2": "NULL",
                                    "3": "752962"
                                }
                            ]
                        },
                        "text/html": "<table><tr><th>year</th><th>quarter</th><th>month</th><th>sum</th></tr><tr><td>2018</td><td>1</td><td>1</td><td>35528</td></tr><tr><td>2018</td><td>1</td><td>2</td><td>29629</td></tr><tr><td>2018</td><td>1</td><td>3</td><td>30477</td></tr><tr><td>2018</td><td>1</td><td>NULL</td><td>95634</td></tr><tr><td>2018</td><td>2</td><td>4</td><td>33973</td></tr><tr><td>2018</td><td>2</td><td>5</td><td>32945</td></tr><tr><td>2018</td><td>2</td><td>6</td><td>26866</td></tr><tr><td>2018</td><td>2</td><td>NULL</td><td>93784</td></tr><tr><td>2018</td><td>3</td><td>7</td><td>30389</td></tr><tr><td>2018</td><td>3</td><td>8</td><td>31047</td></tr><tr><td>2018</td><td>3</td><td>9</td><td>30214</td></tr><tr><td>2018</td><td>3</td><td>NULL</td><td>91650</td></tr><tr><td>2018</td><td>4</td><td>10</td><td>33776</td></tr><tr><td>2018</td><td>4</td><td>11</td><td>31771</td></tr><tr><td>2018</td><td>4</td><td>12</td><td>30530</td></tr><tr><td>2018</td><td>4</td><td>NULL</td><td>96077</td></tr><tr><td>2018</td><td>NULL</td><td>NULL</td><td>377145</td></tr><tr><td>2019</td><td>1</td><td>1</td><td>33105</td></tr><tr><td>2019</td><td>1</td><td>2</td><td>29637</td></tr><tr><td>2019</td><td>1</td><td>3</td><td>29893</td></tr><tr><td>2019</td><td>1</td><td>NULL</td><td>92635</td></tr><tr><td>2019</td><td>2</td><td>4</td><td>30137</td></tr><tr><td>2019</td><td>2</td><td>5</td><td>30157</td></tr><tr><td>2019</td><td>2</td><td>6</td><td>33702</td></tr><tr><td>2019</td><td>2</td><td>NULL</td><td>93996</td></tr><tr><td>2019</td><td>3</td><td>7</td><td>31615</td></tr><tr><td>2019</td><td>3</td><td>8</td><td>28452</td></tr><tr><td>2019</td><td>3</td><td>9</td><td>32638</td></tr><tr><td>2019</td><td>3</td><td>NULL</td><td>92705</td></tr><tr><td>2019</td><td>4</td><td>10</td><td>28895</td></tr><tr><td>2019</td><td>4</td><td>11</td><td>30601</td></tr><tr><td>2019</td><td>4</td><td>12</td><td>36985</td></tr><tr><td>2019</td><td>4</td><td>NULL</td><td>96481</td></tr><tr><td>2019</td><td>NULL</td><td>NULL</td><td>375817</td></tr><tr><td>NULL</td><td>NULL</td><td>NULL</td><td>752962</td></tr></table>"
                    }
                }
            ],
            "execution_count": 8
        },
        {
            "cell_type": "markdown",
            "source": [
                "# แยกตามสาขา"
            ],
            "metadata": {
                "azdata_cell_guid": "c224308a-7056-4762-9e0e-46a2f2dd7d07"
            }
        },
        {
            "cell_type": "code",
            "source": [
                "SELECT branch,\n",
                "        date_part('year',dt)::int \"year\",\n",
                "        date_part('quarter',dt)::int \"quarter\",\n",
                "        date_part('month',dt)::int \"month\" ,\n",
                "        sum(revenue)\n",
                "    from sales\n",
                "    GROUP BY rollup(branch,date_part('year',dt),date_part('quarter',dt),date_part('month',dt))\n",
                "    ORDER BY branch,\"year\",\"quarter\",\"month\""
            ],
            "metadata": {
                "azdata_cell_guid": "aa64d382-13c3-4b2d-ba18-28ca3d052a27"
            },
            "outputs": [
                {
                    "output_type": "display_data",
                    "data": {
                        "text/html": "(71 row(s) affected)"
                    },
                    "metadata": {}
                },
                {
                    "output_type": "display_data",
                    "data": {
                        "text/html": "Total execution time: 00:00:00.016"
                    },
                    "metadata": {}
                },
                {
                    "output_type": "execute_result",
                    "metadata": {},
                    "execution_count": 17,
                    "data": {
                        "application/vnd.dataresource+json": {
                            "schema": {
                                "fields": [
                                    {
                                        "name": "branch"
                                    },
                                    {
                                        "name": "year"
                                    },
                                    {
                                        "name": "quarter"
                                    },
                                    {
                                        "name": "month"
                                    },
                                    {
                                        "name": "sum"
                                    }
                                ]
                            },
                            "data": [
                                {
                                    "0": "bangkok",
                                    "1": "2018",
                                    "2": "1",
                                    "3": "1",
                                    "4": "20728"
                                },
                                {
                                    "0": "bangkok",
                                    "1": "2018",
                                    "2": "1",
                                    "3": "2",
                                    "4": "15822"
                                },
                                {
                                    "0": "bangkok",
                                    "1": "2018",
                                    "2": "1",
                                    "3": "3",
                                    "4": "17184"
                                },
                                {
                                    "0": "bangkok",
                                    "1": "2018",
                                    "2": "1",
                                    "3": "NULL",
                                    "4": "53734"
                                },
                                {
                                    "0": "bangkok",
                                    "1": "2018",
                                    "2": "2",
                                    "3": "4",
                                    "4": "21011"
                                },
                                {
                                    "0": "bangkok",
                                    "1": "2018",
                                    "2": "2",
                                    "3": "5",
                                    "4": "18634"
                                },
                                {
                                    "0": "bangkok",
                                    "1": "2018",
                                    "2": "2",
                                    "3": "6",
                                    "4": "14029"
                                },
                                {
                                    "0": "bangkok",
                                    "1": "2018",
                                    "2": "2",
                                    "3": "NULL",
                                    "4": "53674"
                                },
                                {
                                    "0": "bangkok",
                                    "1": "2018",
                                    "2": "3",
                                    "3": "7",
                                    "4": "17666"
                                },
                                {
                                    "0": "bangkok",
                                    "1": "2018",
                                    "2": "3",
                                    "3": "8",
                                    "4": "16647"
                                },
                                {
                                    "0": "bangkok",
                                    "1": "2018",
                                    "2": "3",
                                    "3": "9",
                                    "4": "17154"
                                },
                                {
                                    "0": "bangkok",
                                    "1": "2018",
                                    "2": "3",
                                    "3": "NULL",
                                    "4": "51467"
                                },
                                {
                                    "0": "bangkok",
                                    "1": "2018",
                                    "2": "4",
                                    "3": "10",
                                    "4": "19355"
                                },
                                {
                                    "0": "bangkok",
                                    "1": "2018",
                                    "2": "4",
                                    "3": "11",
                                    "4": "17175"
                                },
                                {
                                    "0": "bangkok",
                                    "1": "2018",
                                    "2": "4",
                                    "3": "12",
                                    "4": "17984"
                                },
                                {
                                    "0": "bangkok",
                                    "1": "2018",
                                    "2": "4",
                                    "3": "NULL",
                                    "4": "54514"
                                },
                                {
                                    "0": "bangkok",
                                    "1": "2018",
                                    "2": "NULL",
                                    "3": "NULL",
                                    "4": "213389"
                                },
                                {
                                    "0": "bangkok",
                                    "1": "2019",
                                    "2": "1",
                                    "3": "1",
                                    "4": "18841"
                                },
                                {
                                    "0": "bangkok",
                                    "1": "2019",
                                    "2": "1",
                                    "3": "2",
                                    "4": "17187"
                                },
                                {
                                    "0": "bangkok",
                                    "1": "2019",
                                    "2": "1",
                                    "3": "3",
                                    "4": "17162"
                                },
                                {
                                    "0": "bangkok",
                                    "1": "2019",
                                    "2": "1",
                                    "3": "NULL",
                                    "4": "53190"
                                },
                                {
                                    "0": "bangkok",
                                    "1": "2019",
                                    "2": "2",
                                    "3": "4",
                                    "4": "15779"
                                },
                                {
                                    "0": "bangkok",
                                    "1": "2019",
                                    "2": "2",
                                    "3": "5",
                                    "4": "18497"
                                },
                                {
                                    "0": "bangkok",
                                    "1": "2019",
                                    "2": "2",
                                    "3": "6",
                                    "4": "19417"
                                },
                                {
                                    "0": "bangkok",
                                    "1": "2019",
                                    "2": "2",
                                    "3": "NULL",
                                    "4": "53693"
                                },
                                {
                                    "0": "bangkok",
                                    "1": "2019",
                                    "2": "3",
                                    "3": "7",
                                    "4": "17651"
                                },
                                {
                                    "0": "bangkok",
                                    "1": "2019",
                                    "2": "3",
                                    "3": "8",
                                    "4": "14706"
                                },
                                {
                                    "0": "bangkok",
                                    "1": "2019",
                                    "2": "3",
                                    "3": "9",
                                    "4": "18067"
                                },
                                {
                                    "0": "bangkok",
                                    "1": "2019",
                                    "2": "3",
                                    "3": "NULL",
                                    "4": "50424"
                                },
                                {
                                    "0": "bangkok",
                                    "1": "2019",
                                    "2": "4",
                                    "3": "10",
                                    "4": "16874"
                                },
                                {
                                    "0": "bangkok",
                                    "1": "2019",
                                    "2": "4",
                                    "3": "11",
                                    "4": "17779"
                                },
                                {
                                    "0": "bangkok",
                                    "1": "2019",
                                    "2": "4",
                                    "3": "12",
                                    "4": "20052"
                                },
                                {
                                    "0": "bangkok",
                                    "1": "2019",
                                    "2": "4",
                                    "3": "NULL",
                                    "4": "54705"
                                },
                                {
                                    "0": "bangkok",
                                    "1": "2019",
                                    "2": "NULL",
                                    "3": "NULL",
                                    "4": "212012"
                                },
                                {
                                    "0": "bangkok",
                                    "1": "NULL",
                                    "2": "NULL",
                                    "3": "NULL",
                                    "4": "425401"
                                },
                                {
                                    "0": "phuket",
                                    "1": "2018",
                                    "2": "1",
                                    "3": "1",
                                    "4": "14800"
                                },
                                {
                                    "0": "phuket",
                                    "1": "2018",
                                    "2": "1",
                                    "3": "2",
                                    "4": "13807"
                                },
                                {
                                    "0": "phuket",
                                    "1": "2018",
                                    "2": "1",
                                    "3": "3",
                                    "4": "13293"
                                },
                                {
                                    "0": "phuket",
                                    "1": "2018",
                                    "2": "1",
                                    "3": "NULL",
                                    "4": "41900"
                                },
                                {
                                    "0": "phuket",
                                    "1": "2018",
                                    "2": "2",
                                    "3": "4",
                                    "4": "12962"
                                },
                                {
                                    "0": "phuket",
                                    "1": "2018",
                                    "2": "2",
                                    "3": "5",
                                    "4": "14311"
                                },
                                {
                                    "0": "phuket",
                                    "1": "2018",
                                    "2": "2",
                                    "3": "6",
                                    "4": "12837"
                                },
                                {
                                    "0": "phuket",
                                    "1": "2018",
                                    "2": "2",
                                    "3": "NULL",
                                    "4": "40110"
                                },
                                {
                                    "0": "phuket",
                                    "1": "2018",
                                    "2": "3",
                                    "3": "7",
                                    "4": "12723"
                                },
                                {
                                    "0": "phuket",
                                    "1": "2018",
                                    "2": "3",
                                    "3": "8",
                                    "4": "14400"
                                },
                                {
                                    "0": "phuket",
                                    "1": "2018",
                                    "2": "3",
                                    "3": "9",
                                    "4": "13060"
                                },
                                {
                                    "0": "phuket",
                                    "1": "2018",
                                    "2": "3",
                                    "3": "NULL",
                                    "4": "40183"
                                },
                                {
                                    "0": "phuket",
                                    "1": "2018",
                                    "2": "4",
                                    "3": "10",
                                    "4": "14421"
                                },
                                {
                                    "0": "phuket",
                                    "1": "2018",
                                    "2": "4",
                                    "3": "11",
                                    "4": "14596"
                                },
                                {
                                    "0": "phuket",
                                    "1": "2018",
                                    "2": "4",
                                    "3": "12",
                                    "4": "12546"
                                },
                                {
                                    "0": "phuket",
                                    "1": "2018",
                                    "2": "4",
                                    "3": "NULL",
                                    "4": "41563"
                                },
                                {
                                    "0": "phuket",
                                    "1": "2018",
                                    "2": "NULL",
                                    "3": "NULL",
                                    "4": "163756"
                                },
                                {
                                    "0": "phuket",
                                    "1": "2019",
                                    "2": "1",
                                    "3": "1",
                                    "4": "14264"
                                },
                                {
                                    "0": "phuket",
                                    "1": "2019",
                                    "2": "1",
                                    "3": "2",
                                    "4": "12450"
                                },
                                {
                                    "0": "phuket",
                                    "1": "2019",
                                    "2": "1",
                                    "3": "3",
                                    "4": "12731"
                                },
                                {
                                    "0": "phuket",
                                    "1": "2019",
                                    "2": "1",
                                    "3": "NULL",
                                    "4": "39445"
                                },
                                {
                                    "0": "phuket",
                                    "1": "2019",
                                    "2": "2",
                                    "3": "4",
                                    "4": "14358"
                                },
                                {
                                    "0": "phuket",
                                    "1": "2019",
                                    "2": "2",
                                    "3": "5",
                                    "4": "11660"
                                },
                                {
                                    "0": "phuket",
                                    "1": "2019",
                                    "2": "2",
                                    "3": "6",
                                    "4": "14285"
                                },
                                {
                                    "0": "phuket",
                                    "1": "2019",
                                    "2": "2",
                                    "3": "NULL",
                                    "4": "40303"
                                },
                                {
                                    "0": "phuket",
                                    "1": "2019",
                                    "2": "3",
                                    "3": "7",
                                    "4": "13964"
                                },
                                {
                                    "0": "phuket",
                                    "1": "2019",
                                    "2": "3",
                                    "3": "8",
                                    "4": "13746"
                                },
                                {
                                    "0": "phuket",
                                    "1": "2019",
                                    "2": "3",
                                    "3": "9",
                                    "4": "14571"
                                },
                                {
                                    "0": "phuket",
                                    "1": "2019",
                                    "2": "3",
                                    "3": "NULL",
                                    "4": "42281"
                                },
                                {
                                    "0": "phuket",
                                    "1": "2019",
                                    "2": "4",
                                    "3": "10",
                                    "4": "12021"
                                },
                                {
                                    "0": "phuket",
                                    "1": "2019",
                                    "2": "4",
                                    "3": "11",
                                    "4": "12822"
                                },
                                {
                                    "0": "phuket",
                                    "1": "2019",
                                    "2": "4",
                                    "3": "12",
                                    "4": "16933"
                                },
                                {
                                    "0": "phuket",
                                    "1": "2019",
                                    "2": "4",
                                    "3": "NULL",
                                    "4": "41776"
                                },
                                {
                                    "0": "phuket",
                                    "1": "2019",
                                    "2": "NULL",
                                    "3": "NULL",
                                    "4": "163805"
                                },
                                {
                                    "0": "phuket",
                                    "1": "NULL",
                                    "2": "NULL",
                                    "3": "NULL",
                                    "4": "327561"
                                },
                                {
                                    "0": "NULL",
                                    "1": "NULL",
                                    "2": "NULL",
                                    "3": "NULL",
                                    "4": "752962"
                                }
                            ]
                        },
                        "text/html": "<table><tr><th>branch</th><th>year</th><th>quarter</th><th>month</th><th>sum</th></tr><tr><td>bangkok</td><td>2018</td><td>1</td><td>1</td><td>20728</td></tr><tr><td>bangkok</td><td>2018</td><td>1</td><td>2</td><td>15822</td></tr><tr><td>bangkok</td><td>2018</td><td>1</td><td>3</td><td>17184</td></tr><tr><td>bangkok</td><td>2018</td><td>1</td><td>NULL</td><td>53734</td></tr><tr><td>bangkok</td><td>2018</td><td>2</td><td>4</td><td>21011</td></tr><tr><td>bangkok</td><td>2018</td><td>2</td><td>5</td><td>18634</td></tr><tr><td>bangkok</td><td>2018</td><td>2</td><td>6</td><td>14029</td></tr><tr><td>bangkok</td><td>2018</td><td>2</td><td>NULL</td><td>53674</td></tr><tr><td>bangkok</td><td>2018</td><td>3</td><td>7</td><td>17666</td></tr><tr><td>bangkok</td><td>2018</td><td>3</td><td>8</td><td>16647</td></tr><tr><td>bangkok</td><td>2018</td><td>3</td><td>9</td><td>17154</td></tr><tr><td>bangkok</td><td>2018</td><td>3</td><td>NULL</td><td>51467</td></tr><tr><td>bangkok</td><td>2018</td><td>4</td><td>10</td><td>19355</td></tr><tr><td>bangkok</td><td>2018</td><td>4</td><td>11</td><td>17175</td></tr><tr><td>bangkok</td><td>2018</td><td>4</td><td>12</td><td>17984</td></tr><tr><td>bangkok</td><td>2018</td><td>4</td><td>NULL</td><td>54514</td></tr><tr><td>bangkok</td><td>2018</td><td>NULL</td><td>NULL</td><td>213389</td></tr><tr><td>bangkok</td><td>2019</td><td>1</td><td>1</td><td>18841</td></tr><tr><td>bangkok</td><td>2019</td><td>1</td><td>2</td><td>17187</td></tr><tr><td>bangkok</td><td>2019</td><td>1</td><td>3</td><td>17162</td></tr><tr><td>bangkok</td><td>2019</td><td>1</td><td>NULL</td><td>53190</td></tr><tr><td>bangkok</td><td>2019</td><td>2</td><td>4</td><td>15779</td></tr><tr><td>bangkok</td><td>2019</td><td>2</td><td>5</td><td>18497</td></tr><tr><td>bangkok</td><td>2019</td><td>2</td><td>6</td><td>19417</td></tr><tr><td>bangkok</td><td>2019</td><td>2</td><td>NULL</td><td>53693</td></tr><tr><td>bangkok</td><td>2019</td><td>3</td><td>7</td><td>17651</td></tr><tr><td>bangkok</td><td>2019</td><td>3</td><td>8</td><td>14706</td></tr><tr><td>bangkok</td><td>2019</td><td>3</td><td>9</td><td>18067</td></tr><tr><td>bangkok</td><td>2019</td><td>3</td><td>NULL</td><td>50424</td></tr><tr><td>bangkok</td><td>2019</td><td>4</td><td>10</td><td>16874</td></tr><tr><td>bangkok</td><td>2019</td><td>4</td><td>11</td><td>17779</td></tr><tr><td>bangkok</td><td>2019</td><td>4</td><td>12</td><td>20052</td></tr><tr><td>bangkok</td><td>2019</td><td>4</td><td>NULL</td><td>54705</td></tr><tr><td>bangkok</td><td>2019</td><td>NULL</td><td>NULL</td><td>212012</td></tr><tr><td>bangkok</td><td>NULL</td><td>NULL</td><td>NULL</td><td>425401</td></tr><tr><td>phuket</td><td>2018</td><td>1</td><td>1</td><td>14800</td></tr><tr><td>phuket</td><td>2018</td><td>1</td><td>2</td><td>13807</td></tr><tr><td>phuket</td><td>2018</td><td>1</td><td>3</td><td>13293</td></tr><tr><td>phuket</td><td>2018</td><td>1</td><td>NULL</td><td>41900</td></tr><tr><td>phuket</td><td>2018</td><td>2</td><td>4</td><td>12962</td></tr><tr><td>phuket</td><td>2018</td><td>2</td><td>5</td><td>14311</td></tr><tr><td>phuket</td><td>2018</td><td>2</td><td>6</td><td>12837</td></tr><tr><td>phuket</td><td>2018</td><td>2</td><td>NULL</td><td>40110</td></tr><tr><td>phuket</td><td>2018</td><td>3</td><td>7</td><td>12723</td></tr><tr><td>phuket</td><td>2018</td><td>3</td><td>8</td><td>14400</td></tr><tr><td>phuket</td><td>2018</td><td>3</td><td>9</td><td>13060</td></tr><tr><td>phuket</td><td>2018</td><td>3</td><td>NULL</td><td>40183</td></tr><tr><td>phuket</td><td>2018</td><td>4</td><td>10</td><td>14421</td></tr><tr><td>phuket</td><td>2018</td><td>4</td><td>11</td><td>14596</td></tr><tr><td>phuket</td><td>2018</td><td>4</td><td>12</td><td>12546</td></tr><tr><td>phuket</td><td>2018</td><td>4</td><td>NULL</td><td>41563</td></tr><tr><td>phuket</td><td>2018</td><td>NULL</td><td>NULL</td><td>163756</td></tr><tr><td>phuket</td><td>2019</td><td>1</td><td>1</td><td>14264</td></tr><tr><td>phuket</td><td>2019</td><td>1</td><td>2</td><td>12450</td></tr><tr><td>phuket</td><td>2019</td><td>1</td><td>3</td><td>12731</td></tr><tr><td>phuket</td><td>2019</td><td>1</td><td>NULL</td><td>39445</td></tr><tr><td>phuket</td><td>2019</td><td>2</td><td>4</td><td>14358</td></tr><tr><td>phuket</td><td>2019</td><td>2</td><td>5</td><td>11660</td></tr><tr><td>phuket</td><td>2019</td><td>2</td><td>6</td><td>14285</td></tr><tr><td>phuket</td><td>2019</td><td>2</td><td>NULL</td><td>40303</td></tr><tr><td>phuket</td><td>2019</td><td>3</td><td>7</td><td>13964</td></tr><tr><td>phuket</td><td>2019</td><td>3</td><td>8</td><td>13746</td></tr><tr><td>phuket</td><td>2019</td><td>3</td><td>9</td><td>14571</td></tr><tr><td>phuket</td><td>2019</td><td>3</td><td>NULL</td><td>42281</td></tr><tr><td>phuket</td><td>2019</td><td>4</td><td>10</td><td>12021</td></tr><tr><td>phuket</td><td>2019</td><td>4</td><td>11</td><td>12822</td></tr><tr><td>phuket</td><td>2019</td><td>4</td><td>12</td><td>16933</td></tr><tr><td>phuket</td><td>2019</td><td>4</td><td>NULL</td><td>41776</td></tr><tr><td>phuket</td><td>2019</td><td>NULL</td><td>NULL</td><td>163805</td></tr><tr><td>phuket</td><td>NULL</td><td>NULL</td><td>NULL</td><td>327561</td></tr><tr><td>NULL</td><td>NULL</td><td>NULL</td><td>NULL</td><td>752962</td></tr></table>"
                    }
                }
            ],
            "execution_count": 17
        },
        {
            "cell_type": "code",
            "source": [
                "SELECT branch,\n",
                "        date_part('year',dt)::int \"year\",\n",
                "        date_part('quarter',dt)::int \"quarter\",\n",
                "        date_part('month',dt)::int \"month\" ,\n",
                "        sum(revenue),\n",
                "        to_char(sum(revenue),'9G999G999G999')\n",
                "    from sales\n",
                "    -- GROUP BY rollup(branch,date_part('year',dt),date_part('quarter',dt),date_part('month',dt))\n",
                "    GROUP BY branch,rollup(date_part('year',dt),date_part('quarter',dt),date_part('month',dt))\n",
                "    ORDER BY branch,\"year\",\"quarter\",\"month\""
            ],
            "metadata": {
                "azdata_cell_guid": "15b4b7e3-7e39-4e51-9c2b-e6642906b9fd"
            },
            "outputs": [
                {
                    "output_type": "display_data",
                    "data": {
                        "text/html": "(70 row(s) affected)"
                    },
                    "metadata": {}
                },
                {
                    "output_type": "display_data",
                    "data": {
                        "text/html": "Total execution time: 00:00:00.028"
                    },
                    "metadata": {}
                },
                {
                    "output_type": "execute_result",
                    "metadata": {},
                    "execution_count": 19,
                    "data": {
                        "application/vnd.dataresource+json": {
                            "schema": {
                                "fields": [
                                    {
                                        "name": "branch"
                                    },
                                    {
                                        "name": "year"
                                    },
                                    {
                                        "name": "quarter"
                                    },
                                    {
                                        "name": "month"
                                    },
                                    {
                                        "name": "sum"
                                    },
                                    {
                                        "name": "to_char"
                                    }
                                ]
                            },
                            "data": [
                                {
                                    "0": "bangkok",
                                    "1": "2018",
                                    "2": "1",
                                    "3": "1",
                                    "4": "20728",
                                    "5": "        20,728"
                                },
                                {
                                    "0": "bangkok",
                                    "1": "2018",
                                    "2": "1",
                                    "3": "2",
                                    "4": "15822",
                                    "5": "        15,822"
                                },
                                {
                                    "0": "bangkok",
                                    "1": "2018",
                                    "2": "1",
                                    "3": "3",
                                    "4": "17184",
                                    "5": "        17,184"
                                },
                                {
                                    "0": "bangkok",
                                    "1": "2018",
                                    "2": "1",
                                    "3": "NULL",
                                    "4": "53734",
                                    "5": "        53,734"
                                },
                                {
                                    "0": "bangkok",
                                    "1": "2018",
                                    "2": "2",
                                    "3": "4",
                                    "4": "21011",
                                    "5": "        21,011"
                                },
                                {
                                    "0": "bangkok",
                                    "1": "2018",
                                    "2": "2",
                                    "3": "5",
                                    "4": "18634",
                                    "5": "        18,634"
                                },
                                {
                                    "0": "bangkok",
                                    "1": "2018",
                                    "2": "2",
                                    "3": "6",
                                    "4": "14029",
                                    "5": "        14,029"
                                },
                                {
                                    "0": "bangkok",
                                    "1": "2018",
                                    "2": "2",
                                    "3": "NULL",
                                    "4": "53674",
                                    "5": "        53,674"
                                },
                                {
                                    "0": "bangkok",
                                    "1": "2018",
                                    "2": "3",
                                    "3": "7",
                                    "4": "17666",
                                    "5": "        17,666"
                                },
                                {
                                    "0": "bangkok",
                                    "1": "2018",
                                    "2": "3",
                                    "3": "8",
                                    "4": "16647",
                                    "5": "        16,647"
                                },
                                {
                                    "0": "bangkok",
                                    "1": "2018",
                                    "2": "3",
                                    "3": "9",
                                    "4": "17154",
                                    "5": "        17,154"
                                },
                                {
                                    "0": "bangkok",
                                    "1": "2018",
                                    "2": "3",
                                    "3": "NULL",
                                    "4": "51467",
                                    "5": "        51,467"
                                },
                                {
                                    "0": "bangkok",
                                    "1": "2018",
                                    "2": "4",
                                    "3": "10",
                                    "4": "19355",
                                    "5": "        19,355"
                                },
                                {
                                    "0": "bangkok",
                                    "1": "2018",
                                    "2": "4",
                                    "3": "11",
                                    "4": "17175",
                                    "5": "        17,175"
                                },
                                {
                                    "0": "bangkok",
                                    "1": "2018",
                                    "2": "4",
                                    "3": "12",
                                    "4": "17984",
                                    "5": "        17,984"
                                },
                                {
                                    "0": "bangkok",
                                    "1": "2018",
                                    "2": "4",
                                    "3": "NULL",
                                    "4": "54514",
                                    "5": "        54,514"
                                },
                                {
                                    "0": "bangkok",
                                    "1": "2018",
                                    "2": "NULL",
                                    "3": "NULL",
                                    "4": "213389",
                                    "5": "       213,389"
                                },
                                {
                                    "0": "bangkok",
                                    "1": "2019",
                                    "2": "1",
                                    "3": "1",
                                    "4": "18841",
                                    "5": "        18,841"
                                },
                                {
                                    "0": "bangkok",
                                    "1": "2019",
                                    "2": "1",
                                    "3": "2",
                                    "4": "17187",
                                    "5": "        17,187"
                                },
                                {
                                    "0": "bangkok",
                                    "1": "2019",
                                    "2": "1",
                                    "3": "3",
                                    "4": "17162",
                                    "5": "        17,162"
                                },
                                {
                                    "0": "bangkok",
                                    "1": "2019",
                                    "2": "1",
                                    "3": "NULL",
                                    "4": "53190",
                                    "5": "        53,190"
                                },
                                {
                                    "0": "bangkok",
                                    "1": "2019",
                                    "2": "2",
                                    "3": "4",
                                    "4": "15779",
                                    "5": "        15,779"
                                },
                                {
                                    "0": "bangkok",
                                    "1": "2019",
                                    "2": "2",
                                    "3": "5",
                                    "4": "18497",
                                    "5": "        18,497"
                                },
                                {
                                    "0": "bangkok",
                                    "1": "2019",
                                    "2": "2",
                                    "3": "6",
                                    "4": "19417",
                                    "5": "        19,417"
                                },
                                {
                                    "0": "bangkok",
                                    "1": "2019",
                                    "2": "2",
                                    "3": "NULL",
                                    "4": "53693",
                                    "5": "        53,693"
                                },
                                {
                                    "0": "bangkok",
                                    "1": "2019",
                                    "2": "3",
                                    "3": "7",
                                    "4": "17651",
                                    "5": "        17,651"
                                },
                                {
                                    "0": "bangkok",
                                    "1": "2019",
                                    "2": "3",
                                    "3": "8",
                                    "4": "14706",
                                    "5": "        14,706"
                                },
                                {
                                    "0": "bangkok",
                                    "1": "2019",
                                    "2": "3",
                                    "3": "9",
                                    "4": "18067",
                                    "5": "        18,067"
                                },
                                {
                                    "0": "bangkok",
                                    "1": "2019",
                                    "2": "3",
                                    "3": "NULL",
                                    "4": "50424",
                                    "5": "        50,424"
                                },
                                {
                                    "0": "bangkok",
                                    "1": "2019",
                                    "2": "4",
                                    "3": "10",
                                    "4": "16874",
                                    "5": "        16,874"
                                },
                                {
                                    "0": "bangkok",
                                    "1": "2019",
                                    "2": "4",
                                    "3": "11",
                                    "4": "17779",
                                    "5": "        17,779"
                                },
                                {
                                    "0": "bangkok",
                                    "1": "2019",
                                    "2": "4",
                                    "3": "12",
                                    "4": "20052",
                                    "5": "        20,052"
                                },
                                {
                                    "0": "bangkok",
                                    "1": "2019",
                                    "2": "4",
                                    "3": "NULL",
                                    "4": "54705",
                                    "5": "        54,705"
                                },
                                {
                                    "0": "bangkok",
                                    "1": "2019",
                                    "2": "NULL",
                                    "3": "NULL",
                                    "4": "212012",
                                    "5": "       212,012"
                                },
                                {
                                    "0": "bangkok",
                                    "1": "NULL",
                                    "2": "NULL",
                                    "3": "NULL",
                                    "4": "425401",
                                    "5": "       425,401"
                                },
                                {
                                    "0": "phuket",
                                    "1": "2018",
                                    "2": "1",
                                    "3": "1",
                                    "4": "14800",
                                    "5": "        14,800"
                                },
                                {
                                    "0": "phuket",
                                    "1": "2018",
                                    "2": "1",
                                    "3": "2",
                                    "4": "13807",
                                    "5": "        13,807"
                                },
                                {
                                    "0": "phuket",
                                    "1": "2018",
                                    "2": "1",
                                    "3": "3",
                                    "4": "13293",
                                    "5": "        13,293"
                                },
                                {
                                    "0": "phuket",
                                    "1": "2018",
                                    "2": "1",
                                    "3": "NULL",
                                    "4": "41900",
                                    "5": "        41,900"
                                },
                                {
                                    "0": "phuket",
                                    "1": "2018",
                                    "2": "2",
                                    "3": "4",
                                    "4": "12962",
                                    "5": "        12,962"
                                },
                                {
                                    "0": "phuket",
                                    "1": "2018",
                                    "2": "2",
                                    "3": "5",
                                    "4": "14311",
                                    "5": "        14,311"
                                },
                                {
                                    "0": "phuket",
                                    "1": "2018",
                                    "2": "2",
                                    "3": "6",
                                    "4": "12837",
                                    "5": "        12,837"
                                },
                                {
                                    "0": "phuket",
                                    "1": "2018",
                                    "2": "2",
                                    "3": "NULL",
                                    "4": "40110",
                                    "5": "        40,110"
                                },
                                {
                                    "0": "phuket",
                                    "1": "2018",
                                    "2": "3",
                                    "3": "7",
                                    "4": "12723",
                                    "5": "        12,723"
                                },
                                {
                                    "0": "phuket",
                                    "1": "2018",
                                    "2": "3",
                                    "3": "8",
                                    "4": "14400",
                                    "5": "        14,400"
                                },
                                {
                                    "0": "phuket",
                                    "1": "2018",
                                    "2": "3",
                                    "3": "9",
                                    "4": "13060",
                                    "5": "        13,060"
                                },
                                {
                                    "0": "phuket",
                                    "1": "2018",
                                    "2": "3",
                                    "3": "NULL",
                                    "4": "40183",
                                    "5": "        40,183"
                                },
                                {
                                    "0": "phuket",
                                    "1": "2018",
                                    "2": "4",
                                    "3": "10",
                                    "4": "14421",
                                    "5": "        14,421"
                                },
                                {
                                    "0": "phuket",
                                    "1": "2018",
                                    "2": "4",
                                    "3": "11",
                                    "4": "14596",
                                    "5": "        14,596"
                                },
                                {
                                    "0": "phuket",
                                    "1": "2018",
                                    "2": "4",
                                    "3": "12",
                                    "4": "12546",
                                    "5": "        12,546"
                                },
                                {
                                    "0": "phuket",
                                    "1": "2018",
                                    "2": "4",
                                    "3": "NULL",
                                    "4": "41563",
                                    "5": "        41,563"
                                },
                                {
                                    "0": "phuket",
                                    "1": "2018",
                                    "2": "NULL",
                                    "3": "NULL",
                                    "4": "163756",
                                    "5": "       163,756"
                                },
                                {
                                    "0": "phuket",
                                    "1": "2019",
                                    "2": "1",
                                    "3": "1",
                                    "4": "14264",
                                    "5": "        14,264"
                                },
                                {
                                    "0": "phuket",
                                    "1": "2019",
                                    "2": "1",
                                    "3": "2",
                                    "4": "12450",
                                    "5": "        12,450"
                                },
                                {
                                    "0": "phuket",
                                    "1": "2019",
                                    "2": "1",
                                    "3": "3",
                                    "4": "12731",
                                    "5": "        12,731"
                                },
                                {
                                    "0": "phuket",
                                    "1": "2019",
                                    "2": "1",
                                    "3": "NULL",
                                    "4": "39445",
                                    "5": "        39,445"
                                },
                                {
                                    "0": "phuket",
                                    "1": "2019",
                                    "2": "2",
                                    "3": "4",
                                    "4": "14358",
                                    "5": "        14,358"
                                },
                                {
                                    "0": "phuket",
                                    "1": "2019",
                                    "2": "2",
                                    "3": "5",
                                    "4": "11660",
                                    "5": "        11,660"
                                },
                                {
                                    "0": "phuket",
                                    "1": "2019",
                                    "2": "2",
                                    "3": "6",
                                    "4": "14285",
                                    "5": "        14,285"
                                },
                                {
                                    "0": "phuket",
                                    "1": "2019",
                                    "2": "2",
                                    "3": "NULL",
                                    "4": "40303",
                                    "5": "        40,303"
                                },
                                {
                                    "0": "phuket",
                                    "1": "2019",
                                    "2": "3",
                                    "3": "7",
                                    "4": "13964",
                                    "5": "        13,964"
                                },
                                {
                                    "0": "phuket",
                                    "1": "2019",
                                    "2": "3",
                                    "3": "8",
                                    "4": "13746",
                                    "5": "        13,746"
                                },
                                {
                                    "0": "phuket",
                                    "1": "2019",
                                    "2": "3",
                                    "3": "9",
                                    "4": "14571",
                                    "5": "        14,571"
                                },
                                {
                                    "0": "phuket",
                                    "1": "2019",
                                    "2": "3",
                                    "3": "NULL",
                                    "4": "42281",
                                    "5": "        42,281"
                                },
                                {
                                    "0": "phuket",
                                    "1": "2019",
                                    "2": "4",
                                    "3": "10",
                                    "4": "12021",
                                    "5": "        12,021"
                                },
                                {
                                    "0": "phuket",
                                    "1": "2019",
                                    "2": "4",
                                    "3": "11",
                                    "4": "12822",
                                    "5": "        12,822"
                                },
                                {
                                    "0": "phuket",
                                    "1": "2019",
                                    "2": "4",
                                    "3": "12",
                                    "4": "16933",
                                    "5": "        16,933"
                                },
                                {
                                    "0": "phuket",
                                    "1": "2019",
                                    "2": "4",
                                    "3": "NULL",
                                    "4": "41776",
                                    "5": "        41,776"
                                },
                                {
                                    "0": "phuket",
                                    "1": "2019",
                                    "2": "NULL",
                                    "3": "NULL",
                                    "4": "163805",
                                    "5": "       163,805"
                                },
                                {
                                    "0": "phuket",
                                    "1": "NULL",
                                    "2": "NULL",
                                    "3": "NULL",
                                    "4": "327561",
                                    "5": "       327,561"
                                }
                            ]
                        },
                        "text/html": "<table><tr><th>branch</th><th>year</th><th>quarter</th><th>month</th><th>sum</th><th>to_char</th></tr><tr><td>bangkok</td><td>2018</td><td>1</td><td>1</td><td>20728</td><td>        20,728</td></tr><tr><td>bangkok</td><td>2018</td><td>1</td><td>2</td><td>15822</td><td>        15,822</td></tr><tr><td>bangkok</td><td>2018</td><td>1</td><td>3</td><td>17184</td><td>        17,184</td></tr><tr><td>bangkok</td><td>2018</td><td>1</td><td>NULL</td><td>53734</td><td>        53,734</td></tr><tr><td>bangkok</td><td>2018</td><td>2</td><td>4</td><td>21011</td><td>        21,011</td></tr><tr><td>bangkok</td><td>2018</td><td>2</td><td>5</td><td>18634</td><td>        18,634</td></tr><tr><td>bangkok</td><td>2018</td><td>2</td><td>6</td><td>14029</td><td>        14,029</td></tr><tr><td>bangkok</td><td>2018</td><td>2</td><td>NULL</td><td>53674</td><td>        53,674</td></tr><tr><td>bangkok</td><td>2018</td><td>3</td><td>7</td><td>17666</td><td>        17,666</td></tr><tr><td>bangkok</td><td>2018</td><td>3</td><td>8</td><td>16647</td><td>        16,647</td></tr><tr><td>bangkok</td><td>2018</td><td>3</td><td>9</td><td>17154</td><td>        17,154</td></tr><tr><td>bangkok</td><td>2018</td><td>3</td><td>NULL</td><td>51467</td><td>        51,467</td></tr><tr><td>bangkok</td><td>2018</td><td>4</td><td>10</td><td>19355</td><td>        19,355</td></tr><tr><td>bangkok</td><td>2018</td><td>4</td><td>11</td><td>17175</td><td>        17,175</td></tr><tr><td>bangkok</td><td>2018</td><td>4</td><td>12</td><td>17984</td><td>        17,984</td></tr><tr><td>bangkok</td><td>2018</td><td>4</td><td>NULL</td><td>54514</td><td>        54,514</td></tr><tr><td>bangkok</td><td>2018</td><td>NULL</td><td>NULL</td><td>213389</td><td>       213,389</td></tr><tr><td>bangkok</td><td>2019</td><td>1</td><td>1</td><td>18841</td><td>        18,841</td></tr><tr><td>bangkok</td><td>2019</td><td>1</td><td>2</td><td>17187</td><td>        17,187</td></tr><tr><td>bangkok</td><td>2019</td><td>1</td><td>3</td><td>17162</td><td>        17,162</td></tr><tr><td>bangkok</td><td>2019</td><td>1</td><td>NULL</td><td>53190</td><td>        53,190</td></tr><tr><td>bangkok</td><td>2019</td><td>2</td><td>4</td><td>15779</td><td>        15,779</td></tr><tr><td>bangkok</td><td>2019</td><td>2</td><td>5</td><td>18497</td><td>        18,497</td></tr><tr><td>bangkok</td><td>2019</td><td>2</td><td>6</td><td>19417</td><td>        19,417</td></tr><tr><td>bangkok</td><td>2019</td><td>2</td><td>NULL</td><td>53693</td><td>        53,693</td></tr><tr><td>bangkok</td><td>2019</td><td>3</td><td>7</td><td>17651</td><td>        17,651</td></tr><tr><td>bangkok</td><td>2019</td><td>3</td><td>8</td><td>14706</td><td>        14,706</td></tr><tr><td>bangkok</td><td>2019</td><td>3</td><td>9</td><td>18067</td><td>        18,067</td></tr><tr><td>bangkok</td><td>2019</td><td>3</td><td>NULL</td><td>50424</td><td>        50,424</td></tr><tr><td>bangkok</td><td>2019</td><td>4</td><td>10</td><td>16874</td><td>        16,874</td></tr><tr><td>bangkok</td><td>2019</td><td>4</td><td>11</td><td>17779</td><td>        17,779</td></tr><tr><td>bangkok</td><td>2019</td><td>4</td><td>12</td><td>20052</td><td>        20,052</td></tr><tr><td>bangkok</td><td>2019</td><td>4</td><td>NULL</td><td>54705</td><td>        54,705</td></tr><tr><td>bangkok</td><td>2019</td><td>NULL</td><td>NULL</td><td>212012</td><td>       212,012</td></tr><tr><td>bangkok</td><td>NULL</td><td>NULL</td><td>NULL</td><td>425401</td><td>       425,401</td></tr><tr><td>phuket</td><td>2018</td><td>1</td><td>1</td><td>14800</td><td>        14,800</td></tr><tr><td>phuket</td><td>2018</td><td>1</td><td>2</td><td>13807</td><td>        13,807</td></tr><tr><td>phuket</td><td>2018</td><td>1</td><td>3</td><td>13293</td><td>        13,293</td></tr><tr><td>phuket</td><td>2018</td><td>1</td><td>NULL</td><td>41900</td><td>        41,900</td></tr><tr><td>phuket</td><td>2018</td><td>2</td><td>4</td><td>12962</td><td>        12,962</td></tr><tr><td>phuket</td><td>2018</td><td>2</td><td>5</td><td>14311</td><td>        14,311</td></tr><tr><td>phuket</td><td>2018</td><td>2</td><td>6</td><td>12837</td><td>        12,837</td></tr><tr><td>phuket</td><td>2018</td><td>2</td><td>NULL</td><td>40110</td><td>        40,110</td></tr><tr><td>phuket</td><td>2018</td><td>3</td><td>7</td><td>12723</td><td>        12,723</td></tr><tr><td>phuket</td><td>2018</td><td>3</td><td>8</td><td>14400</td><td>        14,400</td></tr><tr><td>phuket</td><td>2018</td><td>3</td><td>9</td><td>13060</td><td>        13,060</td></tr><tr><td>phuket</td><td>2018</td><td>3</td><td>NULL</td><td>40183</td><td>        40,183</td></tr><tr><td>phuket</td><td>2018</td><td>4</td><td>10</td><td>14421</td><td>        14,421</td></tr><tr><td>phuket</td><td>2018</td><td>4</td><td>11</td><td>14596</td><td>        14,596</td></tr><tr><td>phuket</td><td>2018</td><td>4</td><td>12</td><td>12546</td><td>        12,546</td></tr><tr><td>phuket</td><td>2018</td><td>4</td><td>NULL</td><td>41563</td><td>        41,563</td></tr><tr><td>phuket</td><td>2018</td><td>NULL</td><td>NULL</td><td>163756</td><td>       163,756</td></tr><tr><td>phuket</td><td>2019</td><td>1</td><td>1</td><td>14264</td><td>        14,264</td></tr><tr><td>phuket</td><td>2019</td><td>1</td><td>2</td><td>12450</td><td>        12,450</td></tr><tr><td>phuket</td><td>2019</td><td>1</td><td>3</td><td>12731</td><td>        12,731</td></tr><tr><td>phuket</td><td>2019</td><td>1</td><td>NULL</td><td>39445</td><td>        39,445</td></tr><tr><td>phuket</td><td>2019</td><td>2</td><td>4</td><td>14358</td><td>        14,358</td></tr><tr><td>phuket</td><td>2019</td><td>2</td><td>5</td><td>11660</td><td>        11,660</td></tr><tr><td>phuket</td><td>2019</td><td>2</td><td>6</td><td>14285</td><td>        14,285</td></tr><tr><td>phuket</td><td>2019</td><td>2</td><td>NULL</td><td>40303</td><td>        40,303</td></tr><tr><td>phuket</td><td>2019</td><td>3</td><td>7</td><td>13964</td><td>        13,964</td></tr><tr><td>phuket</td><td>2019</td><td>3</td><td>8</td><td>13746</td><td>        13,746</td></tr><tr><td>phuket</td><td>2019</td><td>3</td><td>9</td><td>14571</td><td>        14,571</td></tr><tr><td>phuket</td><td>2019</td><td>3</td><td>NULL</td><td>42281</td><td>        42,281</td></tr><tr><td>phuket</td><td>2019</td><td>4</td><td>10</td><td>12021</td><td>        12,021</td></tr><tr><td>phuket</td><td>2019</td><td>4</td><td>11</td><td>12822</td><td>        12,822</td></tr><tr><td>phuket</td><td>2019</td><td>4</td><td>12</td><td>16933</td><td>        16,933</td></tr><tr><td>phuket</td><td>2019</td><td>4</td><td>NULL</td><td>41776</td><td>        41,776</td></tr><tr><td>phuket</td><td>2019</td><td>NULL</td><td>NULL</td><td>163805</td><td>       163,805</td></tr><tr><td>phuket</td><td>NULL</td><td>NULL</td><td>NULL</td><td>327561</td><td>       327,561</td></tr></table>"
                    }
                }
            ],
            "execution_count": 19
        }
    ]
}