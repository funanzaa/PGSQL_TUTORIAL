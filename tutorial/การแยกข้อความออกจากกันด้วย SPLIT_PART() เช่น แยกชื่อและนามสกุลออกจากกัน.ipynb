{
    "metadata": {
        "kernelspec": {
            "name": "SQL",
            "display_name": "SQL",
            "language": "sql"
        },
        "language_info": {
            "name": "sql",
            "version": ""
        }
    },
    "nbformat_minor": 2,
    "nbformat": 4,
    "cells": [
        {
            "cell_type": "markdown",
            "source": [
                "# การแยกข้อความออกจากกันด้วย SPLIT_PART() เช่น แยกชื่อและนามสกุลออกจากกัน"
            ],
            "metadata": {
                "azdata_cell_guid": "92502f2d-502b-4dd3-a925-d99d7c3d156c"
            }
        },
        {
            "cell_type": "code",
            "source": [
                "drop table if EXISTS freelancer;\n",
                "\n",
                "CREATE table freelancer (\n",
                "    id int,\n",
                "    full_name VARCHAR(50),\n",
                "    email VARCHAR(50),\n",
                "    skill VARCHAR(50)\n",
                ");\n",
                "\n",
                "insert into freelancer (id, full_name, email, skill) values (1, 'Maurie', 'mbettridge0@columbia.edu', 'Pro II');\n",
                "insert into freelancer (id, full_name, email, skill) values (2, 'Ephrayim', 'esowman1@omniture.com', 'New Homes');\n",
                "insert into freelancer (id, full_name, email, skill) values (3, 'Frieda', 'fortler2@google.pl', 'Flash Animation');\n",
                "insert into freelancer (id, full_name, email, skill) values (4, 'Benyamin', 'blehon3@ebay.com', 'VLSI CAD');\n",
                "insert into freelancer (id, full_name, email, skill) values (5, 'Reg', 'rsimons4@microsoft.com', 'Ultrasonics');\n",
                "insert into freelancer (id, full_name, email, skill) values (6, 'Daryle', 'dretallack5@weather.com', 'BTEQ');\n",
                "insert into freelancer (id, full_name, email, skill) values (7, 'Lexis', 'lgate6@e-recht24.de', 'Rig');\n",
                "insert into freelancer (id, full_name, email, skill) values (8, 'Shaun', 'smcgarrity7@squidoo.com', 'Environmental Issues');\n",
                "insert into freelancer (id, full_name, email, skill) values (9, 'Carmelle', 'cashdown8@sogou.com', 'TSW');\n",
                "insert into freelancer (id, full_name, email, skill) values (10, 'Sheeree', 'snunn9@nymag.com', 'Natural Resource Management');"
            ],
            "metadata": {
                "azdata_cell_guid": "068f8b95-1d1b-4b0c-86c1-05366638a730"
            },
            "outputs": [
                {
                    "output_type": "display_data",
                    "data": {
                        "text/html": "NOTICE:  table \"freelancer\" does not exist, skipping\n"
                    },
                    "metadata": {}
                },
                {
                    "output_type": "display_data",
                    "data": {
                        "text/html": "Commands completed successfully"
                    },
                    "metadata": {}
                },
                {
                    "output_type": "display_data",
                    "data": {
                        "text/html": "Commands completed successfully"
                    },
                    "metadata": {}
                },
                {
                    "output_type": "display_data",
                    "data": {
                        "text/html": "Commands completed successfully"
                    },
                    "metadata": {}
                },
                {
                    "output_type": "display_data",
                    "data": {
                        "text/html": "Commands completed successfully"
                    },
                    "metadata": {}
                },
                {
                    "output_type": "display_data",
                    "data": {
                        "text/html": "Commands completed successfully"
                    },
                    "metadata": {}
                },
                {
                    "output_type": "display_data",
                    "data": {
                        "text/html": "Commands completed successfully"
                    },
                    "metadata": {}
                },
                {
                    "output_type": "display_data",
                    "data": {
                        "text/html": "Commands completed successfully"
                    },
                    "metadata": {}
                },
                {
                    "output_type": "display_data",
                    "data": {
                        "text/html": "Commands completed successfully"
                    },
                    "metadata": {}
                },
                {
                    "output_type": "display_data",
                    "data": {
                        "text/html": "Commands completed successfully"
                    },
                    "metadata": {}
                },
                {
                    "output_type": "display_data",
                    "data": {
                        "text/html": "Commands completed successfully"
                    },
                    "metadata": {}
                },
                {
                    "output_type": "display_data",
                    "data": {
                        "text/html": "Commands completed successfully"
                    },
                    "metadata": {}
                },
                {
                    "output_type": "display_data",
                    "data": {
                        "text/html": "Commands completed successfully"
                    },
                    "metadata": {}
                },
                {
                    "output_type": "display_data",
                    "data": {
                        "text/html": "Total execution time: 00:00:00.027"
                    },
                    "metadata": {}
                }
            ],
            "execution_count": 4
        },
        {
            "cell_type": "code",
            "source": [
                "select * from freelancer"
            ],
            "metadata": {
                "azdata_cell_guid": "64e3b932-214d-41d8-a862-9cbd208f63e3"
            },
            "outputs": [
                {
                    "output_type": "display_data",
                    "data": {
                        "text/html": "(10 row(s) affected)"
                    },
                    "metadata": {}
                },
                {
                    "output_type": "display_data",
                    "data": {
                        "text/html": "Total execution time: 00:00:00.005"
                    },
                    "metadata": {}
                },
                {
                    "output_type": "execute_result",
                    "metadata": {},
                    "execution_count": 5,
                    "data": {
                        "application/vnd.dataresource+json": {
                            "schema": {
                                "fields": [
                                    {
                                        "name": "id"
                                    },
                                    {
                                        "name": "full_name"
                                    },
                                    {
                                        "name": "email"
                                    },
                                    {
                                        "name": "skill"
                                    }
                                ]
                            },
                            "data": [
                                {
                                    "0": "1",
                                    "1": "Maurie",
                                    "2": "mbettridge0@columbia.edu",
                                    "3": "Pro II"
                                },
                                {
                                    "0": "2",
                                    "1": "Ephrayim",
                                    "2": "esowman1@omniture.com",
                                    "3": "New Homes"
                                },
                                {
                                    "0": "3",
                                    "1": "Frieda",
                                    "2": "fortler2@google.pl",
                                    "3": "Flash Animation"
                                },
                                {
                                    "0": "4",
                                    "1": "Benyamin",
                                    "2": "blehon3@ebay.com",
                                    "3": "VLSI CAD"
                                },
                                {
                                    "0": "5",
                                    "1": "Reg",
                                    "2": "rsimons4@microsoft.com",
                                    "3": "Ultrasonics"
                                },
                                {
                                    "0": "6",
                                    "1": "Daryle",
                                    "2": "dretallack5@weather.com",
                                    "3": "BTEQ"
                                },
                                {
                                    "0": "7",
                                    "1": "Lexis",
                                    "2": "lgate6@e-recht24.de",
                                    "3": "Rig"
                                },
                                {
                                    "0": "8",
                                    "1": "Shaun",
                                    "2": "smcgarrity7@squidoo.com",
                                    "3": "Environmental Issues"
                                },
                                {
                                    "0": "9",
                                    "1": "Carmelle",
                                    "2": "cashdown8@sogou.com",
                                    "3": "TSW"
                                },
                                {
                                    "0": "10",
                                    "1": "Sheeree",
                                    "2": "snunn9@nymag.com",
                                    "3": "Natural Resource Management"
                                }
                            ]
                        },
                        "text/html": "<table><tr><th>id</th><th>full_name</th><th>email</th><th>skill</th></tr><tr><td>1</td><td>Maurie</td><td>mbettridge0@columbia.edu</td><td>Pro II</td></tr><tr><td>2</td><td>Ephrayim</td><td>esowman1@omniture.com</td><td>New Homes</td></tr><tr><td>3</td><td>Frieda</td><td>fortler2@google.pl</td><td>Flash Animation</td></tr><tr><td>4</td><td>Benyamin</td><td>blehon3@ebay.com</td><td>VLSI CAD</td></tr><tr><td>5</td><td>Reg</td><td>rsimons4@microsoft.com</td><td>Ultrasonics</td></tr><tr><td>6</td><td>Daryle</td><td>dretallack5@weather.com</td><td>BTEQ</td></tr><tr><td>7</td><td>Lexis</td><td>lgate6@e-recht24.de</td><td>Rig</td></tr><tr><td>8</td><td>Shaun</td><td>smcgarrity7@squidoo.com</td><td>Environmental Issues</td></tr><tr><td>9</td><td>Carmelle</td><td>cashdown8@sogou.com</td><td>TSW</td></tr><tr><td>10</td><td>Sheeree</td><td>snunn9@nymag.com</td><td>Natural Resource Management</td></tr></table>"
                    }
                }
            ],
            "execution_count": 5
        },
        {
            "cell_type": "code",
            "source": [
                "SELECT email,\n",
                "    split_part(email, '@', 1) username,\n",
                "    split_part(email, '@', 2) domains\n",
                "    from freelancer"
            ],
            "metadata": {
                "azdata_cell_guid": "cf7e22a6-c193-4a37-ba16-e57fc6638828"
            },
            "outputs": [
                {
                    "output_type": "display_data",
                    "data": {
                        "text/html": "(10 row(s) affected)"
                    },
                    "metadata": {}
                },
                {
                    "output_type": "display_data",
                    "data": {
                        "text/html": "Total execution time: 00:00:00.004"
                    },
                    "metadata": {}
                },
                {
                    "output_type": "execute_result",
                    "metadata": {},
                    "execution_count": 7,
                    "data": {
                        "application/vnd.dataresource+json": {
                            "schema": {
                                "fields": [
                                    {
                                        "name": "email"
                                    },
                                    {
                                        "name": "username"
                                    },
                                    {
                                        "name": "domains"
                                    }
                                ]
                            },
                            "data": [
                                {
                                    "0": "mbettridge0@columbia.edu",
                                    "1": "mbettridge0",
                                    "2": "columbia.edu"
                                },
                                {
                                    "0": "esowman1@omniture.com",
                                    "1": "esowman1",
                                    "2": "omniture.com"
                                },
                                {
                                    "0": "fortler2@google.pl",
                                    "1": "fortler2",
                                    "2": "google.pl"
                                },
                                {
                                    "0": "blehon3@ebay.com",
                                    "1": "blehon3",
                                    "2": "ebay.com"
                                },
                                {
                                    "0": "rsimons4@microsoft.com",
                                    "1": "rsimons4",
                                    "2": "microsoft.com"
                                },
                                {
                                    "0": "dretallack5@weather.com",
                                    "1": "dretallack5",
                                    "2": "weather.com"
                                },
                                {
                                    "0": "lgate6@e-recht24.de",
                                    "1": "lgate6",
                                    "2": "e-recht24.de"
                                },
                                {
                                    "0": "smcgarrity7@squidoo.com",
                                    "1": "smcgarrity7",
                                    "2": "squidoo.com"
                                },
                                {
                                    "0": "cashdown8@sogou.com",
                                    "1": "cashdown8",
                                    "2": "sogou.com"
                                },
                                {
                                    "0": "snunn9@nymag.com",
                                    "1": "snunn9",
                                    "2": "nymag.com"
                                }
                            ]
                        },
                        "text/html": "<table><tr><th>email</th><th>username</th><th>domains</th></tr><tr><td>mbettridge0@columbia.edu</td><td>mbettridge0</td><td>columbia.edu</td></tr><tr><td>esowman1@omniture.com</td><td>esowman1</td><td>omniture.com</td></tr><tr><td>fortler2@google.pl</td><td>fortler2</td><td>google.pl</td></tr><tr><td>blehon3@ebay.com</td><td>blehon3</td><td>ebay.com</td></tr><tr><td>rsimons4@microsoft.com</td><td>rsimons4</td><td>microsoft.com</td></tr><tr><td>dretallack5@weather.com</td><td>dretallack5</td><td>weather.com</td></tr><tr><td>lgate6@e-recht24.de</td><td>lgate6</td><td>e-recht24.de</td></tr><tr><td>smcgarrity7@squidoo.com</td><td>smcgarrity7</td><td>squidoo.com</td></tr><tr><td>cashdown8@sogou.com</td><td>cashdown8</td><td>sogou.com</td></tr><tr><td>snunn9@nymag.com</td><td>snunn9</td><td>nymag.com</td></tr></table>"
                    }
                }
            ],
            "execution_count": 7
        },
        {
            "cell_type": "code",
            "source": [
                "alter table freelancer add column domains"
            ],
            "metadata": {
                "azdata_cell_guid": "88c5bf52-4593-40d6-8358-d84428a290a9"
            },
            "outputs": [],
            "execution_count": 0
        }
    ]
}