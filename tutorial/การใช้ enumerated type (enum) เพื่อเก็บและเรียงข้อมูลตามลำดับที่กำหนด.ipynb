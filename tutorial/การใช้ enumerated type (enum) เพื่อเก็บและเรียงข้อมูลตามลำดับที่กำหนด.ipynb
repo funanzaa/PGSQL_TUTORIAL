{
    "metadata": {
        "kernelspec": {
            "name": "SQL",
            "display_name": "SQL",
            "language": "sql"
        },
        "language_info": {
            "name": "sql",
            "version": ""
        }
    },
    "nbformat_minor": 2,
    "nbformat": 4,
    "cells": [
        {
            "cell_type": "markdown",
            "source": [
                "# enumerated type (enum)"
            ],
            "metadata": {
                "azdata_cell_guid": "bbd24106-e4e4-4740-bb52-75f9a4f4242f"
            }
        },
        {
            "cell_type": "code",
            "source": [
                "SELECT * from student_grade ORDER BY grade"
            ],
            "metadata": {
                "azdata_cell_guid": "2bd70079-2336-4b1d-82e6-7649c432dec7"
            },
            "outputs": [
                {
                    "output_type": "display_data",
                    "data": {
                        "text/html": "(53 row(s) affected)"
                    },
                    "metadata": {}
                },
                {
                    "output_type": "display_data",
                    "data": {
                        "text/html": "Total execution time: 00:00:00.013"
                    },
                    "metadata": {}
                },
                {
                    "output_type": "execute_result",
                    "metadata": {},
                    "execution_count": 2,
                    "data": {
                        "application/vnd.dataresource+json": {
                            "schema": {
                                "fields": [
                                    {
                                        "name": "student_id"
                                    },
                                    {
                                        "name": "score"
                                    },
                                    {
                                        "name": "grade"
                                    },
                                    {
                                        "name": "grade2"
                                    }
                                ]
                            },
                            "data": [
                                {
                                    "0": "46",
                                    "1": "89.73",
                                    "2": "A",
                                    "3": "A"
                                },
                                {
                                    "0": "22",
                                    "1": "97.79",
                                    "2": "A",
                                    "3": "A"
                                },
                                {
                                    "0": "20",
                                    "1": "86.35",
                                    "2": "A",
                                    "3": "A"
                                },
                                {
                                    "0": "21",
                                    "1": "85.82",
                                    "2": "A",
                                    "3": "A"
                                },
                                {
                                    "0": "9",
                                    "1": "96.74",
                                    "2": "A",
                                    "3": "A"
                                },
                                {
                                    "0": "37",
                                    "1": "98.02",
                                    "2": "A",
                                    "3": "A"
                                },
                                {
                                    "0": "11",
                                    "1": "98.62",
                                    "2": "A",
                                    "3": "A"
                                },
                                {
                                    "0": "30",
                                    "1": "94.95",
                                    "2": "A",
                                    "3": "A"
                                },
                                {
                                    "0": "101",
                                    "1": "97.00",
                                    "2": "A",
                                    "3": "A"
                                },
                                {
                                    "0": "27",
                                    "1": "91.20",
                                    "2": "A",
                                    "3": "A"
                                },
                                {
                                    "0": "3",
                                    "1": "99.76",
                                    "2": "A",
                                    "3": "A"
                                },
                                {
                                    "0": "45",
                                    "1": "85.58",
                                    "2": "A",
                                    "3": "A"
                                },
                                {
                                    "0": "40",
                                    "1": "94.76",
                                    "2": "A",
                                    "3": "A"
                                },
                                {
                                    "0": "38",
                                    "1": "99.32",
                                    "2": "A",
                                    "3": "A"
                                },
                                {
                                    "0": "8",
                                    "1": "76.99",
                                    "2": "B",
                                    "3": "B"
                                },
                                {
                                    "0": "36",
                                    "1": "76.81",
                                    "2": "B",
                                    "3": "B"
                                },
                                {
                                    "0": "33",
                                    "1": "76.18",
                                    "2": "B",
                                    "3": "B"
                                },
                                {
                                    "0": "102",
                                    "1": "97.00",
                                    "2": "B",
                                    "3": "B+"
                                },
                                {
                                    "0": "2",
                                    "1": "81.23",
                                    "2": "B+",
                                    "3": "B+"
                                },
                                {
                                    "0": "29",
                                    "1": "84.21",
                                    "2": "B+",
                                    "3": "B+"
                                },
                                {
                                    "0": "50",
                                    "1": "69.19",
                                    "2": "C",
                                    "3": "C"
                                },
                                {
                                    "0": "6",
                                    "1": "67.71",
                                    "2": "C",
                                    "3": "C"
                                },
                                {
                                    "0": "15",
                                    "1": "60.17",
                                    "2": "C",
                                    "3": "C"
                                },
                                {
                                    "0": "18",
                                    "1": "64.35",
                                    "2": "C",
                                    "3": "C"
                                },
                                {
                                    "0": "25",
                                    "1": "64.03",
                                    "2": "C",
                                    "3": "C"
                                },
                                {
                                    "0": "35",
                                    "1": "66.73",
                                    "2": "C",
                                    "3": "C"
                                },
                                {
                                    "0": "43",
                                    "1": "69.56",
                                    "2": "C",
                                    "3": "C"
                                },
                                {
                                    "0": "44",
                                    "1": "64.16",
                                    "2": "C",
                                    "3": "C"
                                },
                                {
                                    "0": "47",
                                    "1": "67.54",
                                    "2": "C",
                                    "3": "C"
                                },
                                {
                                    "0": "17",
                                    "1": "71.08",
                                    "2": "C+",
                                    "3": "C+"
                                },
                                {
                                    "0": "14",
                                    "1": "73.15",
                                    "2": "C+",
                                    "3": "C+"
                                },
                                {
                                    "0": "31",
                                    "1": "70.56",
                                    "2": "C+",
                                    "3": "C+"
                                },
                                {
                                    "0": "34",
                                    "1": "70.31",
                                    "2": "C+",
                                    "3": "C+"
                                },
                                {
                                    "0": "12",
                                    "1": "74.80",
                                    "2": "C+",
                                    "3": "C+"
                                },
                                {
                                    "0": "7",
                                    "1": "72.60",
                                    "2": "C+",
                                    "3": "C+"
                                },
                                {
                                    "0": "1",
                                    "1": "73.87",
                                    "2": "C+",
                                    "3": "C+"
                                },
                                {
                                    "0": "26",
                                    "1": "71.82",
                                    "2": "C+",
                                    "3": "C+"
                                },
                                {
                                    "0": "42",
                                    "1": "52.42",
                                    "2": "D",
                                    "3": "D"
                                },
                                {
                                    "0": "28",
                                    "1": "52.03",
                                    "2": "D",
                                    "3": "D"
                                },
                                {
                                    "0": "49",
                                    "1": "54.08",
                                    "2": "D",
                                    "3": "D"
                                },
                                {
                                    "0": "39",
                                    "1": "53.80",
                                    "2": "D",
                                    "3": "D"
                                },
                                {
                                    "0": "48",
                                    "1": "56.65",
                                    "2": "D+",
                                    "3": "D+"
                                },
                                {
                                    "0": "32",
                                    "1": "58.07",
                                    "2": "D+",
                                    "3": "D+"
                                },
                                {
                                    "0": "23",
                                    "1": "56.81",
                                    "2": "D+",
                                    "3": "D+"
                                },
                                {
                                    "0": "13",
                                    "1": "57.05",
                                    "2": "D+",
                                    "3": "D+"
                                },
                                {
                                    "0": "19",
                                    "1": "41.65",
                                    "2": "F",
                                    "3": "F"
                                },
                                {
                                    "0": "10",
                                    "1": "47.78",
                                    "2": "F",
                                    "3": "F"
                                },
                                {
                                    "0": "24",
                                    "1": "46.26",
                                    "2": "F",
                                    "3": "F"
                                },
                                {
                                    "0": "5",
                                    "1": "40.63",
                                    "2": "F",
                                    "3": "F"
                                },
                                {
                                    "0": "41",
                                    "1": "47.10",
                                    "2": "F",
                                    "3": "F"
                                },
                                {
                                    "0": "16",
                                    "1": "43.39",
                                    "2": "F",
                                    "3": "F"
                                },
                                {
                                    "0": "4",
                                    "1": "48.66",
                                    "2": "F",
                                    "3": "F"
                                },
                                {
                                    "0": "103",
                                    "1": "NULL",
                                    "2": "NULL",
                                    "3": "NULL"
                                }
                            ]
                        },
                        "text/html": "<table><tr><th>student_id</th><th>score</th><th>grade</th><th>grade2</th></tr><tr><td>46</td><td>89.73</td><td>A</td><td>A</td></tr><tr><td>22</td><td>97.79</td><td>A</td><td>A</td></tr><tr><td>20</td><td>86.35</td><td>A</td><td>A</td></tr><tr><td>21</td><td>85.82</td><td>A</td><td>A</td></tr><tr><td>9</td><td>96.74</td><td>A</td><td>A</td></tr><tr><td>37</td><td>98.02</td><td>A</td><td>A</td></tr><tr><td>11</td><td>98.62</td><td>A</td><td>A</td></tr><tr><td>30</td><td>94.95</td><td>A</td><td>A</td></tr><tr><td>101</td><td>97.00</td><td>A</td><td>A</td></tr><tr><td>27</td><td>91.20</td><td>A</td><td>A</td></tr><tr><td>3</td><td>99.76</td><td>A</td><td>A</td></tr><tr><td>45</td><td>85.58</td><td>A</td><td>A</td></tr><tr><td>40</td><td>94.76</td><td>A</td><td>A</td></tr><tr><td>38</td><td>99.32</td><td>A</td><td>A</td></tr><tr><td>8</td><td>76.99</td><td>B</td><td>B</td></tr><tr><td>36</td><td>76.81</td><td>B</td><td>B</td></tr><tr><td>33</td><td>76.18</td><td>B</td><td>B</td></tr><tr><td>102</td><td>97.00</td><td>B</td><td>B+</td></tr><tr><td>2</td><td>81.23</td><td>B+</td><td>B+</td></tr><tr><td>29</td><td>84.21</td><td>B+</td><td>B+</td></tr><tr><td>50</td><td>69.19</td><td>C</td><td>C</td></tr><tr><td>6</td><td>67.71</td><td>C</td><td>C</td></tr><tr><td>15</td><td>60.17</td><td>C</td><td>C</td></tr><tr><td>18</td><td>64.35</td><td>C</td><td>C</td></tr><tr><td>25</td><td>64.03</td><td>C</td><td>C</td></tr><tr><td>35</td><td>66.73</td><td>C</td><td>C</td></tr><tr><td>43</td><td>69.56</td><td>C</td><td>C</td></tr><tr><td>44</td><td>64.16</td><td>C</td><td>C</td></tr><tr><td>47</td><td>67.54</td><td>C</td><td>C</td></tr><tr><td>17</td><td>71.08</td><td>C+</td><td>C+</td></tr><tr><td>14</td><td>73.15</td><td>C+</td><td>C+</td></tr><tr><td>31</td><td>70.56</td><td>C+</td><td>C+</td></tr><tr><td>34</td><td>70.31</td><td>C+</td><td>C+</td></tr><tr><td>12</td><td>74.80</td><td>C+</td><td>C+</td></tr><tr><td>7</td><td>72.60</td><td>C+</td><td>C+</td></tr><tr><td>1</td><td>73.87</td><td>C+</td><td>C+</td></tr><tr><td>26</td><td>71.82</td><td>C+</td><td>C+</td></tr><tr><td>42</td><td>52.42</td><td>D</td><td>D</td></tr><tr><td>28</td><td>52.03</td><td>D</td><td>D</td></tr><tr><td>49</td><td>54.08</td><td>D</td><td>D</td></tr><tr><td>39</td><td>53.80</td><td>D</td><td>D</td></tr><tr><td>48</td><td>56.65</td><td>D+</td><td>D+</td></tr><tr><td>32</td><td>58.07</td><td>D+</td><td>D+</td></tr><tr><td>23</td><td>56.81</td><td>D+</td><td>D+</td></tr><tr><td>13</td><td>57.05</td><td>D+</td><td>D+</td></tr><tr><td>19</td><td>41.65</td><td>F</td><td>F</td></tr><tr><td>10</td><td>47.78</td><td>F</td><td>F</td></tr><tr><td>24</td><td>46.26</td><td>F</td><td>F</td></tr><tr><td>5</td><td>40.63</td><td>F</td><td>F</td></tr><tr><td>41</td><td>47.10</td><td>F</td><td>F</td></tr><tr><td>16</td><td>43.39</td><td>F</td><td>F</td></tr><tr><td>4</td><td>48.66</td><td>F</td><td>F</td></tr><tr><td>103</td><td>NULL</td><td>NULL</td><td>NULL</td></tr></table>"
                    }
                }
            ],
            "execution_count": 2
        },
        {
            "cell_type": "code",
            "source": [
                "drop type if exists letter_grade;\n",
                "\n",
                "create type letter_grade as enum('A','B+','B','C+','C','D+','D','F');"
            ],
            "metadata": {
                "azdata_cell_guid": "66d7f945-1a98-4ab0-9aed-161f926a5487",
                "tags": []
            },
            "outputs": [
                {
                    "output_type": "error",
                    "evalue": "cannot drop type letter_grade because other objects depend on it",
                    "ename": "",
                    "traceback": []
                },
                {
                    "output_type": "display_data",
                    "data": {
                        "text/html": "Total execution time: 00:00:00.003"
                    },
                    "metadata": {}
                }
            ],
            "execution_count": 4
        },
        {
            "cell_type": "code",
            "source": [
                "ALTER TABLE student_grade add column grade2 letter_grade;"
            ],
            "metadata": {
                "azdata_cell_guid": "e6a54cb9-b558-4c37-8a93-b7f30eb804b3"
            },
            "outputs": [],
            "execution_count": 0
        },
        {
            "cell_type": "code",
            "source": [
                "UPDATE student_grade\n",
                "    set grade2 = grade::letter_grade -- ต้องเป็นรูปแบบของ ENUMS และรับค่า NULL ได้"
            ],
            "metadata": {
                "azdata_cell_guid": "94455ee3-07b4-48eb-b1e5-31f7ba2eb356"
            },
            "outputs": [],
            "execution_count": 0
        },
        {
            "cell_type": "code",
            "source": [
                "SELECT * from student_grade ORDER BY grade2"
            ],
            "metadata": {
                "azdata_cell_guid": "32c94af8-29a5-476d-86c3-d734f694ccfa"
            },
            "outputs": [
                {
                    "output_type": "display_data",
                    "data": {
                        "text/html": "(53 row(s) affected)"
                    },
                    "metadata": {}
                },
                {
                    "output_type": "display_data",
                    "data": {
                        "text/html": "Total execution time: 00:00:00.028"
                    },
                    "metadata": {}
                },
                {
                    "output_type": "execute_result",
                    "metadata": {},
                    "execution_count": 5,
                    "data": {
                        "application/vnd.dataresource+json": {
                            "schema": {
                                "fields": [
                                    {
                                        "name": "student_id"
                                    },
                                    {
                                        "name": "score"
                                    },
                                    {
                                        "name": "grade"
                                    },
                                    {
                                        "name": "grade2"
                                    }
                                ]
                            },
                            "data": [
                                {
                                    "0": "46",
                                    "1": "89.73",
                                    "2": "A",
                                    "3": "A"
                                },
                                {
                                    "0": "11",
                                    "1": "98.62",
                                    "2": "A",
                                    "3": "A"
                                },
                                {
                                    "0": "38",
                                    "1": "99.32",
                                    "2": "A",
                                    "3": "A"
                                },
                                {
                                    "0": "30",
                                    "1": "94.95",
                                    "2": "A",
                                    "3": "A"
                                },
                                {
                                    "0": "101",
                                    "1": "97.00",
                                    "2": "A",
                                    "3": "A"
                                },
                                {
                                    "0": "37",
                                    "1": "98.02",
                                    "2": "A",
                                    "3": "A"
                                },
                                {
                                    "0": "3",
                                    "1": "99.76",
                                    "2": "A",
                                    "3": "A"
                                },
                                {
                                    "0": "20",
                                    "1": "86.35",
                                    "2": "A",
                                    "3": "A"
                                },
                                {
                                    "0": "21",
                                    "1": "85.82",
                                    "2": "A",
                                    "3": "A"
                                },
                                {
                                    "0": "22",
                                    "1": "97.79",
                                    "2": "A",
                                    "3": "A"
                                },
                                {
                                    "0": "45",
                                    "1": "85.58",
                                    "2": "A",
                                    "3": "A"
                                },
                                {
                                    "0": "27",
                                    "1": "91.20",
                                    "2": "A",
                                    "3": "A"
                                },
                                {
                                    "0": "9",
                                    "1": "96.74",
                                    "2": "A",
                                    "3": "A"
                                },
                                {
                                    "0": "40",
                                    "1": "94.76",
                                    "2": "A",
                                    "3": "A"
                                },
                                {
                                    "0": "2",
                                    "1": "81.23",
                                    "2": "B+",
                                    "3": "B+"
                                },
                                {
                                    "0": "102",
                                    "1": "97.00",
                                    "2": "B",
                                    "3": "B+"
                                },
                                {
                                    "0": "29",
                                    "1": "84.21",
                                    "2": "B+",
                                    "3": "B+"
                                },
                                {
                                    "0": "36",
                                    "1": "76.81",
                                    "2": "B",
                                    "3": "B"
                                },
                                {
                                    "0": "8",
                                    "1": "76.99",
                                    "2": "B",
                                    "3": "B"
                                },
                                {
                                    "0": "33",
                                    "1": "76.18",
                                    "2": "B",
                                    "3": "B"
                                },
                                {
                                    "0": "12",
                                    "1": "74.80",
                                    "2": "C+",
                                    "3": "C+"
                                },
                                {
                                    "0": "31",
                                    "1": "70.56",
                                    "2": "C+",
                                    "3": "C+"
                                },
                                {
                                    "0": "7",
                                    "1": "72.60",
                                    "2": "C+",
                                    "3": "C+"
                                },
                                {
                                    "0": "26",
                                    "1": "71.82",
                                    "2": "C+",
                                    "3": "C+"
                                },
                                {
                                    "0": "14",
                                    "1": "73.15",
                                    "2": "C+",
                                    "3": "C+"
                                },
                                {
                                    "0": "17",
                                    "1": "71.08",
                                    "2": "C+",
                                    "3": "C+"
                                },
                                {
                                    "0": "1",
                                    "1": "73.87",
                                    "2": "C+",
                                    "3": "C+"
                                },
                                {
                                    "0": "34",
                                    "1": "70.31",
                                    "2": "C+",
                                    "3": "C+"
                                },
                                {
                                    "0": "50",
                                    "1": "69.19",
                                    "2": "C",
                                    "3": "C"
                                },
                                {
                                    "0": "6",
                                    "1": "67.71",
                                    "2": "C",
                                    "3": "C"
                                },
                                {
                                    "0": "15",
                                    "1": "60.17",
                                    "2": "C",
                                    "3": "C"
                                },
                                {
                                    "0": "18",
                                    "1": "64.35",
                                    "2": "C",
                                    "3": "C"
                                },
                                {
                                    "0": "25",
                                    "1": "64.03",
                                    "2": "C",
                                    "3": "C"
                                },
                                {
                                    "0": "35",
                                    "1": "66.73",
                                    "2": "C",
                                    "3": "C"
                                },
                                {
                                    "0": "43",
                                    "1": "69.56",
                                    "2": "C",
                                    "3": "C"
                                },
                                {
                                    "0": "44",
                                    "1": "64.16",
                                    "2": "C",
                                    "3": "C"
                                },
                                {
                                    "0": "47",
                                    "1": "67.54",
                                    "2": "C",
                                    "3": "C"
                                },
                                {
                                    "0": "23",
                                    "1": "56.81",
                                    "2": "D+",
                                    "3": "D+"
                                },
                                {
                                    "0": "13",
                                    "1": "57.05",
                                    "2": "D+",
                                    "3": "D+"
                                },
                                {
                                    "0": "48",
                                    "1": "56.65",
                                    "2": "D+",
                                    "3": "D+"
                                },
                                {
                                    "0": "32",
                                    "1": "58.07",
                                    "2": "D+",
                                    "3": "D+"
                                },
                                {
                                    "0": "42",
                                    "1": "52.42",
                                    "2": "D",
                                    "3": "D"
                                },
                                {
                                    "0": "28",
                                    "1": "52.03",
                                    "2": "D",
                                    "3": "D"
                                },
                                {
                                    "0": "49",
                                    "1": "54.08",
                                    "2": "D",
                                    "3": "D"
                                },
                                {
                                    "0": "39",
                                    "1": "53.80",
                                    "2": "D",
                                    "3": "D"
                                },
                                {
                                    "0": "4",
                                    "1": "48.66",
                                    "2": "F",
                                    "3": "F"
                                },
                                {
                                    "0": "19",
                                    "1": "41.65",
                                    "2": "F",
                                    "3": "F"
                                },
                                {
                                    "0": "16",
                                    "1": "43.39",
                                    "2": "F",
                                    "3": "F"
                                },
                                {
                                    "0": "5",
                                    "1": "40.63",
                                    "2": "F",
                                    "3": "F"
                                },
                                {
                                    "0": "10",
                                    "1": "47.78",
                                    "2": "F",
                                    "3": "F"
                                },
                                {
                                    "0": "41",
                                    "1": "47.10",
                                    "2": "F",
                                    "3": "F"
                                },
                                {
                                    "0": "24",
                                    "1": "46.26",
                                    "2": "F",
                                    "3": "F"
                                },
                                {
                                    "0": "103",
                                    "1": "NULL",
                                    "2": "NULL",
                                    "3": "NULL"
                                }
                            ]
                        },
                        "text/html": "<table><tr><th>student_id</th><th>score</th><th>grade</th><th>grade2</th></tr><tr><td>46</td><td>89.73</td><td>A</td><td>A</td></tr><tr><td>11</td><td>98.62</td><td>A</td><td>A</td></tr><tr><td>38</td><td>99.32</td><td>A</td><td>A</td></tr><tr><td>30</td><td>94.95</td><td>A</td><td>A</td></tr><tr><td>101</td><td>97.00</td><td>A</td><td>A</td></tr><tr><td>37</td><td>98.02</td><td>A</td><td>A</td></tr><tr><td>3</td><td>99.76</td><td>A</td><td>A</td></tr><tr><td>20</td><td>86.35</td><td>A</td><td>A</td></tr><tr><td>21</td><td>85.82</td><td>A</td><td>A</td></tr><tr><td>22</td><td>97.79</td><td>A</td><td>A</td></tr><tr><td>45</td><td>85.58</td><td>A</td><td>A</td></tr><tr><td>27</td><td>91.20</td><td>A</td><td>A</td></tr><tr><td>9</td><td>96.74</td><td>A</td><td>A</td></tr><tr><td>40</td><td>94.76</td><td>A</td><td>A</td></tr><tr><td>2</td><td>81.23</td><td>B+</td><td>B+</td></tr><tr><td>102</td><td>97.00</td><td>B</td><td>B+</td></tr><tr><td>29</td><td>84.21</td><td>B+</td><td>B+</td></tr><tr><td>36</td><td>76.81</td><td>B</td><td>B</td></tr><tr><td>8</td><td>76.99</td><td>B</td><td>B</td></tr><tr><td>33</td><td>76.18</td><td>B</td><td>B</td></tr><tr><td>12</td><td>74.80</td><td>C+</td><td>C+</td></tr><tr><td>31</td><td>70.56</td><td>C+</td><td>C+</td></tr><tr><td>7</td><td>72.60</td><td>C+</td><td>C+</td></tr><tr><td>26</td><td>71.82</td><td>C+</td><td>C+</td></tr><tr><td>14</td><td>73.15</td><td>C+</td><td>C+</td></tr><tr><td>17</td><td>71.08</td><td>C+</td><td>C+</td></tr><tr><td>1</td><td>73.87</td><td>C+</td><td>C+</td></tr><tr><td>34</td><td>70.31</td><td>C+</td><td>C+</td></tr><tr><td>50</td><td>69.19</td><td>C</td><td>C</td></tr><tr><td>6</td><td>67.71</td><td>C</td><td>C</td></tr><tr><td>15</td><td>60.17</td><td>C</td><td>C</td></tr><tr><td>18</td><td>64.35</td><td>C</td><td>C</td></tr><tr><td>25</td><td>64.03</td><td>C</td><td>C</td></tr><tr><td>35</td><td>66.73</td><td>C</td><td>C</td></tr><tr><td>43</td><td>69.56</td><td>C</td><td>C</td></tr><tr><td>44</td><td>64.16</td><td>C</td><td>C</td></tr><tr><td>47</td><td>67.54</td><td>C</td><td>C</td></tr><tr><td>23</td><td>56.81</td><td>D+</td><td>D+</td></tr><tr><td>13</td><td>57.05</td><td>D+</td><td>D+</td></tr><tr><td>48</td><td>56.65</td><td>D+</td><td>D+</td></tr><tr><td>32</td><td>58.07</td><td>D+</td><td>D+</td></tr><tr><td>42</td><td>52.42</td><td>D</td><td>D</td></tr><tr><td>28</td><td>52.03</td><td>D</td><td>D</td></tr><tr><td>49</td><td>54.08</td><td>D</td><td>D</td></tr><tr><td>39</td><td>53.80</td><td>D</td><td>D</td></tr><tr><td>4</td><td>48.66</td><td>F</td><td>F</td></tr><tr><td>19</td><td>41.65</td><td>F</td><td>F</td></tr><tr><td>16</td><td>43.39</td><td>F</td><td>F</td></tr><tr><td>5</td><td>40.63</td><td>F</td><td>F</td></tr><tr><td>10</td><td>47.78</td><td>F</td><td>F</td></tr><tr><td>41</td><td>47.10</td><td>F</td><td>F</td></tr><tr><td>24</td><td>46.26</td><td>F</td><td>F</td></tr><tr><td>103</td><td>NULL</td><td>NULL</td><td>NULL</td></tr></table>"
                    }
                }
            ],
            "execution_count": 5
        },
        {
            "cell_type": "code",
            "source": [
                "SELECT * from student_grade where grade2 < 'B'"
            ],
            "metadata": {
                "azdata_cell_guid": "f151ce42-57fe-4688-988d-80abdde9821e"
            },
            "outputs": [
                {
                    "output_type": "display_data",
                    "data": {
                        "text/html": "(17 row(s) affected)"
                    },
                    "metadata": {}
                },
                {
                    "output_type": "display_data",
                    "data": {
                        "text/html": "Total execution time: 00:00:00.010"
                    },
                    "metadata": {}
                },
                {
                    "output_type": "execute_result",
                    "metadata": {},
                    "execution_count": 8,
                    "data": {
                        "application/vnd.dataresource+json": {
                            "schema": {
                                "fields": [
                                    {
                                        "name": "student_id"
                                    },
                                    {
                                        "name": "score"
                                    },
                                    {
                                        "name": "grade"
                                    },
                                    {
                                        "name": "grade2"
                                    }
                                ]
                            },
                            "data": [
                                {
                                    "0": "101",
                                    "1": "97.00",
                                    "2": "A",
                                    "3": "A"
                                },
                                {
                                    "0": "102",
                                    "1": "97.00",
                                    "2": "B",
                                    "3": "B+"
                                },
                                {
                                    "0": "2",
                                    "1": "81.23",
                                    "2": "B+",
                                    "3": "B+"
                                },
                                {
                                    "0": "3",
                                    "1": "99.76",
                                    "2": "A",
                                    "3": "A"
                                },
                                {
                                    "0": "9",
                                    "1": "96.74",
                                    "2": "A",
                                    "3": "A"
                                },
                                {
                                    "0": "11",
                                    "1": "98.62",
                                    "2": "A",
                                    "3": "A"
                                },
                                {
                                    "0": "20",
                                    "1": "86.35",
                                    "2": "A",
                                    "3": "A"
                                },
                                {
                                    "0": "21",
                                    "1": "85.82",
                                    "2": "A",
                                    "3": "A"
                                },
                                {
                                    "0": "22",
                                    "1": "97.79",
                                    "2": "A",
                                    "3": "A"
                                },
                                {
                                    "0": "27",
                                    "1": "91.20",
                                    "2": "A",
                                    "3": "A"
                                },
                                {
                                    "0": "29",
                                    "1": "84.21",
                                    "2": "B+",
                                    "3": "B+"
                                },
                                {
                                    "0": "30",
                                    "1": "94.95",
                                    "2": "A",
                                    "3": "A"
                                },
                                {
                                    "0": "37",
                                    "1": "98.02",
                                    "2": "A",
                                    "3": "A"
                                },
                                {
                                    "0": "38",
                                    "1": "99.32",
                                    "2": "A",
                                    "3": "A"
                                },
                                {
                                    "0": "40",
                                    "1": "94.76",
                                    "2": "A",
                                    "3": "A"
                                },
                                {
                                    "0": "45",
                                    "1": "85.58",
                                    "2": "A",
                                    "3": "A"
                                },
                                {
                                    "0": "46",
                                    "1": "89.73",
                                    "2": "A",
                                    "3": "A"
                                }
                            ]
                        },
                        "text/html": "<table><tr><th>student_id</th><th>score</th><th>grade</th><th>grade2</th></tr><tr><td>101</td><td>97.00</td><td>A</td><td>A</td></tr><tr><td>102</td><td>97.00</td><td>B</td><td>B+</td></tr><tr><td>2</td><td>81.23</td><td>B+</td><td>B+</td></tr><tr><td>3</td><td>99.76</td><td>A</td><td>A</td></tr><tr><td>9</td><td>96.74</td><td>A</td><td>A</td></tr><tr><td>11</td><td>98.62</td><td>A</td><td>A</td></tr><tr><td>20</td><td>86.35</td><td>A</td><td>A</td></tr><tr><td>21</td><td>85.82</td><td>A</td><td>A</td></tr><tr><td>22</td><td>97.79</td><td>A</td><td>A</td></tr><tr><td>27</td><td>91.20</td><td>A</td><td>A</td></tr><tr><td>29</td><td>84.21</td><td>B+</td><td>B+</td></tr><tr><td>30</td><td>94.95</td><td>A</td><td>A</td></tr><tr><td>37</td><td>98.02</td><td>A</td><td>A</td></tr><tr><td>38</td><td>99.32</td><td>A</td><td>A</td></tr><tr><td>40</td><td>94.76</td><td>A</td><td>A</td></tr><tr><td>45</td><td>85.58</td><td>A</td><td>A</td></tr><tr><td>46</td><td>89.73</td><td>A</td><td>A</td></tr></table>"
                    }
                }
            ],
            "execution_count": 8
        },
        {
            "cell_type": "code",
            "source": [
                "SELECT * from student_grade where grade2 BETWEEN 'C' and 'D'"
            ],
            "metadata": {
                "azdata_cell_guid": "4cfe0d8a-c70a-4a99-bb82-58347c1683ab"
            },
            "outputs": [
                {
                    "output_type": "display_data",
                    "data": {
                        "text/html": "(17 row(s) affected)"
                    },
                    "metadata": {}
                },
                {
                    "output_type": "display_data",
                    "data": {
                        "text/html": "Total execution time: 00:00:00.014"
                    },
                    "metadata": {}
                },
                {
                    "output_type": "execute_result",
                    "metadata": {},
                    "execution_count": 6,
                    "data": {
                        "application/vnd.dataresource+json": {
                            "schema": {
                                "fields": [
                                    {
                                        "name": "student_id"
                                    },
                                    {
                                        "name": "score"
                                    },
                                    {
                                        "name": "grade"
                                    },
                                    {
                                        "name": "grade2"
                                    }
                                ]
                            },
                            "data": [
                                {
                                    "0": "6",
                                    "1": "67.71",
                                    "2": "C",
                                    "3": "C"
                                },
                                {
                                    "0": "13",
                                    "1": "57.05",
                                    "2": "D+",
                                    "3": "D+"
                                },
                                {
                                    "0": "15",
                                    "1": "60.17",
                                    "2": "C",
                                    "3": "C"
                                },
                                {
                                    "0": "18",
                                    "1": "64.35",
                                    "2": "C",
                                    "3": "C"
                                },
                                {
                                    "0": "23",
                                    "1": "56.81",
                                    "2": "D+",
                                    "3": "D+"
                                },
                                {
                                    "0": "25",
                                    "1": "64.03",
                                    "2": "C",
                                    "3": "C"
                                },
                                {
                                    "0": "28",
                                    "1": "52.03",
                                    "2": "D",
                                    "3": "D"
                                },
                                {
                                    "0": "32",
                                    "1": "58.07",
                                    "2": "D+",
                                    "3": "D+"
                                },
                                {
                                    "0": "35",
                                    "1": "66.73",
                                    "2": "C",
                                    "3": "C"
                                },
                                {
                                    "0": "39",
                                    "1": "53.80",
                                    "2": "D",
                                    "3": "D"
                                },
                                {
                                    "0": "42",
                                    "1": "52.42",
                                    "2": "D",
                                    "3": "D"
                                },
                                {
                                    "0": "43",
                                    "1": "69.56",
                                    "2": "C",
                                    "3": "C"
                                },
                                {
                                    "0": "44",
                                    "1": "64.16",
                                    "2": "C",
                                    "3": "C"
                                },
                                {
                                    "0": "47",
                                    "1": "67.54",
                                    "2": "C",
                                    "3": "C"
                                },
                                {
                                    "0": "48",
                                    "1": "56.65",
                                    "2": "D+",
                                    "3": "D+"
                                },
                                {
                                    "0": "49",
                                    "1": "54.08",
                                    "2": "D",
                                    "3": "D"
                                },
                                {
                                    "0": "50",
                                    "1": "69.19",
                                    "2": "C",
                                    "3": "C"
                                }
                            ]
                        },
                        "text/html": "<table><tr><th>student_id</th><th>score</th><th>grade</th><th>grade2</th></tr><tr><td>6</td><td>67.71</td><td>C</td><td>C</td></tr><tr><td>13</td><td>57.05</td><td>D+</td><td>D+</td></tr><tr><td>15</td><td>60.17</td><td>C</td><td>C</td></tr><tr><td>18</td><td>64.35</td><td>C</td><td>C</td></tr><tr><td>23</td><td>56.81</td><td>D+</td><td>D+</td></tr><tr><td>25</td><td>64.03</td><td>C</td><td>C</td></tr><tr><td>28</td><td>52.03</td><td>D</td><td>D</td></tr><tr><td>32</td><td>58.07</td><td>D+</td><td>D+</td></tr><tr><td>35</td><td>66.73</td><td>C</td><td>C</td></tr><tr><td>39</td><td>53.80</td><td>D</td><td>D</td></tr><tr><td>42</td><td>52.42</td><td>D</td><td>D</td></tr><tr><td>43</td><td>69.56</td><td>C</td><td>C</td></tr><tr><td>44</td><td>64.16</td><td>C</td><td>C</td></tr><tr><td>47</td><td>67.54</td><td>C</td><td>C</td></tr><tr><td>48</td><td>56.65</td><td>D+</td><td>D+</td></tr><tr><td>49</td><td>54.08</td><td>D</td><td>D</td></tr><tr><td>50</td><td>69.19</td><td>C</td><td>C</td></tr></table>"
                    }
                }
            ],
            "execution_count": 6
        }
    ]
}