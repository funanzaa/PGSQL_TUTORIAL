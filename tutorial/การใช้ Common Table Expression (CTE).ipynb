{
    "metadata": {
        "kernelspec": {
            "name": "SQL",
            "display_name": "SQL",
            "language": "sql"
        },
        "language_info": {
            "name": "sql",
            "version": ""
        }
    },
    "nbformat_minor": 2,
    "nbformat": 4,
    "cells": [
        {
            "cell_type": "markdown",
            "source": [
                "# การใช้ Common Table Expression (CTE)"
            ],
            "metadata": {
                "azdata_cell_guid": "e34c900a-a211-4465-aa20-97735e4d3d85"
            }
        },
        {
            "cell_type": "code",
            "source": [
                "select * from sales"
            ],
            "metadata": {
                "azdata_cell_guid": "c6f0f9ca-aebe-4204-9822-e2c032bdf6df"
            },
            "outputs": [
                {
                    "output_type": "error",
                    "ename": "",
                    "evalue": "Execution failed due to an unexpected error: \n\tAnother query is currently executing.",
                    "traceback": []
                },
                {
                    "output_type": "display_data",
                    "data": {
                        "text/html": "Total execution time: 00:00:00"
                    },
                    "metadata": {}
                }
            ],
            "execution_count": 2
        },
        {
            "cell_type": "markdown",
            "source": [
                ""
            ],
            "metadata": {
                "azdata_cell_guid": "7046f4a1-a4c6-417e-a914-b5734a261073"
            }
        },
        {
            "cell_type": "code",
            "source": [
                "SELECT branch,date_part('month',dt)::int \"month\", sum(revenue) total\n",
                "    from sales\n",
                "    where date_part('year',dt) = 2018\n",
                "    GROUP BY branch, date_part('month',dt)\n",
                "    ORDER BY branch,\"month\""
            ],
            "metadata": {
                "azdata_cell_guid": "045d3638-28e6-43b7-b3b3-4fc7d32f8401"
            },
            "outputs": [
                {
                    "output_type": "display_data",
                    "data": {
                        "text/html": "(24 row(s) affected)"
                    },
                    "metadata": {}
                },
                {
                    "output_type": "display_data",
                    "data": {
                        "text/html": "Total execution time: 00:00:00.014"
                    },
                    "metadata": {}
                },
                {
                    "output_type": "execute_result",
                    "execution_count": 5,
                    "data": {
                        "application/vnd.dataresource+json": {
                            "schema": {
                                "fields": [
                                    {
                                        "name": "branch"
                                    },
                                    {
                                        "name": "month"
                                    },
                                    {
                                        "name": "total"
                                    }
                                ]
                            },
                            "data": [
                                {
                                    "0": "bangkok",
                                    "1": "1",
                                    "2": "20728"
                                },
                                {
                                    "0": "bangkok",
                                    "1": "2",
                                    "2": "15822"
                                },
                                {
                                    "0": "bangkok",
                                    "1": "3",
                                    "2": "17184"
                                },
                                {
                                    "0": "bangkok",
                                    "1": "4",
                                    "2": "21011"
                                },
                                {
                                    "0": "bangkok",
                                    "1": "5",
                                    "2": "18634"
                                },
                                {
                                    "0": "bangkok",
                                    "1": "6",
                                    "2": "14029"
                                },
                                {
                                    "0": "bangkok",
                                    "1": "7",
                                    "2": "17666"
                                },
                                {
                                    "0": "bangkok",
                                    "1": "8",
                                    "2": "16647"
                                },
                                {
                                    "0": "bangkok",
                                    "1": "9",
                                    "2": "17154"
                                },
                                {
                                    "0": "bangkok",
                                    "1": "10",
                                    "2": "19355"
                                },
                                {
                                    "0": "bangkok",
                                    "1": "11",
                                    "2": "17175"
                                },
                                {
                                    "0": "bangkok",
                                    "1": "12",
                                    "2": "17984"
                                },
                                {
                                    "0": "phuket",
                                    "1": "1",
                                    "2": "14800"
                                },
                                {
                                    "0": "phuket",
                                    "1": "2",
                                    "2": "13807"
                                },
                                {
                                    "0": "phuket",
                                    "1": "3",
                                    "2": "13293"
                                },
                                {
                                    "0": "phuket",
                                    "1": "4",
                                    "2": "12962"
                                },
                                {
                                    "0": "phuket",
                                    "1": "5",
                                    "2": "14311"
                                },
                                {
                                    "0": "phuket",
                                    "1": "6",
                                    "2": "12837"
                                },
                                {
                                    "0": "phuket",
                                    "1": "7",
                                    "2": "12723"
                                },
                                {
                                    "0": "phuket",
                                    "1": "8",
                                    "2": "14400"
                                },
                                {
                                    "0": "phuket",
                                    "1": "9",
                                    "2": "13060"
                                },
                                {
                                    "0": "phuket",
                                    "1": "10",
                                    "2": "14421"
                                },
                                {
                                    "0": "phuket",
                                    "1": "11",
                                    "2": "14596"
                                },
                                {
                                    "0": "phuket",
                                    "1": "12",
                                    "2": "12546"
                                }
                            ]
                        },
                        "text/html": "<table><tr><th>branch</th><th>month</th><th>total</th></tr><tr><td>bangkok</td><td>1</td><td>20728</td></tr><tr><td>bangkok</td><td>2</td><td>15822</td></tr><tr><td>bangkok</td><td>3</td><td>17184</td></tr><tr><td>bangkok</td><td>4</td><td>21011</td></tr><tr><td>bangkok</td><td>5</td><td>18634</td></tr><tr><td>bangkok</td><td>6</td><td>14029</td></tr><tr><td>bangkok</td><td>7</td><td>17666</td></tr><tr><td>bangkok</td><td>8</td><td>16647</td></tr><tr><td>bangkok</td><td>9</td><td>17154</td></tr><tr><td>bangkok</td><td>10</td><td>19355</td></tr><tr><td>bangkok</td><td>11</td><td>17175</td></tr><tr><td>bangkok</td><td>12</td><td>17984</td></tr><tr><td>phuket</td><td>1</td><td>14800</td></tr><tr><td>phuket</td><td>2</td><td>13807</td></tr><tr><td>phuket</td><td>3</td><td>13293</td></tr><tr><td>phuket</td><td>4</td><td>12962</td></tr><tr><td>phuket</td><td>5</td><td>14311</td></tr><tr><td>phuket</td><td>6</td><td>12837</td></tr><tr><td>phuket</td><td>7</td><td>12723</td></tr><tr><td>phuket</td><td>8</td><td>14400</td></tr><tr><td>phuket</td><td>9</td><td>13060</td></tr><tr><td>phuket</td><td>10</td><td>14421</td></tr><tr><td>phuket</td><td>11</td><td>14596</td></tr><tr><td>phuket</td><td>12</td><td>12546</td></tr></table>"
                    },
                    "metadata": {}
                }
            ],
            "execution_count": 5
        },
        {
            "cell_type": "code",
            "source": [
                "with  cte as (\n",
                "    SELECT branch,date_part('month',dt)::int \"month\", sum(revenue) total\n",
                "    from sales\n",
                "    where date_part('year',dt) = 2018\n",
                "    GROUP BY branch, date_part('month',dt)\n",
                "    ORDER BY branch,\"month\"\n",
                ")\n",
                "select * from cte\n",
                ""
            ],
            "metadata": {
                "azdata_cell_guid": "def8146e-47e4-4606-9205-465f2c19d975"
            },
            "outputs": [
                {
                    "output_type": "display_data",
                    "data": {
                        "text/html": "(24 row(s) affected)"
                    },
                    "metadata": {}
                },
                {
                    "output_type": "display_data",
                    "data": {
                        "text/html": "Total execution time: 00:00:00.022"
                    },
                    "metadata": {}
                },
                {
                    "output_type": "execute_result",
                    "execution_count": 6,
                    "data": {
                        "application/vnd.dataresource+json": {
                            "schema": {
                                "fields": [
                                    {
                                        "name": "branch"
                                    },
                                    {
                                        "name": "month"
                                    },
                                    {
                                        "name": "total"
                                    }
                                ]
                            },
                            "data": [
                                {
                                    "0": "bangkok",
                                    "1": "1",
                                    "2": "20728"
                                },
                                {
                                    "0": "bangkok",
                                    "1": "2",
                                    "2": "15822"
                                },
                                {
                                    "0": "bangkok",
                                    "1": "3",
                                    "2": "17184"
                                },
                                {
                                    "0": "bangkok",
                                    "1": "4",
                                    "2": "21011"
                                },
                                {
                                    "0": "bangkok",
                                    "1": "5",
                                    "2": "18634"
                                },
                                {
                                    "0": "bangkok",
                                    "1": "6",
                                    "2": "14029"
                                },
                                {
                                    "0": "bangkok",
                                    "1": "7",
                                    "2": "17666"
                                },
                                {
                                    "0": "bangkok",
                                    "1": "8",
                                    "2": "16647"
                                },
                                {
                                    "0": "bangkok",
                                    "1": "9",
                                    "2": "17154"
                                },
                                {
                                    "0": "bangkok",
                                    "1": "10",
                                    "2": "19355"
                                },
                                {
                                    "0": "bangkok",
                                    "1": "11",
                                    "2": "17175"
                                },
                                {
                                    "0": "bangkok",
                                    "1": "12",
                                    "2": "17984"
                                },
                                {
                                    "0": "phuket",
                                    "1": "1",
                                    "2": "14800"
                                },
                                {
                                    "0": "phuket",
                                    "1": "2",
                                    "2": "13807"
                                },
                                {
                                    "0": "phuket",
                                    "1": "3",
                                    "2": "13293"
                                },
                                {
                                    "0": "phuket",
                                    "1": "4",
                                    "2": "12962"
                                },
                                {
                                    "0": "phuket",
                                    "1": "5",
                                    "2": "14311"
                                },
                                {
                                    "0": "phuket",
                                    "1": "6",
                                    "2": "12837"
                                },
                                {
                                    "0": "phuket",
                                    "1": "7",
                                    "2": "12723"
                                },
                                {
                                    "0": "phuket",
                                    "1": "8",
                                    "2": "14400"
                                },
                                {
                                    "0": "phuket",
                                    "1": "9",
                                    "2": "13060"
                                },
                                {
                                    "0": "phuket",
                                    "1": "10",
                                    "2": "14421"
                                },
                                {
                                    "0": "phuket",
                                    "1": "11",
                                    "2": "14596"
                                },
                                {
                                    "0": "phuket",
                                    "1": "12",
                                    "2": "12546"
                                }
                            ]
                        },
                        "text/html": "<table><tr><th>branch</th><th>month</th><th>total</th></tr><tr><td>bangkok</td><td>1</td><td>20728</td></tr><tr><td>bangkok</td><td>2</td><td>15822</td></tr><tr><td>bangkok</td><td>3</td><td>17184</td></tr><tr><td>bangkok</td><td>4</td><td>21011</td></tr><tr><td>bangkok</td><td>5</td><td>18634</td></tr><tr><td>bangkok</td><td>6</td><td>14029</td></tr><tr><td>bangkok</td><td>7</td><td>17666</td></tr><tr><td>bangkok</td><td>8</td><td>16647</td></tr><tr><td>bangkok</td><td>9</td><td>17154</td></tr><tr><td>bangkok</td><td>10</td><td>19355</td></tr><tr><td>bangkok</td><td>11</td><td>17175</td></tr><tr><td>bangkok</td><td>12</td><td>17984</td></tr><tr><td>phuket</td><td>1</td><td>14800</td></tr><tr><td>phuket</td><td>2</td><td>13807</td></tr><tr><td>phuket</td><td>3</td><td>13293</td></tr><tr><td>phuket</td><td>4</td><td>12962</td></tr><tr><td>phuket</td><td>5</td><td>14311</td></tr><tr><td>phuket</td><td>6</td><td>12837</td></tr><tr><td>phuket</td><td>7</td><td>12723</td></tr><tr><td>phuket</td><td>8</td><td>14400</td></tr><tr><td>phuket</td><td>9</td><td>13060</td></tr><tr><td>phuket</td><td>10</td><td>14421</td></tr><tr><td>phuket</td><td>11</td><td>14596</td></tr><tr><td>phuket</td><td>12</td><td>12546</td></tr></table>"
                    },
                    "metadata": {}
                }
            ],
            "execution_count": 6
        },
        {
            "cell_type": "code",
            "source": [
                "   SELECT \n",
                "    branch,date_part('year',dt)::int \"year\",\n",
                "    date_part('month',dt)::int \"month\", sum(revenue) total\n",
                "    from sales\n",
                "    where date_part('year',dt) = 2018\n",
                "    GROUP BY branch, date_part('year',dt),date_part('month',dt)\n",
                "    ORDER BY branch,\"year\",\"month\""
            ],
            "metadata": {
                "azdata_cell_guid": "641bfdf6-8f95-4bde-9c76-74c920043b69"
            },
            "outputs": [
                {
                    "output_type": "display_data",
                    "data": {
                        "text/html": "(24 row(s) affected)"
                    },
                    "metadata": {}
                },
                {
                    "output_type": "display_data",
                    "data": {
                        "text/html": "Total execution time: 00:00:00.009"
                    },
                    "metadata": {}
                },
                {
                    "output_type": "execute_result",
                    "metadata": {},
                    "execution_count": 5,
                    "data": {
                        "application/vnd.dataresource+json": {
                            "schema": {
                                "fields": [
                                    {
                                        "name": "branch"
                                    },
                                    {
                                        "name": "year"
                                    },
                                    {
                                        "name": "month"
                                    },
                                    {
                                        "name": "total"
                                    }
                                ]
                            },
                            "data": [
                                {
                                    "0": "bangkok",
                                    "1": "2018",
                                    "2": "1",
                                    "3": "20728"
                                },
                                {
                                    "0": "bangkok",
                                    "1": "2018",
                                    "2": "2",
                                    "3": "15822"
                                },
                                {
                                    "0": "bangkok",
                                    "1": "2018",
                                    "2": "3",
                                    "3": "17184"
                                },
                                {
                                    "0": "bangkok",
                                    "1": "2018",
                                    "2": "4",
                                    "3": "21011"
                                },
                                {
                                    "0": "bangkok",
                                    "1": "2018",
                                    "2": "5",
                                    "3": "18634"
                                },
                                {
                                    "0": "bangkok",
                                    "1": "2018",
                                    "2": "6",
                                    "3": "14029"
                                },
                                {
                                    "0": "bangkok",
                                    "1": "2018",
                                    "2": "7",
                                    "3": "17666"
                                },
                                {
                                    "0": "bangkok",
                                    "1": "2018",
                                    "2": "8",
                                    "3": "16647"
                                },
                                {
                                    "0": "bangkok",
                                    "1": "2018",
                                    "2": "9",
                                    "3": "17154"
                                },
                                {
                                    "0": "bangkok",
                                    "1": "2018",
                                    "2": "10",
                                    "3": "19355"
                                },
                                {
                                    "0": "bangkok",
                                    "1": "2018",
                                    "2": "11",
                                    "3": "17175"
                                },
                                {
                                    "0": "bangkok",
                                    "1": "2018",
                                    "2": "12",
                                    "3": "17984"
                                },
                                {
                                    "0": "phuket",
                                    "1": "2018",
                                    "2": "1",
                                    "3": "14800"
                                },
                                {
                                    "0": "phuket",
                                    "1": "2018",
                                    "2": "2",
                                    "3": "13807"
                                },
                                {
                                    "0": "phuket",
                                    "1": "2018",
                                    "2": "3",
                                    "3": "13293"
                                },
                                {
                                    "0": "phuket",
                                    "1": "2018",
                                    "2": "4",
                                    "3": "12962"
                                },
                                {
                                    "0": "phuket",
                                    "1": "2018",
                                    "2": "5",
                                    "3": "14311"
                                },
                                {
                                    "0": "phuket",
                                    "1": "2018",
                                    "2": "6",
                                    "3": "12837"
                                },
                                {
                                    "0": "phuket",
                                    "1": "2018",
                                    "2": "7",
                                    "3": "12723"
                                },
                                {
                                    "0": "phuket",
                                    "1": "2018",
                                    "2": "8",
                                    "3": "14400"
                                },
                                {
                                    "0": "phuket",
                                    "1": "2018",
                                    "2": "9",
                                    "3": "13060"
                                },
                                {
                                    "0": "phuket",
                                    "1": "2018",
                                    "2": "10",
                                    "3": "14421"
                                },
                                {
                                    "0": "phuket",
                                    "1": "2018",
                                    "2": "11",
                                    "3": "14596"
                                },
                                {
                                    "0": "phuket",
                                    "1": "2018",
                                    "2": "12",
                                    "3": "12546"
                                }
                            ]
                        },
                        "text/html": "<table><tr><th>branch</th><th>year</th><th>month</th><th>total</th></tr><tr><td>bangkok</td><td>2018</td><td>1</td><td>20728</td></tr><tr><td>bangkok</td><td>2018</td><td>2</td><td>15822</td></tr><tr><td>bangkok</td><td>2018</td><td>3</td><td>17184</td></tr><tr><td>bangkok</td><td>2018</td><td>4</td><td>21011</td></tr><tr><td>bangkok</td><td>2018</td><td>5</td><td>18634</td></tr><tr><td>bangkok</td><td>2018</td><td>6</td><td>14029</td></tr><tr><td>bangkok</td><td>2018</td><td>7</td><td>17666</td></tr><tr><td>bangkok</td><td>2018</td><td>8</td><td>16647</td></tr><tr><td>bangkok</td><td>2018</td><td>9</td><td>17154</td></tr><tr><td>bangkok</td><td>2018</td><td>10</td><td>19355</td></tr><tr><td>bangkok</td><td>2018</td><td>11</td><td>17175</td></tr><tr><td>bangkok</td><td>2018</td><td>12</td><td>17984</td></tr><tr><td>phuket</td><td>2018</td><td>1</td><td>14800</td></tr><tr><td>phuket</td><td>2018</td><td>2</td><td>13807</td></tr><tr><td>phuket</td><td>2018</td><td>3</td><td>13293</td></tr><tr><td>phuket</td><td>2018</td><td>4</td><td>12962</td></tr><tr><td>phuket</td><td>2018</td><td>5</td><td>14311</td></tr><tr><td>phuket</td><td>2018</td><td>6</td><td>12837</td></tr><tr><td>phuket</td><td>2018</td><td>7</td><td>12723</td></tr><tr><td>phuket</td><td>2018</td><td>8</td><td>14400</td></tr><tr><td>phuket</td><td>2018</td><td>9</td><td>13060</td></tr><tr><td>phuket</td><td>2018</td><td>10</td><td>14421</td></tr><tr><td>phuket</td><td>2018</td><td>11</td><td>14596</td></tr><tr><td>phuket</td><td>2018</td><td>12</td><td>12546</td></tr></table>"
                    }
                }
            ],
            "execution_count": 5
        },
        {
            "cell_type": "code",
            "source": [
                "with  cte as (\n",
                "    SELECT branch,date_part('month',dt)::int \"month\", sum(revenue) total\n",
                "    from sales\n",
                "    where date_part('year',dt) = 2018\n",
                "    GROUP BY branch, date_part('month',dt)\n",
                "    ORDER BY branch,\"month\"\n",
                "),\n",
                "b as (\n",
                "    SELECT * from cte where branch = 'bangkok'\n",
                "),\n",
                "p as (\n",
                "    SELECT * from cte where branch = 'phuket'\n",
                ")\n",
                "select b.month,b.total \"Bangkok\",p.total \"Phuket\",b.total - p.total \"Bkk-Phuket\"\n",
                " from  b inner join  p using (month)\n",
                "\n",
                ""
            ],
            "metadata": {
                "azdata_cell_guid": "b6bb1238-84d9-476b-97a9-f203781ddeaa",
                "tags": []
            },
            "outputs": [
                {
                    "output_type": "display_data",
                    "data": {
                        "text/html": "(12 row(s) affected)"
                    },
                    "metadata": {}
                },
                {
                    "output_type": "display_data",
                    "data": {
                        "text/html": "Total execution time: 00:00:00.008"
                    },
                    "metadata": {}
                },
                {
                    "output_type": "execute_result",
                    "metadata": {},
                    "execution_count": 9,
                    "data": {
                        "application/vnd.dataresource+json": {
                            "schema": {
                                "fields": [
                                    {
                                        "name": "month"
                                    },
                                    {
                                        "name": "Bangkok"
                                    },
                                    {
                                        "name": "Phuket"
                                    },
                                    {
                                        "name": "Bkk-Phuket"
                                    }
                                ]
                            },
                            "data": [
                                {
                                    "0": "1",
                                    "1": "20728",
                                    "2": "14800",
                                    "3": "5928"
                                },
                                {
                                    "0": "2",
                                    "1": "15822",
                                    "2": "13807",
                                    "3": "2015"
                                },
                                {
                                    "0": "3",
                                    "1": "17184",
                                    "2": "13293",
                                    "3": "3891"
                                },
                                {
                                    "0": "4",
                                    "1": "21011",
                                    "2": "12962",
                                    "3": "8049"
                                },
                                {
                                    "0": "5",
                                    "1": "18634",
                                    "2": "14311",
                                    "3": "4323"
                                },
                                {
                                    "0": "6",
                                    "1": "14029",
                                    "2": "12837",
                                    "3": "1192"
                                },
                                {
                                    "0": "7",
                                    "1": "17666",
                                    "2": "12723",
                                    "3": "4943"
                                },
                                {
                                    "0": "8",
                                    "1": "16647",
                                    "2": "14400",
                                    "3": "2247"
                                },
                                {
                                    "0": "9",
                                    "1": "17154",
                                    "2": "13060",
                                    "3": "4094"
                                },
                                {
                                    "0": "10",
                                    "1": "19355",
                                    "2": "14421",
                                    "3": "4934"
                                },
                                {
                                    "0": "11",
                                    "1": "17175",
                                    "2": "14596",
                                    "3": "2579"
                                },
                                {
                                    "0": "12",
                                    "1": "17984",
                                    "2": "12546",
                                    "3": "5438"
                                }
                            ]
                        },
                        "text/html": "<table><tr><th>month</th><th>Bangkok</th><th>Phuket</th><th>Bkk-Phuket</th></tr><tr><td>1</td><td>20728</td><td>14800</td><td>5928</td></tr><tr><td>2</td><td>15822</td><td>13807</td><td>2015</td></tr><tr><td>3</td><td>17184</td><td>13293</td><td>3891</td></tr><tr><td>4</td><td>21011</td><td>12962</td><td>8049</td></tr><tr><td>5</td><td>18634</td><td>14311</td><td>4323</td></tr><tr><td>6</td><td>14029</td><td>12837</td><td>1192</td></tr><tr><td>7</td><td>17666</td><td>12723</td><td>4943</td></tr><tr><td>8</td><td>16647</td><td>14400</td><td>2247</td></tr><tr><td>9</td><td>17154</td><td>13060</td><td>4094</td></tr><tr><td>10</td><td>19355</td><td>14421</td><td>4934</td></tr><tr><td>11</td><td>17175</td><td>14596</td><td>2579</td></tr><tr><td>12</td><td>17984</td><td>12546</td><td>5438</td></tr></table>"
                    }
                }
            ],
            "execution_count": 9
        }
    ]
}