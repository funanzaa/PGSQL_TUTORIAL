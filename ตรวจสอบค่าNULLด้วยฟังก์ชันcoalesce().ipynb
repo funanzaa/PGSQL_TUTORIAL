{
    "metadata": {
        "kernelspec": {
            "name": "SQL",
            "display_name": "SQL",
            "language": "sql"
        },
        "language_info": {
            "name": "sql",
            "version": ""
        }
    },
    "nbformat_minor": 2,
    "nbformat": 4,
    "cells": [
        {
            "cell_type": "markdown",
            "source": [
                "# จัดการกับคอลัมน์ตัวเลขที่มีค่า NULL"
            ],
            "metadata": {
                "azdata_cell_guid": "32e28055-a1c0-4a1a-a9f3-fc78ce4326cc"
            }
        },
        {
            "cell_type": "code",
            "source": [
                "select * from student_score"
            ],
            "metadata": {
                "azdata_cell_guid": "43024232-d530-44ce-bac2-72d0cf26eb05"
            },
            "outputs": [
                {
                    "output_type": "display_data",
                    "data": {
                        "text/html": "(10 row(s) affected)"
                    },
                    "metadata": {}
                },
                {
                    "output_type": "display_data",
                    "data": {
                        "text/html": "Total execution time: 00:00:00.013"
                    },
                    "metadata": {}
                },
                {
                    "output_type": "execute_result",
                    "metadata": {},
                    "execution_count": 1,
                    "data": {
                        "application/vnd.dataresource+json": {
                            "schema": {
                                "fields": [
                                    {
                                        "name": "id"
                                    },
                                    {
                                        "name": "quiz1"
                                    },
                                    {
                                        "name": "quiz2"
                                    },
                                    {
                                        "name": "quiz3"
                                    }
                                ]
                            },
                            "data": [
                                {
                                    "0": "1",
                                    "1": "6",
                                    "2": "13",
                                    "3": "20"
                                },
                                {
                                    "0": "2",
                                    "1": "7",
                                    "2": "21",
                                    "3": "24"
                                },
                                {
                                    "0": "3",
                                    "1": "21",
                                    "2": "15",
                                    "3": "NULL"
                                },
                                {
                                    "0": "4",
                                    "1": "NULL",
                                    "2": "6",
                                    "3": "NULL"
                                },
                                {
                                    "0": "5",
                                    "1": "15",
                                    "2": "NULL",
                                    "3": "16"
                                },
                                {
                                    "0": "6",
                                    "1": "16",
                                    "2": "NULL",
                                    "3": "NULL"
                                },
                                {
                                    "0": "7",
                                    "1": "23",
                                    "2": "11",
                                    "3": "19"
                                },
                                {
                                    "0": "8",
                                    "1": "5",
                                    "2": "25",
                                    "3": "NULL"
                                },
                                {
                                    "0": "9",
                                    "1": "17",
                                    "2": "15",
                                    "3": "12"
                                },
                                {
                                    "0": "10",
                                    "1": "10",
                                    "2": "9",
                                    "3": "NULL"
                                }
                            ]
                        },
                        "text/html": "<table><tr><th>id</th><th>quiz1</th><th>quiz2</th><th>quiz3</th></tr><tr><td>1</td><td>6</td><td>13</td><td>20</td></tr><tr><td>2</td><td>7</td><td>21</td><td>24</td></tr><tr><td>3</td><td>21</td><td>15</td><td>NULL</td></tr><tr><td>4</td><td>NULL</td><td>6</td><td>NULL</td></tr><tr><td>5</td><td>15</td><td>NULL</td><td>16</td></tr><tr><td>6</td><td>16</td><td>NULL</td><td>NULL</td></tr><tr><td>7</td><td>23</td><td>11</td><td>19</td></tr><tr><td>8</td><td>5</td><td>25</td><td>NULL</td></tr><tr><td>9</td><td>17</td><td>15</td><td>12</td></tr><tr><td>10</td><td>10</td><td>9</td><td>NULL</td></tr></table>"
                    }
                }
            ],
            "execution_count": 1
        },
        {
            "cell_type": "markdown",
            "source": [
                "# แสดงการบวกค่ากับ NUll ไม่ได้"
            ],
            "metadata": {
                "azdata_cell_guid": "d8711c40-1933-481a-96a5-95cfa6a0b6b5"
            }
        },
        {
            "cell_type": "code",
            "source": [
                "select *,quiz1 + quiz2 + quiz3 as total \n",
                "from student_score"
            ],
            "metadata": {
                "azdata_cell_guid": "63f3eb87-6aec-4260-ba2e-ccd4048eba62"
            },
            "outputs": [
                {
                    "output_type": "display_data",
                    "data": {
                        "text/html": "(10 row(s) affected)"
                    },
                    "metadata": {}
                },
                {
                    "output_type": "display_data",
                    "data": {
                        "text/html": "Total execution time: 00:00:00.005"
                    },
                    "metadata": {}
                },
                {
                    "output_type": "execute_result",
                    "metadata": {},
                    "execution_count": 2,
                    "data": {
                        "application/vnd.dataresource+json": {
                            "schema": {
                                "fields": [
                                    {
                                        "name": "id"
                                    },
                                    {
                                        "name": "quiz1"
                                    },
                                    {
                                        "name": "quiz2"
                                    },
                                    {
                                        "name": "quiz3"
                                    },
                                    {
                                        "name": "total"
                                    }
                                ]
                            },
                            "data": [
                                {
                                    "0": "1",
                                    "1": "6",
                                    "2": "13",
                                    "3": "20",
                                    "4": "39"
                                },
                                {
                                    "0": "2",
                                    "1": "7",
                                    "2": "21",
                                    "3": "24",
                                    "4": "52"
                                },
                                {
                                    "0": "3",
                                    "1": "21",
                                    "2": "15",
                                    "3": "NULL",
                                    "4": "NULL"
                                },
                                {
                                    "0": "4",
                                    "1": "NULL",
                                    "2": "6",
                                    "3": "NULL",
                                    "4": "NULL"
                                },
                                {
                                    "0": "5",
                                    "1": "15",
                                    "2": "NULL",
                                    "3": "16",
                                    "4": "NULL"
                                },
                                {
                                    "0": "6",
                                    "1": "16",
                                    "2": "NULL",
                                    "3": "NULL",
                                    "4": "NULL"
                                },
                                {
                                    "0": "7",
                                    "1": "23",
                                    "2": "11",
                                    "3": "19",
                                    "4": "53"
                                },
                                {
                                    "0": "8",
                                    "1": "5",
                                    "2": "25",
                                    "3": "NULL",
                                    "4": "NULL"
                                },
                                {
                                    "0": "9",
                                    "1": "17",
                                    "2": "15",
                                    "3": "12",
                                    "4": "44"
                                },
                                {
                                    "0": "10",
                                    "1": "10",
                                    "2": "9",
                                    "3": "NULL",
                                    "4": "NULL"
                                }
                            ]
                        },
                        "text/html": "<table><tr><th>id</th><th>quiz1</th><th>quiz2</th><th>quiz3</th><th>total</th></tr><tr><td>1</td><td>6</td><td>13</td><td>20</td><td>39</td></tr><tr><td>2</td><td>7</td><td>21</td><td>24</td><td>52</td></tr><tr><td>3</td><td>21</td><td>15</td><td>NULL</td><td>NULL</td></tr><tr><td>4</td><td>NULL</td><td>6</td><td>NULL</td><td>NULL</td></tr><tr><td>5</td><td>15</td><td>NULL</td><td>16</td><td>NULL</td></tr><tr><td>6</td><td>16</td><td>NULL</td><td>NULL</td><td>NULL</td></tr><tr><td>7</td><td>23</td><td>11</td><td>19</td><td>53</td></tr><tr><td>8</td><td>5</td><td>25</td><td>NULL</td><td>NULL</td></tr><tr><td>9</td><td>17</td><td>15</td><td>12</td><td>44</td></tr><tr><td>10</td><td>10</td><td>9</td><td>NULL</td><td>NULL</td></tr></table>"
                    }
                }
            ],
            "execution_count": 2
        },
        {
            "cell_type": "markdown",
            "source": [
                "# ใช้ Coalesce จะเอาตัวแรกที่ไม่ใช่ NULL ออกมา"
            ],
            "metadata": {
                "azdata_cell_guid": "ae26376d-603a-4ab2-b2c4-a7c05b56d996"
            }
        },
        {
            "cell_type": "code",
            "source": [
                "select coalesce(1,2,3),coalesce(null,2,3)"
            ],
            "metadata": {
                "azdata_cell_guid": "e5703af5-63d4-48eb-afb8-cdf9b1c4cd56"
            },
            "outputs": [
                {
                    "output_type": "display_data",
                    "data": {
                        "text/html": "(1 row(s) affected)"
                    },
                    "metadata": {}
                },
                {
                    "output_type": "display_data",
                    "data": {
                        "text/html": "Total execution time: 00:00:00.009"
                    },
                    "metadata": {}
                },
                {
                    "output_type": "execute_result",
                    "metadata": {},
                    "execution_count": 3,
                    "data": {
                        "application/vnd.dataresource+json": {
                            "schema": {
                                "fields": [
                                    {
                                        "name": "coalesce"
                                    },
                                    {
                                        "name": "coalesce"
                                    }
                                ]
                            },
                            "data": [
                                {
                                    "0": "1",
                                    "1": "2"
                                }
                            ]
                        },
                        "text/html": "<table><tr><th>coalesce</th><th>coalesce</th></tr><tr><td>1</td><td>2</td></tr></table>"
                    }
                }
            ],
            "execution_count": 3
        },
        {
            "cell_type": "code",
            "source": [
                "select * , coalesce(quiz1,0) + coalesce(quiz2,0) + coalesce(quiz3,0) as total \n",
                "from student_score"
            ],
            "metadata": {
                "azdata_cell_guid": "614b6e62-9a46-499c-8271-5dd0015b235c"
            },
            "outputs": [
                {
                    "output_type": "display_data",
                    "data": {
                        "text/html": "(10 row(s) affected)"
                    },
                    "metadata": {}
                },
                {
                    "output_type": "display_data",
                    "data": {
                        "text/html": "Total execution time: 00:00:00.005"
                    },
                    "metadata": {}
                },
                {
                    "output_type": "execute_result",
                    "metadata": {},
                    "execution_count": 4,
                    "data": {
                        "application/vnd.dataresource+json": {
                            "schema": {
                                "fields": [
                                    {
                                        "name": "id"
                                    },
                                    {
                                        "name": "quiz1"
                                    },
                                    {
                                        "name": "quiz2"
                                    },
                                    {
                                        "name": "quiz3"
                                    },
                                    {
                                        "name": "total"
                                    }
                                ]
                            },
                            "data": [
                                {
                                    "0": "1",
                                    "1": "6",
                                    "2": "13",
                                    "3": "20",
                                    "4": "39"
                                },
                                {
                                    "0": "2",
                                    "1": "7",
                                    "2": "21",
                                    "3": "24",
                                    "4": "52"
                                },
                                {
                                    "0": "3",
                                    "1": "21",
                                    "2": "15",
                                    "3": "NULL",
                                    "4": "36"
                                },
                                {
                                    "0": "4",
                                    "1": "NULL",
                                    "2": "6",
                                    "3": "NULL",
                                    "4": "6"
                                },
                                {
                                    "0": "5",
                                    "1": "15",
                                    "2": "NULL",
                                    "3": "16",
                                    "4": "31"
                                },
                                {
                                    "0": "6",
                                    "1": "16",
                                    "2": "NULL",
                                    "3": "NULL",
                                    "4": "16"
                                },
                                {
                                    "0": "7",
                                    "1": "23",
                                    "2": "11",
                                    "3": "19",
                                    "4": "53"
                                },
                                {
                                    "0": "8",
                                    "1": "5",
                                    "2": "25",
                                    "3": "NULL",
                                    "4": "30"
                                },
                                {
                                    "0": "9",
                                    "1": "17",
                                    "2": "15",
                                    "3": "12",
                                    "4": "44"
                                },
                                {
                                    "0": "10",
                                    "1": "10",
                                    "2": "9",
                                    "3": "NULL",
                                    "4": "19"
                                }
                            ]
                        },
                        "text/html": "<table><tr><th>id</th><th>quiz1</th><th>quiz2</th><th>quiz3</th><th>total</th></tr><tr><td>1</td><td>6</td><td>13</td><td>20</td><td>39</td></tr><tr><td>2</td><td>7</td><td>21</td><td>24</td><td>52</td></tr><tr><td>3</td><td>21</td><td>15</td><td>NULL</td><td>36</td></tr><tr><td>4</td><td>NULL</td><td>6</td><td>NULL</td><td>6</td></tr><tr><td>5</td><td>15</td><td>NULL</td><td>16</td><td>31</td></tr><tr><td>6</td><td>16</td><td>NULL</td><td>NULL</td><td>16</td></tr><tr><td>7</td><td>23</td><td>11</td><td>19</td><td>53</td></tr><tr><td>8</td><td>5</td><td>25</td><td>NULL</td><td>30</td></tr><tr><td>9</td><td>17</td><td>15</td><td>12</td><td>44</td></tr><tr><td>10</td><td>10</td><td>9</td><td>NULL</td><td>19</td></tr></table>"
                    }
                }
            ],
            "execution_count": 4
        },
        {
            "cell_type": "markdown",
            "source": [
                "# sum ไม่สนใจ null สามารถหาค่าผลรวมได้"
            ],
            "metadata": {
                "azdata_cell_guid": "58e19773-d0d4-4979-9a54-93b9bac29973"
            }
        },
        {
            "cell_type": "code",
            "source": [
                "select sum(quiz1),sum(quiz2),sum(quiz3) \n",
                "from student_score"
            ],
            "metadata": {
                "azdata_cell_guid": "2308c55c-fd4b-4af8-8731-0021432f701c"
            },
            "outputs": [
                {
                    "output_type": "display_data",
                    "data": {
                        "text/html": "(1 row(s) affected)"
                    },
                    "metadata": {}
                },
                {
                    "output_type": "display_data",
                    "data": {
                        "text/html": "Total execution time: 00:00:00.006"
                    },
                    "metadata": {}
                },
                {
                    "output_type": "execute_result",
                    "metadata": {},
                    "execution_count": 5,
                    "data": {
                        "application/vnd.dataresource+json": {
                            "schema": {
                                "fields": [
                                    {
                                        "name": "sum"
                                    },
                                    {
                                        "name": "sum"
                                    },
                                    {
                                        "name": "sum"
                                    }
                                ]
                            },
                            "data": [
                                {
                                    "0": "120",
                                    "1": "115",
                                    "2": "91"
                                }
                            ]
                        },
                        "text/html": "<table><tr><th>sum</th><th>sum</th><th>sum</th></tr><tr><td>120</td><td>115</td><td>91</td></tr></table>"
                    }
                }
            ],
            "execution_count": 5
        },
        {
            "cell_type": "code",
            "source": [
                "select sum(quiz1),sum(quiz2),sum(quiz3),\n",
                "sum(COALESCE(quiz1,0) + COALESCE(quiz2,0)  + COALESCE(quiz3,0)) total\n",
                "from student_score"
            ],
            "metadata": {
                "azdata_cell_guid": "bb76f5d0-72ce-4f58-b887-c90f7007b751"
            },
            "outputs": [
                {
                    "output_type": "display_data",
                    "data": {
                        "text/html": "(1 row(s) affected)"
                    },
                    "metadata": {}
                },
                {
                    "output_type": "display_data",
                    "data": {
                        "text/html": "Total execution time: 00:00:00.010"
                    },
                    "metadata": {}
                },
                {
                    "output_type": "execute_result",
                    "metadata": {},
                    "execution_count": 8,
                    "data": {
                        "application/vnd.dataresource+json": {
                            "schema": {
                                "fields": [
                                    {
                                        "name": "sum"
                                    },
                                    {
                                        "name": "sum"
                                    },
                                    {
                                        "name": "sum"
                                    },
                                    {
                                        "name": "total"
                                    }
                                ]
                            },
                            "data": [
                                {
                                    "0": "120",
                                    "1": "115",
                                    "2": "91",
                                    "3": "326"
                                }
                            ]
                        },
                        "text/html": "<table><tr><th>sum</th><th>sum</th><th>sum</th><th>total</th></tr><tr><td>120</td><td>115</td><td>91</td><td>326</td></tr></table>"
                    }
                }
            ],
            "execution_count": 8
        },
        {
            "cell_type": "markdown",
            "source": [
                "# การสร้างตารางที่มี ผลรวม มี 2 วิธี"
            ],
            "metadata": {
                "azdata_cell_guid": "63df338c-2d23-4477-a2ae-3490baa7299c"
            }
        },
        {
            "cell_type": "code",
            "source": [
                "select id,sum(quiz1) quiz1 ,sum(quiz2) quiz2 ,sum(quiz3) quiz3,\n",
                "sum(COALESCE(quiz1,0) + COALESCE(quiz2,0)  + COALESCE(quiz3,0)) total\n",
                "from student_score\n",
                "GROUP BY grouping sets ((id), ())\n",
                "ORDER BY id"
            ],
            "metadata": {
                "azdata_cell_guid": "19c7067f-0b5c-4382-8148-0e72c4eecf03",
                "tags": []
            },
            "outputs": [
                {
                    "output_type": "display_data",
                    "data": {
                        "text/html": "(11 row(s) affected)"
                    },
                    "metadata": {}
                },
                {
                    "output_type": "display_data",
                    "data": {
                        "text/html": "Total execution time: 00:00:00.013"
                    },
                    "metadata": {}
                },
                {
                    "output_type": "execute_result",
                    "metadata": {},
                    "execution_count": 13,
                    "data": {
                        "application/vnd.dataresource+json": {
                            "schema": {
                                "fields": [
                                    {
                                        "name": "id"
                                    },
                                    {
                                        "name": "quiz1"
                                    },
                                    {
                                        "name": "quiz2"
                                    },
                                    {
                                        "name": "quiz3"
                                    },
                                    {
                                        "name": "total"
                                    }
                                ]
                            },
                            "data": [
                                {
                                    "0": "1",
                                    "1": "6",
                                    "2": "13",
                                    "3": "20",
                                    "4": "39"
                                },
                                {
                                    "0": "2",
                                    "1": "7",
                                    "2": "21",
                                    "3": "24",
                                    "4": "52"
                                },
                                {
                                    "0": "3",
                                    "1": "21",
                                    "2": "15",
                                    "3": "NULL",
                                    "4": "36"
                                },
                                {
                                    "0": "4",
                                    "1": "NULL",
                                    "2": "6",
                                    "3": "NULL",
                                    "4": "6"
                                },
                                {
                                    "0": "5",
                                    "1": "15",
                                    "2": "NULL",
                                    "3": "16",
                                    "4": "31"
                                },
                                {
                                    "0": "6",
                                    "1": "16",
                                    "2": "NULL",
                                    "3": "NULL",
                                    "4": "16"
                                },
                                {
                                    "0": "7",
                                    "1": "23",
                                    "2": "11",
                                    "3": "19",
                                    "4": "53"
                                },
                                {
                                    "0": "8",
                                    "1": "5",
                                    "2": "25",
                                    "3": "NULL",
                                    "4": "30"
                                },
                                {
                                    "0": "9",
                                    "1": "17",
                                    "2": "15",
                                    "3": "12",
                                    "4": "44"
                                },
                                {
                                    "0": "10",
                                    "1": "10",
                                    "2": "9",
                                    "3": "NULL",
                                    "4": "19"
                                },
                                {
                                    "0": "NULL",
                                    "1": "120",
                                    "2": "115",
                                    "3": "91",
                                    "4": "326"
                                }
                            ]
                        },
                        "text/html": "<table><tr><th>id</th><th>quiz1</th><th>quiz2</th><th>quiz3</th><th>total</th></tr><tr><td>1</td><td>6</td><td>13</td><td>20</td><td>39</td></tr><tr><td>2</td><td>7</td><td>21</td><td>24</td><td>52</td></tr><tr><td>3</td><td>21</td><td>15</td><td>NULL</td><td>36</td></tr><tr><td>4</td><td>NULL</td><td>6</td><td>NULL</td><td>6</td></tr><tr><td>5</td><td>15</td><td>NULL</td><td>16</td><td>31</td></tr><tr><td>6</td><td>16</td><td>NULL</td><td>NULL</td><td>16</td></tr><tr><td>7</td><td>23</td><td>11</td><td>19</td><td>53</td></tr><tr><td>8</td><td>5</td><td>25</td><td>NULL</td><td>30</td></tr><tr><td>9</td><td>17</td><td>15</td><td>12</td><td>44</td></tr><tr><td>10</td><td>10</td><td>9</td><td>NULL</td><td>19</td></tr><tr><td>NULL</td><td>120</td><td>115</td><td>91</td><td>326</td></tr></table>"
                    }
                }
            ],
            "execution_count": 13
        },
        {
            "cell_type": "code",
            "source": [
                "select id,sum(quiz1) quiz1 ,sum(quiz2) quiz2 ,sum(quiz3) quiz3,\n",
                "sum(COALESCE(quiz1,0) + COALESCE(quiz2,0)  + COALESCE(quiz3,0)) total\n",
                "from student_score\n",
                "group by id\n",
                "UNION\n",
                "select null,sum(quiz1) quiz1 ,sum(quiz2) quiz2 ,sum(quiz3) quiz3,\n",
                "sum(COALESCE(quiz1,0) + COALESCE(quiz2,0)  + COALESCE(quiz3,0)) total\n",
                "from student_score\n",
                "ORDER BY id"
            ],
            "metadata": {
                "azdata_cell_guid": "e0e9f817-5d8e-4616-a098-a3b8f65a1d86"
            },
            "outputs": [
                {
                    "output_type": "display_data",
                    "data": {
                        "text/html": "(11 row(s) affected)"
                    },
                    "metadata": {}
                },
                {
                    "output_type": "display_data",
                    "data": {
                        "text/html": "Total execution time: 00:00:00.007"
                    },
                    "metadata": {}
                },
                {
                    "output_type": "execute_result",
                    "metadata": {},
                    "execution_count": 16,
                    "data": {
                        "application/vnd.dataresource+json": {
                            "schema": {
                                "fields": [
                                    {
                                        "name": "id"
                                    },
                                    {
                                        "name": "quiz1"
                                    },
                                    {
                                        "name": "quiz2"
                                    },
                                    {
                                        "name": "quiz3"
                                    },
                                    {
                                        "name": "total"
                                    }
                                ]
                            },
                            "data": [
                                {
                                    "0": "1",
                                    "1": "6",
                                    "2": "13",
                                    "3": "20",
                                    "4": "39"
                                },
                                {
                                    "0": "2",
                                    "1": "7",
                                    "2": "21",
                                    "3": "24",
                                    "4": "52"
                                },
                                {
                                    "0": "3",
                                    "1": "21",
                                    "2": "15",
                                    "3": "NULL",
                                    "4": "36"
                                },
                                {
                                    "0": "4",
                                    "1": "NULL",
                                    "2": "6",
                                    "3": "NULL",
                                    "4": "6"
                                },
                                {
                                    "0": "5",
                                    "1": "15",
                                    "2": "NULL",
                                    "3": "16",
                                    "4": "31"
                                },
                                {
                                    "0": "6",
                                    "1": "16",
                                    "2": "NULL",
                                    "3": "NULL",
                                    "4": "16"
                                },
                                {
                                    "0": "7",
                                    "1": "23",
                                    "2": "11",
                                    "3": "19",
                                    "4": "53"
                                },
                                {
                                    "0": "8",
                                    "1": "5",
                                    "2": "25",
                                    "3": "NULL",
                                    "4": "30"
                                },
                                {
                                    "0": "9",
                                    "1": "17",
                                    "2": "15",
                                    "3": "12",
                                    "4": "44"
                                },
                                {
                                    "0": "10",
                                    "1": "10",
                                    "2": "9",
                                    "3": "NULL",
                                    "4": "19"
                                },
                                {
                                    "0": "NULL",
                                    "1": "120",
                                    "2": "115",
                                    "3": "91",
                                    "4": "326"
                                }
                            ]
                        },
                        "text/html": "<table><tr><th>id</th><th>quiz1</th><th>quiz2</th><th>quiz3</th><th>total</th></tr><tr><td>1</td><td>6</td><td>13</td><td>20</td><td>39</td></tr><tr><td>2</td><td>7</td><td>21</td><td>24</td><td>52</td></tr><tr><td>3</td><td>21</td><td>15</td><td>NULL</td><td>36</td></tr><tr><td>4</td><td>NULL</td><td>6</td><td>NULL</td><td>6</td></tr><tr><td>5</td><td>15</td><td>NULL</td><td>16</td><td>31</td></tr><tr><td>6</td><td>16</td><td>NULL</td><td>NULL</td><td>16</td></tr><tr><td>7</td><td>23</td><td>11</td><td>19</td><td>53</td></tr><tr><td>8</td><td>5</td><td>25</td><td>NULL</td><td>30</td></tr><tr><td>9</td><td>17</td><td>15</td><td>12</td><td>44</td></tr><tr><td>10</td><td>10</td><td>9</td><td>NULL</td><td>19</td></tr><tr><td>NULL</td><td>120</td><td>115</td><td>91</td><td>326</td></tr></table>"
                    }
                }
            ],
            "execution_count": 16
        }
    ]
}