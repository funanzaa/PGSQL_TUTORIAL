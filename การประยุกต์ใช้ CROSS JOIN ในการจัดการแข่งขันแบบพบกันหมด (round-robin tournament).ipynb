{
    "metadata": {
        "kernelspec": {
            "name": "SQL",
            "display_name": "SQL",
            "language": "sql"
        },
        "language_info": {
            "name": "sql",
            "version": ""
        }
    },
    "nbformat_minor": 2,
    "nbformat": 4,
    "cells": [
        {
            "cell_type": "markdown",
            "source": [
                "# การประยุกต์ใช้ CROSS JOIN ในการจัดการแข่งขันแบบพบกันหมด (round-robin tournament)"
            ],
            "metadata": {
                "azdata_cell_guid": "1189d102-8648-4fee-b238-bd0777364eb7"
            }
        },
        {
            "cell_type": "code",
            "source": [
                "drop TABLE if exists team;\n",
                "\n",
                "create table team (\n",
                "    name text,\n",
                "    rank int\n",
                ");"
            ],
            "metadata": {
                "azdata_cell_guid": "da5e372a-e823-4640-a8df-424f583c890e"
            },
            "outputs": [
                {
                    "output_type": "display_data",
                    "data": {
                        "text/html": "NOTICE:  table \"team\" does not exist, skipping\n"
                    },
                    "metadata": {}
                },
                {
                    "output_type": "display_data",
                    "data": {
                        "text/html": "Commands completed successfully"
                    },
                    "metadata": {}
                },
                {
                    "output_type": "display_data",
                    "data": {
                        "text/html": "Commands completed successfully"
                    },
                    "metadata": {}
                },
                {
                    "output_type": "display_data",
                    "data": {
                        "text/html": "Total execution time: 00:00:00.055"
                    },
                    "metadata": {}
                }
            ],
            "execution_count": 2
        },
        {
            "cell_type": "code",
            "source": [
                "INSERT INTO team VALUES \n",
                "    ('tiger',4),\n",
                "    ('lion',1),\n",
                "    ('eagle',2),\n",
                "    ('rbino',3)"
            ],
            "metadata": {
                "azdata_cell_guid": "b7015b32-d423-4e8f-a45c-277251a4543a"
            },
            "outputs": [
                {
                    "output_type": "display_data",
                    "data": {
                        "text/html": "Commands completed successfully"
                    },
                    "metadata": {}
                },
                {
                    "output_type": "display_data",
                    "data": {
                        "text/html": "Total execution time: 00:00:00.005"
                    },
                    "metadata": {}
                }
            ],
            "execution_count": 3
        },
        {
            "cell_type": "code",
            "source": [
                "SELECT * from team"
            ],
            "metadata": {
                "azdata_cell_guid": "1283da57-375d-4b8e-8013-960bec58a8c4"
            },
            "outputs": [
                {
                    "output_type": "display_data",
                    "data": {
                        "text/html": "(4 row(s) affected)"
                    },
                    "metadata": {}
                },
                {
                    "output_type": "display_data",
                    "data": {
                        "text/html": "Total execution time: 00:00:00.008"
                    },
                    "metadata": {}
                },
                {
                    "output_type": "execute_result",
                    "execution_count": 4,
                    "data": {
                        "application/vnd.dataresource+json": {
                            "schema": {
                                "fields": [
                                    {
                                        "name": "name"
                                    },
                                    {
                                        "name": "rank"
                                    }
                                ]
                            },
                            "data": [
                                {
                                    "0": "tiger",
                                    "1": "4"
                                },
                                {
                                    "0": "lion",
                                    "1": "1"
                                },
                                {
                                    "0": "eagle",
                                    "1": "2"
                                },
                                {
                                    "0": "rbino",
                                    "1": "3"
                                }
                            ]
                        },
                        "text/html": "<table><tr><th>name</th><th>rank</th></tr><tr><td>tiger</td><td>4</td></tr><tr><td>lion</td><td>1</td></tr><tr><td>eagle</td><td>2</td></tr><tr><td>rbino</td><td>3</td></tr></table>"
                    },
                    "metadata": {}
                }
            ],
            "execution_count": 4
        },
        {
            "cell_type": "code",
            "source": [
                "select a.name,b.name from team a cross join team b"
            ],
            "metadata": {
                "azdata_cell_guid": "be60af17-9e50-4107-9142-e14752426604"
            },
            "outputs": [
                {
                    "output_type": "display_data",
                    "data": {
                        "text/html": "(16 row(s) affected)"
                    },
                    "metadata": {}
                },
                {
                    "output_type": "display_data",
                    "data": {
                        "text/html": "Total execution time: 00:00:00.006"
                    },
                    "metadata": {}
                },
                {
                    "output_type": "execute_result",
                    "execution_count": 5,
                    "data": {
                        "application/vnd.dataresource+json": {
                            "schema": {
                                "fields": [
                                    {
                                        "name": "name"
                                    },
                                    {
                                        "name": "name"
                                    }
                                ]
                            },
                            "data": [
                                {
                                    "0": "tiger",
                                    "1": "tiger"
                                },
                                {
                                    "0": "tiger",
                                    "1": "lion"
                                },
                                {
                                    "0": "tiger",
                                    "1": "eagle"
                                },
                                {
                                    "0": "tiger",
                                    "1": "rbino"
                                },
                                {
                                    "0": "lion",
                                    "1": "tiger"
                                },
                                {
                                    "0": "lion",
                                    "1": "lion"
                                },
                                {
                                    "0": "lion",
                                    "1": "eagle"
                                },
                                {
                                    "0": "lion",
                                    "1": "rbino"
                                },
                                {
                                    "0": "eagle",
                                    "1": "tiger"
                                },
                                {
                                    "0": "eagle",
                                    "1": "lion"
                                },
                                {
                                    "0": "eagle",
                                    "1": "eagle"
                                },
                                {
                                    "0": "eagle",
                                    "1": "rbino"
                                },
                                {
                                    "0": "rbino",
                                    "1": "tiger"
                                },
                                {
                                    "0": "rbino",
                                    "1": "lion"
                                },
                                {
                                    "0": "rbino",
                                    "1": "eagle"
                                },
                                {
                                    "0": "rbino",
                                    "1": "rbino"
                                }
                            ]
                        },
                        "text/html": "<table><tr><th>name</th><th>name</th></tr><tr><td>tiger</td><td>tiger</td></tr><tr><td>tiger</td><td>lion</td></tr><tr><td>tiger</td><td>eagle</td></tr><tr><td>tiger</td><td>rbino</td></tr><tr><td>lion</td><td>tiger</td></tr><tr><td>lion</td><td>lion</td></tr><tr><td>lion</td><td>eagle</td></tr><tr><td>lion</td><td>rbino</td></tr><tr><td>eagle</td><td>tiger</td></tr><tr><td>eagle</td><td>lion</td></tr><tr><td>eagle</td><td>eagle</td></tr><tr><td>eagle</td><td>rbino</td></tr><tr><td>rbino</td><td>tiger</td></tr><tr><td>rbino</td><td>lion</td></tr><tr><td>rbino</td><td>eagle</td></tr><tr><td>rbino</td><td>rbino</td></tr></table>"
                    },
                    "metadata": {}
                }
            ],
            "execution_count": 5
        },
        {
            "cell_type": "code",
            "source": [
                "select a.name,b.name from team a cross join team b\n",
                "    where a.name != b.name"
            ],
            "metadata": {
                "azdata_cell_guid": "c3a975a2-a2e9-49a4-a51b-c7d14fd919aa"
            },
            "outputs": [
                {
                    "output_type": "display_data",
                    "data": {
                        "text/html": "(12 row(s) affected)"
                    },
                    "metadata": {}
                },
                {
                    "output_type": "display_data",
                    "data": {
                        "text/html": "Total execution time: 00:00:00.006"
                    },
                    "metadata": {}
                },
                {
                    "output_type": "execute_result",
                    "execution_count": 6,
                    "data": {
                        "application/vnd.dataresource+json": {
                            "schema": {
                                "fields": [
                                    {
                                        "name": "name"
                                    },
                                    {
                                        "name": "name"
                                    }
                                ]
                            },
                            "data": [
                                {
                                    "0": "tiger",
                                    "1": "lion"
                                },
                                {
                                    "0": "tiger",
                                    "1": "eagle"
                                },
                                {
                                    "0": "tiger",
                                    "1": "rbino"
                                },
                                {
                                    "0": "lion",
                                    "1": "tiger"
                                },
                                {
                                    "0": "lion",
                                    "1": "eagle"
                                },
                                {
                                    "0": "lion",
                                    "1": "rbino"
                                },
                                {
                                    "0": "eagle",
                                    "1": "tiger"
                                },
                                {
                                    "0": "eagle",
                                    "1": "lion"
                                },
                                {
                                    "0": "eagle",
                                    "1": "rbino"
                                },
                                {
                                    "0": "rbino",
                                    "1": "tiger"
                                },
                                {
                                    "0": "rbino",
                                    "1": "lion"
                                },
                                {
                                    "0": "rbino",
                                    "1": "eagle"
                                }
                            ]
                        },
                        "text/html": "<table><tr><th>name</th><th>name</th></tr><tr><td>tiger</td><td>lion</td></tr><tr><td>tiger</td><td>eagle</td></tr><tr><td>tiger</td><td>rbino</td></tr><tr><td>lion</td><td>tiger</td></tr><tr><td>lion</td><td>eagle</td></tr><tr><td>lion</td><td>rbino</td></tr><tr><td>eagle</td><td>tiger</td></tr><tr><td>eagle</td><td>lion</td></tr><tr><td>eagle</td><td>rbino</td></tr><tr><td>rbino</td><td>tiger</td></tr><tr><td>rbino</td><td>lion</td></tr><tr><td>rbino</td><td>eagle</td></tr></table>"
                    },
                    "metadata": {}
                }
            ],
            "execution_count": 6
        },
        {
            "cell_type": "code",
            "source": [
                "select a.name,b.name from team a cross join team b\n",
                "    where a.name < b.name"
            ],
            "metadata": {
                "azdata_cell_guid": "7cd6445a-7f5b-41a1-8f3c-d0dc3544818c",
                "tags": []
            },
            "outputs": [
                {
                    "output_type": "display_data",
                    "data": {
                        "text/html": "(6 row(s) affected)"
                    },
                    "metadata": {}
                },
                {
                    "output_type": "display_data",
                    "data": {
                        "text/html": "Total execution time: 00:00:00.004"
                    },
                    "metadata": {}
                },
                {
                    "output_type": "execute_result",
                    "execution_count": 7,
                    "data": {
                        "application/vnd.dataresource+json": {
                            "schema": {
                                "fields": [
                                    {
                                        "name": "name"
                                    },
                                    {
                                        "name": "name"
                                    }
                                ]
                            },
                            "data": [
                                {
                                    "0": "lion",
                                    "1": "tiger"
                                },
                                {
                                    "0": "lion",
                                    "1": "rbino"
                                },
                                {
                                    "0": "eagle",
                                    "1": "tiger"
                                },
                                {
                                    "0": "eagle",
                                    "1": "lion"
                                },
                                {
                                    "0": "eagle",
                                    "1": "rbino"
                                },
                                {
                                    "0": "rbino",
                                    "1": "tiger"
                                }
                            ]
                        },
                        "text/html": "<table><tr><th>name</th><th>name</th></tr><tr><td>lion</td><td>tiger</td></tr><tr><td>lion</td><td>rbino</td></tr><tr><td>eagle</td><td>tiger</td></tr><tr><td>eagle</td><td>lion</td></tr><tr><td>eagle</td><td>rbino</td></tr><tr><td>rbino</td><td>tiger</td></tr></table>"
                    },
                    "metadata": {}
                }
            ],
            "execution_count": 7
        },
        {
            "cell_type": "markdown",
            "source": [
                "# cross join แบบสั้น"
            ],
            "metadata": {
                "azdata_cell_guid": "50406b14-76ae-4261-8914-2b14ab14e13f"
            }
        },
        {
            "cell_type": "code",
            "source": [
                "select a.name,b.name from team a , team b\n",
                "    where a.name < b.name"
            ],
            "metadata": {
                "azdata_cell_guid": "7487dc51-55bb-4e4a-a239-6950ad2300c2"
            },
            "outputs": [
                {
                    "output_type": "display_data",
                    "data": {
                        "text/html": "(6 row(s) affected)"
                    },
                    "metadata": {}
                },
                {
                    "output_type": "display_data",
                    "data": {
                        "text/html": "Total execution time: 00:00:00.007"
                    },
                    "metadata": {}
                },
                {
                    "output_type": "execute_result",
                    "metadata": {},
                    "execution_count": 1,
                    "data": {
                        "application/vnd.dataresource+json": {
                            "schema": {
                                "fields": [
                                    {
                                        "name": "name"
                                    },
                                    {
                                        "name": "name"
                                    }
                                ]
                            },
                            "data": [
                                {
                                    "0": "lion",
                                    "1": "tiger"
                                },
                                {
                                    "0": "lion",
                                    "1": "rbino"
                                },
                                {
                                    "0": "eagle",
                                    "1": "tiger"
                                },
                                {
                                    "0": "eagle",
                                    "1": "lion"
                                },
                                {
                                    "0": "eagle",
                                    "1": "rbino"
                                },
                                {
                                    "0": "rbino",
                                    "1": "tiger"
                                }
                            ]
                        },
                        "text/html": "<table><tr><th>name</th><th>name</th></tr><tr><td>lion</td><td>tiger</td></tr><tr><td>lion</td><td>rbino</td></tr><tr><td>eagle</td><td>tiger</td></tr><tr><td>eagle</td><td>lion</td></tr><tr><td>eagle</td><td>rbino</td></tr><tr><td>rbino</td><td>tiger</td></tr></table>"
                    }
                }
            ],
            "execution_count": 1
        },
        {
            "cell_type": "code",
            "source": [
                "select concat(a.name,' (', a.rank,') '),\n",
                "        concat(b.name,' (', b.rank,') ')\n",
                "    from team a cross join team b\n",
                "    where a.name < b.name"
            ],
            "metadata": {
                "azdata_cell_guid": "67eba37e-df79-4a26-ab58-e6dbc8ab5bff"
            },
            "outputs": [
                {
                    "output_type": "display_data",
                    "data": {
                        "text/html": "(6 row(s) affected)"
                    },
                    "metadata": {}
                },
                {
                    "output_type": "display_data",
                    "data": {
                        "text/html": "Total execution time: 00:00:00.005"
                    },
                    "metadata": {}
                },
                {
                    "output_type": "execute_result",
                    "metadata": {},
                    "execution_count": 2,
                    "data": {
                        "application/vnd.dataresource+json": {
                            "schema": {
                                "fields": [
                                    {
                                        "name": "concat"
                                    },
                                    {
                                        "name": "concat"
                                    }
                                ]
                            },
                            "data": [
                                {
                                    "0": "lion (1) ",
                                    "1": "tiger (4) "
                                },
                                {
                                    "0": "lion (1) ",
                                    "1": "rbino (3) "
                                },
                                {
                                    "0": "eagle (2) ",
                                    "1": "tiger (4) "
                                },
                                {
                                    "0": "eagle (2) ",
                                    "1": "lion (1) "
                                },
                                {
                                    "0": "eagle (2) ",
                                    "1": "rbino (3) "
                                },
                                {
                                    "0": "rbino (3) ",
                                    "1": "tiger (4) "
                                }
                            ]
                        },
                        "text/html": "<table><tr><th>concat</th><th>concat</th></tr><tr><td>lion (1) </td><td>tiger (4) </td></tr><tr><td>lion (1) </td><td>rbino (3) </td></tr><tr><td>eagle (2) </td><td>tiger (4) </td></tr><tr><td>eagle (2) </td><td>lion (1) </td></tr><tr><td>eagle (2) </td><td>rbino (3) </td></tr><tr><td>rbino (3) </td><td>tiger (4) </td></tr></table>"
                    }
                }
            ],
            "execution_count": 2
        }
    ]
}