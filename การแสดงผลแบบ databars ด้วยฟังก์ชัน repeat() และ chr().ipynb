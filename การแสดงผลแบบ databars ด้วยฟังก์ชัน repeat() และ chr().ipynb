{
    "metadata": {
        "kernelspec": {
            "name": "SQL",
            "display_name": "SQL",
            "language": "sql"
        },
        "language_info": {
            "name": "sql",
            "version": ""
        }
    },
    "nbformat_minor": 2,
    "nbformat": 4,
    "cells": [
        {
            "cell_type": "markdown",
            "source": [
                ""
            ],
            "metadata": {
                "azdata_cell_guid": "23f9b77b-8703-4fec-a456-7af209b9d549"
            }
        },
        {
            "cell_type": "markdown",
            "source": [
                "# Block elements\n",
                "http://en.wikipedia.org/wiki/Block_Elements"
            ],
            "metadata": {
                "azdata_cell_guid": "10e04bd8-4f3d-4a95-9170-b4b0ea7261a8"
            }
        },
        {
            "cell_type": "markdown",
            "source": [
                "# การแสดงผลแบบ databars ด้วยฟังก์ชัน repeat() และ chr()"
            ],
            "metadata": {
                "azdata_cell_guid": "3d049a85-5748-47f7-a309-e570a8f584dc"
            }
        },
        {
            "cell_type": "code",
            "source": [
                "DROP table if exists visitor;\n",
                "\n",
                "create table visitor (\n",
                "    dt date,\n",
                "    male int,\n",
                "    famale int\n",
                ");"
            ],
            "metadata": {
                "azdata_cell_guid": "ce0fd57a-132f-4690-b648-95cd51c5f80a"
            },
            "outputs": [
                {
                    "output_type": "display_data",
                    "data": {
                        "text/html": "Commands completed successfully"
                    },
                    "metadata": {}
                },
                {
                    "output_type": "display_data",
                    "data": {
                        "text/html": "Commands completed successfully"
                    },
                    "metadata": {}
                },
                {
                    "output_type": "display_data",
                    "data": {
                        "text/html": "Total execution time: 00:00:00.010"
                    },
                    "metadata": {}
                }
            ],
            "execution_count": 5
        },
        {
            "cell_type": "markdown",
            "source": [
                "# สร้างตาราง ตัวอย่าง"
            ],
            "metadata": {
                "azdata_cell_guid": "5463dbac-035d-4ba1-ab53-2b3d0e503682"
            }
        },
        {
            "cell_type": "code",
            "source": [
                "select dt::DATE,\n",
                "(10 + random() * 20)::int male,\n",
                "(15 + random() * 20)::int female\n",
                "from generate_series('2019-07-01'::date,'2019-07-10'::date, '1 day') dt"
            ],
            "metadata": {
                "azdata_cell_guid": "28a7e65c-10f8-41af-a704-b3fdc56b2061"
            },
            "outputs": [
                {
                    "output_type": "display_data",
                    "data": {
                        "text/html": "(10 row(s) affected)"
                    },
                    "metadata": {}
                },
                {
                    "output_type": "display_data",
                    "data": {
                        "text/html": "Total execution time: 00:00:00.011"
                    },
                    "metadata": {}
                },
                {
                    "output_type": "execute_result",
                    "metadata": {},
                    "execution_count": 19,
                    "data": {
                        "application/vnd.dataresource+json": {
                            "schema": {
                                "fields": [
                                    {
                                        "name": "dt"
                                    },
                                    {
                                        "name": "male"
                                    },
                                    {
                                        "name": "female"
                                    }
                                ]
                            },
                            "data": [
                                {
                                    "0": "2019-07-01",
                                    "1": "15",
                                    "2": "34"
                                },
                                {
                                    "0": "2019-07-02",
                                    "1": "17",
                                    "2": "25"
                                },
                                {
                                    "0": "2019-07-03",
                                    "1": "11",
                                    "2": "32"
                                },
                                {
                                    "0": "2019-07-04",
                                    "1": "28",
                                    "2": "35"
                                },
                                {
                                    "0": "2019-07-05",
                                    "1": "17",
                                    "2": "26"
                                },
                                {
                                    "0": "2019-07-06",
                                    "1": "14",
                                    "2": "18"
                                },
                                {
                                    "0": "2019-07-07",
                                    "1": "22",
                                    "2": "29"
                                },
                                {
                                    "0": "2019-07-08",
                                    "1": "19",
                                    "2": "32"
                                },
                                {
                                    "0": "2019-07-09",
                                    "1": "23",
                                    "2": "18"
                                },
                                {
                                    "0": "2019-07-10",
                                    "1": "18",
                                    "2": "17"
                                }
                            ]
                        },
                        "text/html": "<table><tr><th>dt</th><th>male</th><th>female</th></tr><tr><td>2019-07-01</td><td>15</td><td>34</td></tr><tr><td>2019-07-02</td><td>17</td><td>25</td></tr><tr><td>2019-07-03</td><td>11</td><td>32</td></tr><tr><td>2019-07-04</td><td>28</td><td>35</td></tr><tr><td>2019-07-05</td><td>17</td><td>26</td></tr><tr><td>2019-07-06</td><td>14</td><td>18</td></tr><tr><td>2019-07-07</td><td>22</td><td>29</td></tr><tr><td>2019-07-08</td><td>19</td><td>32</td></tr><tr><td>2019-07-09</td><td>23</td><td>18</td></tr><tr><td>2019-07-10</td><td>18</td><td>17</td></tr></table>"
                    }
                }
            ],
            "execution_count": 19
        },
        {
            "cell_type": "code",
            "source": [
                "INSERT INTO visitor\n",
                "    select dt::DATE,\n",
                "(10 + random() * 20)::int male,\n",
                "(15 + random() * 20)::int female\n",
                "from generate_series('2019-07-01'::date,'2019-07-10'::date, '1 day') dt"
            ],
            "metadata": {
                "azdata_cell_guid": "eb610f1b-2c2c-4f67-b2d5-5797fa058b16"
            },
            "outputs": [
                {
                    "output_type": "display_data",
                    "data": {
                        "text/html": "Commands completed successfully"
                    },
                    "metadata": {}
                },
                {
                    "output_type": "display_data",
                    "data": {
                        "text/html": "Total execution time: 00:00:00.004"
                    },
                    "metadata": {}
                }
            ],
            "execution_count": 20
        },
        {
            "cell_type": "markdown",
            "source": [
                "# Select databar"
            ],
            "metadata": {
                "azdata_cell_guid": "cd3cca66-d9bf-45d1-9f8b-bb8776cd1ec1"
            }
        },
        {
            "cell_type": "code",
            "source": [
                "select * from visitor"
            ],
            "metadata": {
                "azdata_cell_guid": "8c80472c-35ea-4a9f-b661-c0ff35511ad4"
            },
            "outputs": [
                {
                    "output_type": "display_data",
                    "data": {
                        "text/html": "(10 row(s) affected)"
                    },
                    "metadata": {}
                },
                {
                    "output_type": "display_data",
                    "data": {
                        "text/html": "Total execution time: 00:00:00.006"
                    },
                    "metadata": {}
                },
                {
                    "output_type": "execute_result",
                    "metadata": {},
                    "execution_count": 39,
                    "data": {
                        "application/vnd.dataresource+json": {
                            "schema": {
                                "fields": [
                                    {
                                        "name": "dt"
                                    },
                                    {
                                        "name": "male"
                                    },
                                    {
                                        "name": "famale"
                                    }
                                ]
                            },
                            "data": [
                                {
                                    "0": "2019-07-01",
                                    "1": "12",
                                    "2": "20"
                                },
                                {
                                    "0": "2019-07-02",
                                    "1": "13",
                                    "2": "25"
                                },
                                {
                                    "0": "2019-07-03",
                                    "1": "16",
                                    "2": "19"
                                },
                                {
                                    "0": "2019-07-04",
                                    "1": "19",
                                    "2": "33"
                                },
                                {
                                    "0": "2019-07-05",
                                    "1": "13",
                                    "2": "21"
                                },
                                {
                                    "0": "2019-07-06",
                                    "1": "18",
                                    "2": "23"
                                },
                                {
                                    "0": "2019-07-07",
                                    "1": "15",
                                    "2": "30"
                                },
                                {
                                    "0": "2019-07-08",
                                    "1": "28",
                                    "2": "21"
                                },
                                {
                                    "0": "2019-07-09",
                                    "1": "22",
                                    "2": "31"
                                },
                                {
                                    "0": "2019-07-10",
                                    "1": "16",
                                    "2": "34"
                                }
                            ]
                        },
                        "text/html": "<table><tr><th>dt</th><th>male</th><th>famale</th></tr><tr><td>2019-07-01</td><td>12</td><td>20</td></tr><tr><td>2019-07-02</td><td>13</td><td>25</td></tr><tr><td>2019-07-03</td><td>16</td><td>19</td></tr><tr><td>2019-07-04</td><td>19</td><td>33</td></tr><tr><td>2019-07-05</td><td>13</td><td>21</td></tr><tr><td>2019-07-06</td><td>18</td><td>23</td></tr><tr><td>2019-07-07</td><td>15</td><td>30</td></tr><tr><td>2019-07-08</td><td>28</td><td>21</td></tr><tr><td>2019-07-09</td><td>22</td><td>31</td></tr><tr><td>2019-07-10</td><td>16</td><td>34</td></tr></table>"
                    }
                }
            ],
            "execution_count": 39
        },
        {
            "cell_type": "code",
            "source": [
                "select dt,male\n",
                ",repeat('x',male)\n",
                ",famale\n",
                ",repeat('+',famale)\n",
                "from visitor"
            ],
            "metadata": {
                "azdata_cell_guid": "1c0e015b-9b22-4129-b986-9d8c796974dc",
                "tags": []
            },
            "outputs": [
                {
                    "output_type": "display_data",
                    "data": {
                        "text/html": "(10 row(s) affected)"
                    },
                    "metadata": {}
                },
                {
                    "output_type": "display_data",
                    "data": {
                        "text/html": "Total execution time: 00:00:00.006"
                    },
                    "metadata": {}
                },
                {
                    "output_type": "execute_result",
                    "metadata": {},
                    "execution_count": 48,
                    "data": {
                        "application/vnd.dataresource+json": {
                            "schema": {
                                "fields": [
                                    {
                                        "name": "dt"
                                    },
                                    {
                                        "name": "male"
                                    },
                                    {
                                        "name": "repeat"
                                    },
                                    {
                                        "name": "famale"
                                    },
                                    {
                                        "name": "repeat"
                                    }
                                ]
                            },
                            "data": [
                                {
                                    "0": "2019-07-01",
                                    "1": "12",
                                    "2": "xxxxxxxxxxxx",
                                    "3": "20",
                                    "4": "++++++++++++++++++++"
                                },
                                {
                                    "0": "2019-07-02",
                                    "1": "13",
                                    "2": "xxxxxxxxxxxxx",
                                    "3": "25",
                                    "4": "+++++++++++++++++++++++++"
                                },
                                {
                                    "0": "2019-07-03",
                                    "1": "16",
                                    "2": "xxxxxxxxxxxxxxxx",
                                    "3": "19",
                                    "4": "+++++++++++++++++++"
                                },
                                {
                                    "0": "2019-07-04",
                                    "1": "19",
                                    "2": "xxxxxxxxxxxxxxxxxxx",
                                    "3": "33",
                                    "4": "+++++++++++++++++++++++++++++++++"
                                },
                                {
                                    "0": "2019-07-05",
                                    "1": "13",
                                    "2": "xxxxxxxxxxxxx",
                                    "3": "21",
                                    "4": "+++++++++++++++++++++"
                                },
                                {
                                    "0": "2019-07-06",
                                    "1": "18",
                                    "2": "xxxxxxxxxxxxxxxxxx",
                                    "3": "23",
                                    "4": "+++++++++++++++++++++++"
                                },
                                {
                                    "0": "2019-07-07",
                                    "1": "15",
                                    "2": "xxxxxxxxxxxxxxx",
                                    "3": "30",
                                    "4": "++++++++++++++++++++++++++++++"
                                },
                                {
                                    "0": "2019-07-08",
                                    "1": "28",
                                    "2": "xxxxxxxxxxxxxxxxxxxxxxxxxxxx",
                                    "3": "21",
                                    "4": "+++++++++++++++++++++"
                                },
                                {
                                    "0": "2019-07-09",
                                    "1": "22",
                                    "2": "xxxxxxxxxxxxxxxxxxxxxx",
                                    "3": "31",
                                    "4": "+++++++++++++++++++++++++++++++"
                                },
                                {
                                    "0": "2019-07-10",
                                    "1": "16",
                                    "2": "xxxxxxxxxxxxxxxx",
                                    "3": "34",
                                    "4": "++++++++++++++++++++++++++++++++++"
                                }
                            ]
                        },
                        "text/html": "<table><tr><th>dt</th><th>male</th><th>repeat</th><th>famale</th><th>repeat</th></tr><tr><td>2019-07-01</td><td>12</td><td>xxxxxxxxxxxx</td><td>20</td><td>++++++++++++++++++++</td></tr><tr><td>2019-07-02</td><td>13</td><td>xxxxxxxxxxxxx</td><td>25</td><td>+++++++++++++++++++++++++</td></tr><tr><td>2019-07-03</td><td>16</td><td>xxxxxxxxxxxxxxxx</td><td>19</td><td>+++++++++++++++++++</td></tr><tr><td>2019-07-04</td><td>19</td><td>xxxxxxxxxxxxxxxxxxx</td><td>33</td><td>+++++++++++++++++++++++++++++++++</td></tr><tr><td>2019-07-05</td><td>13</td><td>xxxxxxxxxxxxx</td><td>21</td><td>+++++++++++++++++++++</td></tr><tr><td>2019-07-06</td><td>18</td><td>xxxxxxxxxxxxxxxxxx</td><td>23</td><td>+++++++++++++++++++++++</td></tr><tr><td>2019-07-07</td><td>15</td><td>xxxxxxxxxxxxxxx</td><td>30</td><td>++++++++++++++++++++++++++++++</td></tr><tr><td>2019-07-08</td><td>28</td><td>xxxxxxxxxxxxxxxxxxxxxxxxxxxx</td><td>21</td><td>+++++++++++++++++++++</td></tr><tr><td>2019-07-09</td><td>22</td><td>xxxxxxxxxxxxxxxxxxxxxx</td><td>31</td><td>+++++++++++++++++++++++++++++++</td></tr><tr><td>2019-07-10</td><td>16</td><td>xxxxxxxxxxxxxxxx</td><td>34</td><td>++++++++++++++++++++++++++++++++++</td></tr></table>"
                    }
                }
            ],
            "execution_count": 48
        },
        {
            "cell_type": "code",
            "source": [
                "select chr(x'2591'::int)"
            ],
            "metadata": {
                "azdata_cell_guid": "e777e8ea-5425-43e8-af34-a590a9cfba75"
            },
            "outputs": [
                {
                    "output_type": "display_data",
                    "data": {
                        "text/html": "(1 row(s) affected)"
                    },
                    "metadata": {}
                },
                {
                    "output_type": "display_data",
                    "data": {
                        "text/html": "Total execution time: 00:00:00.010"
                    },
                    "metadata": {}
                },
                {
                    "output_type": "execute_result",
                    "metadata": {},
                    "execution_count": 49,
                    "data": {
                        "application/vnd.dataresource+json": {
                            "schema": {
                                "fields": [
                                    {
                                        "name": "chr"
                                    }
                                ]
                            },
                            "data": [
                                {
                                    "0": "░"
                                }
                            ]
                        },
                        "text/html": "<table><tr><th>chr</th></tr><tr><td>░</td></tr></table>"
                    }
                }
            ],
            "execution_count": 49
        },
        {
            "cell_type": "code",
            "source": [
                "select dt,male\n",
                ",repeat(chr(x'2591'::int),male)\n",
                ",famale\n",
                ",repeat(chr(x'2592'::int),famale)\n",
                "from visitor"
            ],
            "metadata": {
                "azdata_cell_guid": "814f2530-54df-406d-92a9-3d258390e513"
            },
            "outputs": [
                {
                    "output_type": "display_data",
                    "data": {
                        "text/html": "(10 row(s) affected)"
                    },
                    "metadata": {}
                },
                {
                    "output_type": "display_data",
                    "data": {
                        "text/html": "Total execution time: 00:00:00.005"
                    },
                    "metadata": {}
                },
                {
                    "output_type": "execute_result",
                    "metadata": {},
                    "execution_count": 50,
                    "data": {
                        "application/vnd.dataresource+json": {
                            "schema": {
                                "fields": [
                                    {
                                        "name": "dt"
                                    },
                                    {
                                        "name": "male"
                                    },
                                    {
                                        "name": "repeat"
                                    },
                                    {
                                        "name": "famale"
                                    },
                                    {
                                        "name": "repeat"
                                    }
                                ]
                            },
                            "data": [
                                {
                                    "0": "2019-07-01",
                                    "1": "12",
                                    "2": "░░░░░░░░░░░░",
                                    "3": "20",
                                    "4": "▒▒▒▒▒▒▒▒▒▒▒▒▒▒▒▒▒▒▒▒"
                                },
                                {
                                    "0": "2019-07-02",
                                    "1": "13",
                                    "2": "░░░░░░░░░░░░░",
                                    "3": "25",
                                    "4": "▒▒▒▒▒▒▒▒▒▒▒▒▒▒▒▒▒▒▒▒▒▒▒▒▒"
                                },
                                {
                                    "0": "2019-07-03",
                                    "1": "16",
                                    "2": "░░░░░░░░░░░░░░░░",
                                    "3": "19",
                                    "4": "▒▒▒▒▒▒▒▒▒▒▒▒▒▒▒▒▒▒▒"
                                },
                                {
                                    "0": "2019-07-04",
                                    "1": "19",
                                    "2": "░░░░░░░░░░░░░░░░░░░",
                                    "3": "33",
                                    "4": "▒▒▒▒▒▒▒▒▒▒▒▒▒▒▒▒▒▒▒▒▒▒▒▒▒▒▒▒▒▒▒▒▒"
                                },
                                {
                                    "0": "2019-07-05",
                                    "1": "13",
                                    "2": "░░░░░░░░░░░░░",
                                    "3": "21",
                                    "4": "▒▒▒▒▒▒▒▒▒▒▒▒▒▒▒▒▒▒▒▒▒"
                                },
                                {
                                    "0": "2019-07-06",
                                    "1": "18",
                                    "2": "░░░░░░░░░░░░░░░░░░",
                                    "3": "23",
                                    "4": "▒▒▒▒▒▒▒▒▒▒▒▒▒▒▒▒▒▒▒▒▒▒▒"
                                },
                                {
                                    "0": "2019-07-07",
                                    "1": "15",
                                    "2": "░░░░░░░░░░░░░░░",
                                    "3": "30",
                                    "4": "▒▒▒▒▒▒▒▒▒▒▒▒▒▒▒▒▒▒▒▒▒▒▒▒▒▒▒▒▒▒"
                                },
                                {
                                    "0": "2019-07-08",
                                    "1": "28",
                                    "2": "░░░░░░░░░░░░░░░░░░░░░░░░░░░░",
                                    "3": "21",
                                    "4": "▒▒▒▒▒▒▒▒▒▒▒▒▒▒▒▒▒▒▒▒▒"
                                },
                                {
                                    "0": "2019-07-09",
                                    "1": "22",
                                    "2": "░░░░░░░░░░░░░░░░░░░░░░",
                                    "3": "31",
                                    "4": "▒▒▒▒▒▒▒▒▒▒▒▒▒▒▒▒▒▒▒▒▒▒▒▒▒▒▒▒▒▒▒"
                                },
                                {
                                    "0": "2019-07-10",
                                    "1": "16",
                                    "2": "░░░░░░░░░░░░░░░░",
                                    "3": "34",
                                    "4": "▒▒▒▒▒▒▒▒▒▒▒▒▒▒▒▒▒▒▒▒▒▒▒▒▒▒▒▒▒▒▒▒▒▒"
                                }
                            ]
                        },
                        "text/html": "<table><tr><th>dt</th><th>male</th><th>repeat</th><th>famale</th><th>repeat</th></tr><tr><td>2019-07-01</td><td>12</td><td>░░░░░░░░░░░░</td><td>20</td><td>▒▒▒▒▒▒▒▒▒▒▒▒▒▒▒▒▒▒▒▒</td></tr><tr><td>2019-07-02</td><td>13</td><td>░░░░░░░░░░░░░</td><td>25</td><td>▒▒▒▒▒▒▒▒▒▒▒▒▒▒▒▒▒▒▒▒▒▒▒▒▒</td></tr><tr><td>2019-07-03</td><td>16</td><td>░░░░░░░░░░░░░░░░</td><td>19</td><td>▒▒▒▒▒▒▒▒▒▒▒▒▒▒▒▒▒▒▒</td></tr><tr><td>2019-07-04</td><td>19</td><td>░░░░░░░░░░░░░░░░░░░</td><td>33</td><td>▒▒▒▒▒▒▒▒▒▒▒▒▒▒▒▒▒▒▒▒▒▒▒▒▒▒▒▒▒▒▒▒▒</td></tr><tr><td>2019-07-05</td><td>13</td><td>░░░░░░░░░░░░░</td><td>21</td><td>▒▒▒▒▒▒▒▒▒▒▒▒▒▒▒▒▒▒▒▒▒</td></tr><tr><td>2019-07-06</td><td>18</td><td>░░░░░░░░░░░░░░░░░░</td><td>23</td><td>▒▒▒▒▒▒▒▒▒▒▒▒▒▒▒▒▒▒▒▒▒▒▒</td></tr><tr><td>2019-07-07</td><td>15</td><td>░░░░░░░░░░░░░░░</td><td>30</td><td>▒▒▒▒▒▒▒▒▒▒▒▒▒▒▒▒▒▒▒▒▒▒▒▒▒▒▒▒▒▒</td></tr><tr><td>2019-07-08</td><td>28</td><td>░░░░░░░░░░░░░░░░░░░░░░░░░░░░</td><td>21</td><td>▒▒▒▒▒▒▒▒▒▒▒▒▒▒▒▒▒▒▒▒▒</td></tr><tr><td>2019-07-09</td><td>22</td><td>░░░░░░░░░░░░░░░░░░░░░░</td><td>31</td><td>▒▒▒▒▒▒▒▒▒▒▒▒▒▒▒▒▒▒▒▒▒▒▒▒▒▒▒▒▒▒▒</td></tr><tr><td>2019-07-10</td><td>16</td><td>░░░░░░░░░░░░░░░░</td><td>34</td><td>▒▒▒▒▒▒▒▒▒▒▒▒▒▒▒▒▒▒▒▒▒▒▒▒▒▒▒▒▒▒▒▒▒▒</td></tr></table>"
                    }
                }
            ],
            "execution_count": 50
        },
        {
            "cell_type": "code",
            "source": [
                "drop TABLE test if EXISTS"
            ],
            "metadata": {
                "azdata_cell_guid": "fe412446-2dc9-4ae4-aa56-3dd37ddb8cbd"
            },
            "outputs": [],
            "execution_count": 0
        },
        {
            "cell_type": "code",
            "source": [
                "select dt,male \n",
                ",repeat(chr(x'2591'::int),male)\n",
                ",famale\n",
                ",repeat(chr(x'2592'::int),famale)\n",
                ",repeat(chr(x'2591'::int),male) || repeat(chr(x'2592'::int),famale)\n",
                "from visitor"
            ],
            "metadata": {
                "azdata_cell_guid": "6c232423-4638-4638-9dee-241715819cda",
                "tags": []
            },
            "outputs": [
                {
                    "output_type": "display_data",
                    "data": {
                        "text/html": "(10 row(s) affected)"
                    },
                    "metadata": {}
                },
                {
                    "output_type": "display_data",
                    "data": {
                        "text/html": "Total execution time: 00:00:00.023"
                    },
                    "metadata": {}
                },
                {
                    "output_type": "execute_result",
                    "metadata": {},
                    "execution_count": 51,
                    "data": {
                        "application/vnd.dataresource+json": {
                            "schema": {
                                "fields": [
                                    {
                                        "name": "dt"
                                    },
                                    {
                                        "name": "male"
                                    },
                                    {
                                        "name": "repeat"
                                    },
                                    {
                                        "name": "famale"
                                    },
                                    {
                                        "name": "repeat"
                                    },
                                    {
                                        "name": "Column6"
                                    }
                                ]
                            },
                            "data": [
                                {
                                    "0": "2019-07-01",
                                    "1": "12",
                                    "2": "░░░░░░░░░░░░",
                                    "3": "20",
                                    "4": "▒▒▒▒▒▒▒▒▒▒▒▒▒▒▒▒▒▒▒▒",
                                    "5": "░░░░░░░░░░░░▒▒▒▒▒▒▒▒▒▒▒▒▒▒▒▒▒▒▒▒"
                                },
                                {
                                    "0": "2019-07-02",
                                    "1": "13",
                                    "2": "░░░░░░░░░░░░░",
                                    "3": "25",
                                    "4": "▒▒▒▒▒▒▒▒▒▒▒▒▒▒▒▒▒▒▒▒▒▒▒▒▒",
                                    "5": "░░░░░░░░░░░░░▒▒▒▒▒▒▒▒▒▒▒▒▒▒▒▒▒▒▒▒▒▒▒▒▒"
                                },
                                {
                                    "0": "2019-07-03",
                                    "1": "16",
                                    "2": "░░░░░░░░░░░░░░░░",
                                    "3": "19",
                                    "4": "▒▒▒▒▒▒▒▒▒▒▒▒▒▒▒▒▒▒▒",
                                    "5": "░░░░░░░░░░░░░░░░▒▒▒▒▒▒▒▒▒▒▒▒▒▒▒▒▒▒▒"
                                },
                                {
                                    "0": "2019-07-04",
                                    "1": "19",
                                    "2": "░░░░░░░░░░░░░░░░░░░",
                                    "3": "33",
                                    "4": "▒▒▒▒▒▒▒▒▒▒▒▒▒▒▒▒▒▒▒▒▒▒▒▒▒▒▒▒▒▒▒▒▒",
                                    "5": "░░░░░░░░░░░░░░░░░░░▒▒▒▒▒▒▒▒▒▒▒▒▒▒▒▒▒▒▒▒▒▒▒▒▒▒▒▒▒▒▒▒▒"
                                },
                                {
                                    "0": "2019-07-05",
                                    "1": "13",
                                    "2": "░░░░░░░░░░░░░",
                                    "3": "21",
                                    "4": "▒▒▒▒▒▒▒▒▒▒▒▒▒▒▒▒▒▒▒▒▒",
                                    "5": "░░░░░░░░░░░░░▒▒▒▒▒▒▒▒▒▒▒▒▒▒▒▒▒▒▒▒▒"
                                },
                                {
                                    "0": "2019-07-06",
                                    "1": "18",
                                    "2": "░░░░░░░░░░░░░░░░░░",
                                    "3": "23",
                                    "4": "▒▒▒▒▒▒▒▒▒▒▒▒▒▒▒▒▒▒▒▒▒▒▒",
                                    "5": "░░░░░░░░░░░░░░░░░░▒▒▒▒▒▒▒▒▒▒▒▒▒▒▒▒▒▒▒▒▒▒▒"
                                },
                                {
                                    "0": "2019-07-07",
                                    "1": "15",
                                    "2": "░░░░░░░░░░░░░░░",
                                    "3": "30",
                                    "4": "▒▒▒▒▒▒▒▒▒▒▒▒▒▒▒▒▒▒▒▒▒▒▒▒▒▒▒▒▒▒",
                                    "5": "░░░░░░░░░░░░░░░▒▒▒▒▒▒▒▒▒▒▒▒▒▒▒▒▒▒▒▒▒▒▒▒▒▒▒▒▒▒"
                                },
                                {
                                    "0": "2019-07-08",
                                    "1": "28",
                                    "2": "░░░░░░░░░░░░░░░░░░░░░░░░░░░░",
                                    "3": "21",
                                    "4": "▒▒▒▒▒▒▒▒▒▒▒▒▒▒▒▒▒▒▒▒▒",
                                    "5": "░░░░░░░░░░░░░░░░░░░░░░░░░░░░▒▒▒▒▒▒▒▒▒▒▒▒▒▒▒▒▒▒▒▒▒"
                                },
                                {
                                    "0": "2019-07-09",
                                    "1": "22",
                                    "2": "░░░░░░░░░░░░░░░░░░░░░░",
                                    "3": "31",
                                    "4": "▒▒▒▒▒▒▒▒▒▒▒▒▒▒▒▒▒▒▒▒▒▒▒▒▒▒▒▒▒▒▒",
                                    "5": "░░░░░░░░░░░░░░░░░░░░░░▒▒▒▒▒▒▒▒▒▒▒▒▒▒▒▒▒▒▒▒▒▒▒▒▒▒▒▒▒▒▒"
                                },
                                {
                                    "0": "2019-07-10",
                                    "1": "16",
                                    "2": "░░░░░░░░░░░░░░░░",
                                    "3": "34",
                                    "4": "▒▒▒▒▒▒▒▒▒▒▒▒▒▒▒▒▒▒▒▒▒▒▒▒▒▒▒▒▒▒▒▒▒▒",
                                    "5": "░░░░░░░░░░░░░░░░▒▒▒▒▒▒▒▒▒▒▒▒▒▒▒▒▒▒▒▒▒▒▒▒▒▒▒▒▒▒▒▒▒▒"
                                }
                            ]
                        },
                        "text/html": "<table><tr><th>dt</th><th>male</th><th>repeat</th><th>famale</th><th>repeat</th><th>Column6</th></tr><tr><td>2019-07-01</td><td>12</td><td>░░░░░░░░░░░░</td><td>20</td><td>▒▒▒▒▒▒▒▒▒▒▒▒▒▒▒▒▒▒▒▒</td><td>░░░░░░░░░░░░▒▒▒▒▒▒▒▒▒▒▒▒▒▒▒▒▒▒▒▒</td></tr><tr><td>2019-07-02</td><td>13</td><td>░░░░░░░░░░░░░</td><td>25</td><td>▒▒▒▒▒▒▒▒▒▒▒▒▒▒▒▒▒▒▒▒▒▒▒▒▒</td><td>░░░░░░░░░░░░░▒▒▒▒▒▒▒▒▒▒▒▒▒▒▒▒▒▒▒▒▒▒▒▒▒</td></tr><tr><td>2019-07-03</td><td>16</td><td>░░░░░░░░░░░░░░░░</td><td>19</td><td>▒▒▒▒▒▒▒▒▒▒▒▒▒▒▒▒▒▒▒</td><td>░░░░░░░░░░░░░░░░▒▒▒▒▒▒▒▒▒▒▒▒▒▒▒▒▒▒▒</td></tr><tr><td>2019-07-04</td><td>19</td><td>░░░░░░░░░░░░░░░░░░░</td><td>33</td><td>▒▒▒▒▒▒▒▒▒▒▒▒▒▒▒▒▒▒▒▒▒▒▒▒▒▒▒▒▒▒▒▒▒</td><td>░░░░░░░░░░░░░░░░░░░▒▒▒▒▒▒▒▒▒▒▒▒▒▒▒▒▒▒▒▒▒▒▒▒▒▒▒▒▒▒▒▒▒</td></tr><tr><td>2019-07-05</td><td>13</td><td>░░░░░░░░░░░░░</td><td>21</td><td>▒▒▒▒▒▒▒▒▒▒▒▒▒▒▒▒▒▒▒▒▒</td><td>░░░░░░░░░░░░░▒▒▒▒▒▒▒▒▒▒▒▒▒▒▒▒▒▒▒▒▒</td></tr><tr><td>2019-07-06</td><td>18</td><td>░░░░░░░░░░░░░░░░░░</td><td>23</td><td>▒▒▒▒▒▒▒▒▒▒▒▒▒▒▒▒▒▒▒▒▒▒▒</td><td>░░░░░░░░░░░░░░░░░░▒▒▒▒▒▒▒▒▒▒▒▒▒▒▒▒▒▒▒▒▒▒▒</td></tr><tr><td>2019-07-07</td><td>15</td><td>░░░░░░░░░░░░░░░</td><td>30</td><td>▒▒▒▒▒▒▒▒▒▒▒▒▒▒▒▒▒▒▒▒▒▒▒▒▒▒▒▒▒▒</td><td>░░░░░░░░░░░░░░░▒▒▒▒▒▒▒▒▒▒▒▒▒▒▒▒▒▒▒▒▒▒▒▒▒▒▒▒▒▒</td></tr><tr><td>2019-07-08</td><td>28</td><td>░░░░░░░░░░░░░░░░░░░░░░░░░░░░</td><td>21</td><td>▒▒▒▒▒▒▒▒▒▒▒▒▒▒▒▒▒▒▒▒▒</td><td>░░░░░░░░░░░░░░░░░░░░░░░░░░░░▒▒▒▒▒▒▒▒▒▒▒▒▒▒▒▒▒▒▒▒▒</td></tr><tr><td>2019-07-09</td><td>22</td><td>░░░░░░░░░░░░░░░░░░░░░░</td><td>31</td><td>▒▒▒▒▒▒▒▒▒▒▒▒▒▒▒▒▒▒▒▒▒▒▒▒▒▒▒▒▒▒▒</td><td>░░░░░░░░░░░░░░░░░░░░░░▒▒▒▒▒▒▒▒▒▒▒▒▒▒▒▒▒▒▒▒▒▒▒▒▒▒▒▒▒▒▒</td></tr><tr><td>2019-07-10</td><td>16</td><td>░░░░░░░░░░░░░░░░</td><td>34</td><td>▒▒▒▒▒▒▒▒▒▒▒▒▒▒▒▒▒▒▒▒▒▒▒▒▒▒▒▒▒▒▒▒▒▒</td><td>░░░░░░░░░░░░░░░░▒▒▒▒▒▒▒▒▒▒▒▒▒▒▒▒▒▒▒▒▒▒▒▒▒▒▒▒▒▒▒▒▒▒</td></tr></table>"
                    }
                }
            ],
            "execution_count": 51
        },
        {
            "cell_type": "code",
            "source": [
                "SELECT dt, male,\n",
                "    repeat(chr(x'2591'::int), ceil(male * 100.0 / (male + famale))::int) ||\n",
                "    repeat(chr(x'2592'::int), floor(male * 100.0 / (male + famale))::int) \"░ male ▒ female\"\n",
                "from visitor"
            ],
            "metadata": {
                "azdata_cell_guid": "5d6f6d70-0331-4916-988c-518ead851b62"
            },
            "outputs": [
                {
                    "output_type": "display_data",
                    "data": {
                        "text/html": "(10 row(s) affected)"
                    },
                    "metadata": {}
                },
                {
                    "output_type": "display_data",
                    "data": {
                        "text/html": "Total execution time: 00:00:00.010"
                    },
                    "metadata": {}
                },
                {
                    "output_type": "execute_result",
                    "metadata": {},
                    "execution_count": 56,
                    "data": {
                        "application/vnd.dataresource+json": {
                            "schema": {
                                "fields": [
                                    {
                                        "name": "dt"
                                    },
                                    {
                                        "name": "male"
                                    },
                                    {
                                        "name": "░ male ▒ female"
                                    }
                                ]
                            },
                            "data": [
                                {
                                    "0": "2019-07-01",
                                    "1": "12",
                                    "2": "░░░░░░░░░░░░░░░░░░░░░░░░░░░░░░░░░░░░░░▒▒▒▒▒▒▒▒▒▒▒▒▒▒▒▒▒▒▒▒▒▒▒▒▒▒▒▒▒▒▒▒▒▒▒▒▒"
                                },
                                {
                                    "0": "2019-07-02",
                                    "1": "13",
                                    "2": "░░░░░░░░░░░░░░░░░░░░░░░░░░░░░░░░░░░▒▒▒▒▒▒▒▒▒▒▒▒▒▒▒▒▒▒▒▒▒▒▒▒▒▒▒▒▒▒▒▒▒▒"
                                },
                                {
                                    "0": "2019-07-03",
                                    "1": "16",
                                    "2": "░░░░░░░░░░░░░░░░░░░░░░░░░░░░░░░░░░░░░░░░░░░░░░▒▒▒▒▒▒▒▒▒▒▒▒▒▒▒▒▒▒▒▒▒▒▒▒▒▒▒▒▒▒▒▒▒▒▒▒▒▒▒▒▒▒▒▒▒"
                                },
                                {
                                    "0": "2019-07-04",
                                    "1": "19",
                                    "2": "░░░░░░░░░░░░░░░░░░░░░░░░░░░░░░░░░░░░░▒▒▒▒▒▒▒▒▒▒▒▒▒▒▒▒▒▒▒▒▒▒▒▒▒▒▒▒▒▒▒▒▒▒▒▒"
                                },
                                {
                                    "0": "2019-07-05",
                                    "1": "13",
                                    "2": "░░░░░░░░░░░░░░░░░░░░░░░░░░░░░░░░░░░░░░░▒▒▒▒▒▒▒▒▒▒▒▒▒▒▒▒▒▒▒▒▒▒▒▒▒▒▒▒▒▒▒▒▒▒▒▒▒▒"
                                },
                                {
                                    "0": "2019-07-06",
                                    "1": "18",
                                    "2": "░░░░░░░░░░░░░░░░░░░░░░░░░░░░░░░░░░░░░░░░░░░░▒▒▒▒▒▒▒▒▒▒▒▒▒▒▒▒▒▒▒▒▒▒▒▒▒▒▒▒▒▒▒▒▒▒▒▒▒▒▒▒▒▒▒"
                                },
                                {
                                    "0": "2019-07-07",
                                    "1": "15",
                                    "2": "░░░░░░░░░░░░░░░░░░░░░░░░░░░░░░░░░░▒▒▒▒▒▒▒▒▒▒▒▒▒▒▒▒▒▒▒▒▒▒▒▒▒▒▒▒▒▒▒▒▒"
                                },
                                {
                                    "0": "2019-07-08",
                                    "1": "28",
                                    "2": "░░░░░░░░░░░░░░░░░░░░░░░░░░░░░░░░░░░░░░░░░░░░░░░░░░░░░░░░░░▒▒▒▒▒▒▒▒▒▒▒▒▒▒▒▒▒▒▒▒▒▒▒▒▒▒▒▒▒▒▒▒▒▒▒▒▒▒▒▒▒▒▒▒▒▒▒▒▒▒▒▒▒▒▒▒▒"
                                },
                                {
                                    "0": "2019-07-09",
                                    "1": "22",
                                    "2": "░░░░░░░░░░░░░░░░░░░░░░░░░░░░░░░░░░░░░░░░░░▒▒▒▒▒▒▒▒▒▒▒▒▒▒▒▒▒▒▒▒▒▒▒▒▒▒▒▒▒▒▒▒▒▒▒▒▒▒▒▒▒"
                                },
                                {
                                    "0": "2019-07-10",
                                    "1": "16",
                                    "2": "░░░░░░░░░░░░░░░░░░░░░░░░░░░░░░░░▒▒▒▒▒▒▒▒▒▒▒▒▒▒▒▒▒▒▒▒▒▒▒▒▒▒▒▒▒▒▒▒"
                                }
                            ]
                        },
                        "text/html": "<table><tr><th>dt</th><th>male</th><th>░ male ▒ female</th></tr><tr><td>2019-07-01</td><td>12</td><td>░░░░░░░░░░░░░░░░░░░░░░░░░░░░░░░░░░░░░░▒▒▒▒▒▒▒▒▒▒▒▒▒▒▒▒▒▒▒▒▒▒▒▒▒▒▒▒▒▒▒▒▒▒▒▒▒</td></tr><tr><td>2019-07-02</td><td>13</td><td>░░░░░░░░░░░░░░░░░░░░░░░░░░░░░░░░░░░▒▒▒▒▒▒▒▒▒▒▒▒▒▒▒▒▒▒▒▒▒▒▒▒▒▒▒▒▒▒▒▒▒▒</td></tr><tr><td>2019-07-03</td><td>16</td><td>░░░░░░░░░░░░░░░░░░░░░░░░░░░░░░░░░░░░░░░░░░░░░░▒▒▒▒▒▒▒▒▒▒▒▒▒▒▒▒▒▒▒▒▒▒▒▒▒▒▒▒▒▒▒▒▒▒▒▒▒▒▒▒▒▒▒▒▒</td></tr><tr><td>2019-07-04</td><td>19</td><td>░░░░░░░░░░░░░░░░░░░░░░░░░░░░░░░░░░░░░▒▒▒▒▒▒▒▒▒▒▒▒▒▒▒▒▒▒▒▒▒▒▒▒▒▒▒▒▒▒▒▒▒▒▒▒</td></tr><tr><td>2019-07-05</td><td>13</td><td>░░░░░░░░░░░░░░░░░░░░░░░░░░░░░░░░░░░░░░░▒▒▒▒▒▒▒▒▒▒▒▒▒▒▒▒▒▒▒▒▒▒▒▒▒▒▒▒▒▒▒▒▒▒▒▒▒▒</td></tr><tr><td>2019-07-06</td><td>18</td><td>░░░░░░░░░░░░░░░░░░░░░░░░░░░░░░░░░░░░░░░░░░░░▒▒▒▒▒▒▒▒▒▒▒▒▒▒▒▒▒▒▒▒▒▒▒▒▒▒▒▒▒▒▒▒▒▒▒▒▒▒▒▒▒▒▒</td></tr><tr><td>2019-07-07</td><td>15</td><td>░░░░░░░░░░░░░░░░░░░░░░░░░░░░░░░░░░▒▒▒▒▒▒▒▒▒▒▒▒▒▒▒▒▒▒▒▒▒▒▒▒▒▒▒▒▒▒▒▒▒</td></tr><tr><td>2019-07-08</td><td>28</td><td>░░░░░░░░░░░░░░░░░░░░░░░░░░░░░░░░░░░░░░░░░░░░░░░░░░░░░░░░░░▒▒▒▒▒▒▒▒▒▒▒▒▒▒▒▒▒▒▒▒▒▒▒▒▒▒▒▒▒▒▒▒▒▒▒▒▒▒▒▒▒▒▒▒▒▒▒▒▒▒▒▒▒▒▒▒▒</td></tr><tr><td>2019-07-09</td><td>22</td><td>░░░░░░░░░░░░░░░░░░░░░░░░░░░░░░░░░░░░░░░░░░▒▒▒▒▒▒▒▒▒▒▒▒▒▒▒▒▒▒▒▒▒▒▒▒▒▒▒▒▒▒▒▒▒▒▒▒▒▒▒▒▒</td></tr><tr><td>2019-07-10</td><td>16</td><td>░░░░░░░░░░░░░░░░░░░░░░░░░░░░░░░░▒▒▒▒▒▒▒▒▒▒▒▒▒▒▒▒▒▒▒▒▒▒▒▒▒▒▒▒▒▒▒▒</td></tr></table>"
                    }
                }
            ],
            "execution_count": 56
        },
        {
            "cell_type": "code",
            "source": [
                "SELECT dt, male,\n",
                "    repeat(chr(x'2591'::int), ceil(male * 20.0 / (male + famale))::int) ||\n",
                "    repeat(chr(x'2592'::int), floor(male * 20.0 / (male + famale))::int) \"░ male ▒ female\"\n",
                "from visitor"
            ],
            "metadata": {
                "azdata_cell_guid": "a1a7dbc3-0170-473a-bd08-73b9ef2a8819"
            },
            "outputs": [
                {
                    "output_type": "display_data",
                    "data": {
                        "text/html": "(10 row(s) affected)"
                    },
                    "metadata": {}
                },
                {
                    "output_type": "display_data",
                    "data": {
                        "text/html": "Total execution time: 00:00:00.010"
                    },
                    "metadata": {}
                },
                {
                    "output_type": "execute_result",
                    "metadata": {},
                    "execution_count": 57,
                    "data": {
                        "application/vnd.dataresource+json": {
                            "schema": {
                                "fields": [
                                    {
                                        "name": "dt"
                                    },
                                    {
                                        "name": "male"
                                    },
                                    {
                                        "name": "░ male ▒ female"
                                    }
                                ]
                            },
                            "data": [
                                {
                                    "0": "2019-07-01",
                                    "1": "12",
                                    "2": "░░░░░░░░▒▒▒▒▒▒▒"
                                },
                                {
                                    "0": "2019-07-02",
                                    "1": "13",
                                    "2": "░░░░░░░▒▒▒▒▒▒"
                                },
                                {
                                    "0": "2019-07-03",
                                    "1": "16",
                                    "2": "░░░░░░░░░░▒▒▒▒▒▒▒▒▒"
                                },
                                {
                                    "0": "2019-07-04",
                                    "1": "19",
                                    "2": "░░░░░░░░▒▒▒▒▒▒▒"
                                },
                                {
                                    "0": "2019-07-05",
                                    "1": "13",
                                    "2": "░░░░░░░░▒▒▒▒▒▒▒"
                                },
                                {
                                    "0": "2019-07-06",
                                    "1": "18",
                                    "2": "░░░░░░░░░▒▒▒▒▒▒▒▒"
                                },
                                {
                                    "0": "2019-07-07",
                                    "1": "15",
                                    "2": "░░░░░░░▒▒▒▒▒▒"
                                },
                                {
                                    "0": "2019-07-08",
                                    "1": "28",
                                    "2": "░░░░░░░░░░░░▒▒▒▒▒▒▒▒▒▒▒"
                                },
                                {
                                    "0": "2019-07-09",
                                    "1": "22",
                                    "2": "░░░░░░░░░▒▒▒▒▒▒▒▒"
                                },
                                {
                                    "0": "2019-07-10",
                                    "1": "16",
                                    "2": "░░░░░░░▒▒▒▒▒▒"
                                }
                            ]
                        },
                        "text/html": "<table><tr><th>dt</th><th>male</th><th>░ male ▒ female</th></tr><tr><td>2019-07-01</td><td>12</td><td>░░░░░░░░▒▒▒▒▒▒▒</td></tr><tr><td>2019-07-02</td><td>13</td><td>░░░░░░░▒▒▒▒▒▒</td></tr><tr><td>2019-07-03</td><td>16</td><td>░░░░░░░░░░▒▒▒▒▒▒▒▒▒</td></tr><tr><td>2019-07-04</td><td>19</td><td>░░░░░░░░▒▒▒▒▒▒▒</td></tr><tr><td>2019-07-05</td><td>13</td><td>░░░░░░░░▒▒▒▒▒▒▒</td></tr><tr><td>2019-07-06</td><td>18</td><td>░░░░░░░░░▒▒▒▒▒▒▒▒</td></tr><tr><td>2019-07-07</td><td>15</td><td>░░░░░░░▒▒▒▒▒▒</td></tr><tr><td>2019-07-08</td><td>28</td><td>░░░░░░░░░░░░▒▒▒▒▒▒▒▒▒▒▒</td></tr><tr><td>2019-07-09</td><td>22</td><td>░░░░░░░░░▒▒▒▒▒▒▒▒</td></tr><tr><td>2019-07-10</td><td>16</td><td>░░░░░░░▒▒▒▒▒▒</td></tr></table>"
                    }
                }
            ],
            "execution_count": 57
        }
    ]
}