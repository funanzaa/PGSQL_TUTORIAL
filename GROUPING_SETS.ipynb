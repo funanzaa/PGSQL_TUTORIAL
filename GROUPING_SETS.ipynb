{
    "metadata": {
        "kernelspec": {
            "name": "SQL",
            "display_name": "SQL",
            "language": "sql"
        },
        "language_info": {
            "name": "sql",
            "version": ""
        }
    },
    "nbformat_minor": 2,
    "nbformat": 4,
    "cells": [
        {
            "cell_type": "markdown",
            "source": [
                "# การหาผลรวมย่อยหลาย ๆ กลุ่มย่อยพร้อม ๆ กันด้วย GROUPING SETS"
            ],
            "metadata": {
                "azdata_cell_guid": "419fc030-956f-46ec-a811-cc47423c9f19"
            }
        },
        {
            "cell_type": "code",
            "source": [
                "select country, avg(lifeexp)\n",
                "from gapminder\n",
                "GROUP BY country"
            ],
            "metadata": {
                "azdata_cell_guid": "bff4cba1-ab6a-4656-9a94-b59da7dfa999"
            },
            "outputs": [
                {
                    "output_type": "display_data",
                    "data": {
                        "text/html": "(142 row(s) affected)"
                    },
                    "metadata": {}
                },
                {
                    "output_type": "display_data",
                    "data": {
                        "text/html": "Total execution time: 00:00:00.148"
                    },
                    "metadata": {}
                },
                {
                    "output_type": "execute_result",
                    "metadata": {},
                    "execution_count": 1,
                    "data": {
                        "application/vnd.dataresource+json": {
                            "schema": {
                                "fields": [
                                    {
                                        "name": "country"
                                    },
                                    {
                                        "name": "avg"
                                    }
                                ]
                            },
                            "data": [
                                {
                                    "0": "Indonesia",
                                    "1": "54.33575"
                                },
                                {
                                    "0": "Bangladesh",
                                    "1": "49.8340833333333"
                                },
                                {
                                    "0": "Venezuela",
                                    "1": "66.5806666666667"
                                },
                                {
                                    "0": "Cameroon",
                                    "1": "48.1285"
                                },
                                {
                                    "0": "Czech Republic",
                                    "1": "71.5105"
                                },
                                {
                                    "0": "Sweden",
                                    "1": "76.177"
                                },
                                {
                                    "0": "Uganda",
                                    "1": "47.6188333333333"
                                },
                                {
                                    "0": "Montenegro",
                                    "1": "70.2991666666667"
                                },
                                {
                                    "0": "Jordan",
                                    "1": "59.7864166666667"
                                },
                                {
                                    "0": "Dominican Republic",
                                    "1": "61.5545"
                                },
                                {
                                    "0": "Ireland",
                                    "1": "73.01725"
                                },
                                {
                                    "0": "Cambodia",
                                    "1": "47.90275"
                                },
                                {
                                    "0": "Singapore",
                                    "1": "71.22025"
                                },
                                {
                                    "0": "Sri Lanka",
                                    "1": "66.5260833333333"
                                },
                                {
                                    "0": "Portugal",
                                    "1": "70.4198333333333"
                                },
                                {
                                    "0": "Finland",
                                    "1": "72.9919166666667"
                                },
                                {
                                    "0": "Colombia",
                                    "1": "63.89775"
                                },
                                {
                                    "0": "Albania",
                                    "1": "68.4329166666667"
                                },
                                {
                                    "0": "Saudi Arabia",
                                    "1": "58.67875"
                                },
                                {
                                    "0": "Sao Tome and Principe",
                                    "1": "57.8963333333333"
                                },
                                {
                                    "0": "Cote d'Ivoire",
                                    "1": "48.4361666666667"
                                },
                                {
                                    "0": "Cuba",
                                    "1": "71.0450833333334"
                                },
                                {
                                    "0": "Algeria",
                                    "1": "59.0301666666667"
                                },
                                {
                                    "0": "France",
                                    "1": "74.3489166666667"
                                },
                                {
                                    "0": "Israel",
                                    "1": "73.6458333333333"
                                },
                                {
                                    "0": "Djibouti",
                                    "1": "46.38075"
                                },
                                {
                                    "0": "Syria",
                                    "1": "61.3461666666667"
                                },
                                {
                                    "0": "Senegal",
                                    "1": "50.6259166666667"
                                },
                                {
                                    "0": "Malaysia",
                                    "1": "64.2795833333333"
                                },
                                {
                                    "0": "Kenya",
                                    "1": "52.681"
                                },
                                {
                                    "0": "Ghana",
                                    "1": "52.3406666666667"
                                },
                                {
                                    "0": "Zambia",
                                    "1": "45.9963333333333"
                                },
                                {
                                    "0": "Iceland",
                                    "1": "76.5114166666667"
                                },
                                {
                                    "0": "Madagascar",
                                    "1": "47.7705833333333"
                                },
                                {
                                    "0": "Kuwait",
                                    "1": "68.9223333333333"
                                },
                                {
                                    "0": "Sierra Leone",
                                    "1": "36.7691666666667"
                                },
                                {
                                    "0": "Liberia",
                                    "1": "42.47625"
                                },
                                {
                                    "0": "Bosnia and Herzegovina",
                                    "1": "67.7078333333333"
                                },
                                {
                                    "0": "Philippines",
                                    "1": "60.96725"
                                },
                                {
                                    "0": "Benin",
                                    "1": "48.7799166666667"
                                },
                                {
                                    "0": "United States",
                                    "1": "73.4785"
                                },
                                {
                                    "0": "Guinea",
                                    "1": "43.2398333333333"
                                },
                                {
                                    "0": "Turkey",
                                    "1": "59.6964166666667"
                                },
                                {
                                    "0": "Nigeria",
                                    "1": "43.5813333333333"
                                },
                                {
                                    "0": "Rwanda",
                                    "1": "41.4815833333333"
                                },
                                {
                                    "0": "Zimbabwe",
                                    "1": "52.6631666666667"
                                },
                                {
                                    "0": "Congo, Rep.",
                                    "1": "52.5019166666667"
                                },
                                {
                                    "0": "Comoros",
                                    "1": "52.38175"
                                },
                                {
                                    "0": "China",
                                    "1": "61.78514"
                                },
                                {
                                    "0": "Netherlands",
                                    "1": "75.6485"
                                },
                                {
                                    "0": "Lesotho",
                                    "1": "50.0070833333333"
                                },
                                {
                                    "0": "Paraguay",
                                    "1": "66.8090833333333"
                                },
                                {
                                    "0": "Gabon",
                                    "1": "51.2205"
                                },
                                {
                                    "0": "Australia",
                                    "1": "74.6629166666667"
                                },
                                {
                                    "0": "Serbia",
                                    "1": "68.551"
                                },
                                {
                                    "0": "Mauritius",
                                    "1": "64.95325"
                                },
                                {
                                    "0": "Angola",
                                    "1": "37.8835"
                                },
                                {
                                    "0": "Libya",
                                    "1": "59.3041666666667"
                                },
                                {
                                    "0": "Reunion",
                                    "1": "66.64425"
                                },
                                {
                                    "0": "Bahrain",
                                    "1": "65.6056666666667"
                                },
                                {
                                    "0": "Spain",
                                    "1": "74.2034166666667"
                                },
                                {
                                    "0": "Malawi",
                                    "1": "43.3515833333333"
                                },
                                {
                                    "0": "Belgium",
                                    "1": "73.64175"
                                },
                                {
                                    "0": "West Bank and Gaza",
                                    "1": "60.3286666666667"
                                },
                                {
                                    "0": "Burundi",
                                    "1": "44.8173333333333"
                                },
                                {
                                    "0": "Taiwan",
                                    "1": "70.3366666666667"
                                },
                                {
                                    "0": "Thailand",
                                    "1": "62.20025"
                                },
                                {
                                    "0": "Togo",
                                    "1": "51.49875"
                                },
                                {
                                    "0": "Hong Kong, China",
                                    "1": "73.4928333333333"
                                },
                                {
                                    "0": "Burkina Faso",
                                    "1": "44.694"
                                },
                                {
                                    "0": "El Salvador",
                                    "1": "59.6333333333333"
                                },
                                {
                                    "0": "Italy",
                                    "1": "74.0138333333333"
                                },
                                {
                                    "0": "Uruguay",
                                    "1": "70.7815833333333"
                                },
                                {
                                    "0": "Oman",
                                    "1": "58.4426666666667"
                                },
                                {
                                    "0": "United Kingdom",
                                    "1": "73.9225833333333"
                                },
                                {
                                    "0": "Germany",
                                    "1": "73.4444166666667"
                                },
                                {
                                    "0": "Congo, Dem. Rep.",
                                    "1": "44.54375"
                                },
                                {
                                    "0": "Eritrea",
                                    "1": "45.99925"
                                },
                                {
                                    "0": "Canada",
                                    "1": "74.90275"
                                },
                                {
                                    "0": "Slovak Republic",
                                    "1": "70.6960833333333"
                                },
                                {
                                    "0": "Namibia",
                                    "1": "53.4913333333334"
                                },
                                {
                                    "0": "Argentina",
                                    "1": "69.0604166666667"
                                },
                                {
                                    "0": "Slovenia",
                                    "1": "71.60075"
                                },
                                {
                                    "0": "Greece",
                                    "1": "73.7331666666667"
                                },
                                {
                                    "0": "Egypt",
                                    "1": "56.243"
                                },
                                {
                                    "0": "Afghanistan",
                                    "1": "37.4788333333333"
                                },
                                {
                                    "0": "Puerto Rico",
                                    "1": "72.7393333333333"
                                },
                                {
                                    "0": "India",
                                    "1": "53.1660833333333"
                                },
                                {
                                    "0": "Chad",
                                    "1": "46.7735833333333"
                                },
                                {
                                    "0": "Iran",
                                    "1": "58.6365833333333"
                                },
                                {
                                    "0": "Chile",
                                    "1": "67.4309166666667"
                                },
                                {
                                    "0": "Gambia",
                                    "1": "44.4005833333333"
                                },
                                {
                                    "0": "Vietnam",
                                    "1": "57.4795"
                                },
                                {
                                    "0": "South Africa",
                                    "1": "53.9931666666667"
                                },
                                {
                                    "0": "Peru",
                                    "1": "58.8593333333333"
                                },
                                {
                                    "0": "Central African Republic",
                                    "1": "43.8669166666667"
                                },
                                {
                                    "0": "Japan",
                                    "1": "74.8269166666667"
                                },
                                {
                                    "0": "Denmark",
                                    "1": "74.3701666666667"
                                },
                                {
                                    "0": "Jamaica",
                                    "1": "68.7493333333333"
                                },
                                {
                                    "0": "Yemen, Rep.",
                                    "1": "46.7804166666667"
                                },
                                {
                                    "0": "Trinidad and Tobago",
                                    "1": "66.828"
                                },
                                {
                                    "0": "Mongolia",
                                    "1": "55.8903333333333"
                                },
                                {
                                    "0": "Iraq",
                                    "1": "56.58175"
                                },
                                {
                                    "0": "Mauritania",
                                    "1": "52.3020833333333"
                                },
                                {
                                    "0": "Korea, Rep.",
                                    "1": "65.001"
                                },
                                {
                                    "0": "Mozambique",
                                    "1": "40.3795"
                                },
                                {
                                    "0": "Switzerland",
                                    "1": "75.5650833333333"
                                },
                                {
                                    "0": "New Zealand",
                                    "1": "73.9895"
                                },
                                {
                                    "0": "Ecuador",
                                    "1": "62.8168333333333"
                                },
                                {
                                    "0": "Hungary",
                                    "1": "69.3931666666667"
                                },
                                {
                                    "0": "Korea, Dem. Rep.",
                                    "1": "63.6073333333333"
                                },
                                {
                                    "0": "Norway",
                                    "1": "75.843"
                                },
                                {
                                    "0": "Honduras",
                                    "1": "57.9208333333333"
                                },
                                {
                                    "0": "Botswana",
                                    "1": "54.5975"
                                },
                                {
                                    "0": "Pakistan",
                                    "1": "54.88225"
                                },
                                {
                                    "0": "Romania",
                                    "1": "68.2906666666667"
                                },
                                {
                                    "0": "Brazil",
                                    "1": "62.2395"
                                },
                                {
                                    "0": "Austria",
                                    "1": "73.10325"
                                },
                                {
                                    "0": "Guatemala",
                                    "1": "56.7294166666667"
                                },
                                {
                                    "0": "Guinea-Bissau",
                                    "1": "39.21025"
                                },
                                {
                                    "0": "Bolivia",
                                    "1": "52.5045833333333"
                                },
                                {
                                    "0": "Ethiopia",
                                    "1": "44.47575"
                                },
                                {
                                    "0": "Niger",
                                    "1": "44.5586666666667"
                                },
                                {
                                    "0": "Panama",
                                    "1": "67.80175"
                                },
                                {
                                    "0": "Bulgaria",
                                    "1": "69.74375"
                                },
                                {
                                    "0": "Croatia",
                                    "1": "70.0559166666667"
                                },
                                {
                                    "0": "Tunisia",
                                    "1": "60.721"
                                },
                                {
                                    "0": "Sudan",
                                    "1": "48.4005"
                                },
                                {
                                    "0": "Mali",
                                    "1": "43.4135"
                                },
                                {
                                    "0": "Swaziland",
                                    "1": "49.0024166666667"
                                },
                                {
                                    "0": "Morocco",
                                    "1": "57.6088333333333"
                                },
                                {
                                    "0": "Myanmar",
                                    "1": "53.3216666666667"
                                },
                                {
                                    "0": "Nicaragua",
                                    "1": "58.3494166666667"
                                },
                                {
                                    "0": "Mexico",
                                    "1": "65.4088333333333"
                                },
                                {
                                    "0": "Nepal",
                                    "1": "48.9863333333333"
                                },
                                {
                                    "0": "Tanzania",
                                    "1": "47.9123333333333"
                                },
                                {
                                    "0": "Poland",
                                    "1": "70.1769166666667"
                                },
                                {
                                    "0": "Lebanon",
                                    "1": "65.8656666666667"
                                },
                                {
                                    "0": "Costa Rica",
                                    "1": "70.1814166666667"
                                },
                                {
                                    "0": "Haiti",
                                    "1": "50.16525"
                                },
                                {
                                    "0": "Equatorial Guinea",
                                    "1": "42.96"
                                },
                                {
                                    "0": "Somalia",
                                    "1": "40.9886666666667"
                                }
                            ]
                        },
                        "text/html": "<table><tr><th>country</th><th>avg</th></tr><tr><td>Indonesia</td><td>54.33575</td></tr><tr><td>Bangladesh</td><td>49.8340833333333</td></tr><tr><td>Venezuela</td><td>66.5806666666667</td></tr><tr><td>Cameroon</td><td>48.1285</td></tr><tr><td>Czech Republic</td><td>71.5105</td></tr><tr><td>Sweden</td><td>76.177</td></tr><tr><td>Uganda</td><td>47.6188333333333</td></tr><tr><td>Montenegro</td><td>70.2991666666667</td></tr><tr><td>Jordan</td><td>59.7864166666667</td></tr><tr><td>Dominican Republic</td><td>61.5545</td></tr><tr><td>Ireland</td><td>73.01725</td></tr><tr><td>Cambodia</td><td>47.90275</td></tr><tr><td>Singapore</td><td>71.22025</td></tr><tr><td>Sri Lanka</td><td>66.5260833333333</td></tr><tr><td>Portugal</td><td>70.4198333333333</td></tr><tr><td>Finland</td><td>72.9919166666667</td></tr><tr><td>Colombia</td><td>63.89775</td></tr><tr><td>Albania</td><td>68.4329166666667</td></tr><tr><td>Saudi Arabia</td><td>58.67875</td></tr><tr><td>Sao Tome and Principe</td><td>57.8963333333333</td></tr><tr><td>Cote d'Ivoire</td><td>48.4361666666667</td></tr><tr><td>Cuba</td><td>71.0450833333334</td></tr><tr><td>Algeria</td><td>59.0301666666667</td></tr><tr><td>France</td><td>74.3489166666667</td></tr><tr><td>Israel</td><td>73.6458333333333</td></tr><tr><td>Djibouti</td><td>46.38075</td></tr><tr><td>Syria</td><td>61.3461666666667</td></tr><tr><td>Senegal</td><td>50.6259166666667</td></tr><tr><td>Malaysia</td><td>64.2795833333333</td></tr><tr><td>Kenya</td><td>52.681</td></tr><tr><td>Ghana</td><td>52.3406666666667</td></tr><tr><td>Zambia</td><td>45.9963333333333</td></tr><tr><td>Iceland</td><td>76.5114166666667</td></tr><tr><td>Madagascar</td><td>47.7705833333333</td></tr><tr><td>Kuwait</td><td>68.9223333333333</td></tr><tr><td>Sierra Leone</td><td>36.7691666666667</td></tr><tr><td>Liberia</td><td>42.47625</td></tr><tr><td>Bosnia and Herzegovina</td><td>67.7078333333333</td></tr><tr><td>Philippines</td><td>60.96725</td></tr><tr><td>Benin</td><td>48.7799166666667</td></tr><tr><td>United States</td><td>73.4785</td></tr><tr><td>Guinea</td><td>43.2398333333333</td></tr><tr><td>Turkey</td><td>59.6964166666667</td></tr><tr><td>Nigeria</td><td>43.5813333333333</td></tr><tr><td>Rwanda</td><td>41.4815833333333</td></tr><tr><td>Zimbabwe</td><td>52.6631666666667</td></tr><tr><td>Congo, Rep.</td><td>52.5019166666667</td></tr><tr><td>Comoros</td><td>52.38175</td></tr><tr><td>China</td><td>61.78514</td></tr><tr><td>Netherlands</td><td>75.6485</td></tr><tr><td>Lesotho</td><td>50.0070833333333</td></tr><tr><td>Paraguay</td><td>66.8090833333333</td></tr><tr><td>Gabon</td><td>51.2205</td></tr><tr><td>Australia</td><td>74.6629166666667</td></tr><tr><td>Serbia</td><td>68.551</td></tr><tr><td>Mauritius</td><td>64.95325</td></tr><tr><td>Angola</td><td>37.8835</td></tr><tr><td>Libya</td><td>59.3041666666667</td></tr><tr><td>Reunion</td><td>66.64425</td></tr><tr><td>Bahrain</td><td>65.6056666666667</td></tr><tr><td>Spain</td><td>74.2034166666667</td></tr><tr><td>Malawi</td><td>43.3515833333333</td></tr><tr><td>Belgium</td><td>73.64175</td></tr><tr><td>West Bank and Gaza</td><td>60.3286666666667</td></tr><tr><td>Burundi</td><td>44.8173333333333</td></tr><tr><td>Taiwan</td><td>70.3366666666667</td></tr><tr><td>Thailand</td><td>62.20025</td></tr><tr><td>Togo</td><td>51.49875</td></tr><tr><td>Hong Kong, China</td><td>73.4928333333333</td></tr><tr><td>Burkina Faso</td><td>44.694</td></tr><tr><td>El Salvador</td><td>59.6333333333333</td></tr><tr><td>Italy</td><td>74.0138333333333</td></tr><tr><td>Uruguay</td><td>70.7815833333333</td></tr><tr><td>Oman</td><td>58.4426666666667</td></tr><tr><td>United Kingdom</td><td>73.9225833333333</td></tr><tr><td>Germany</td><td>73.4444166666667</td></tr><tr><td>Congo, Dem. Rep.</td><td>44.54375</td></tr><tr><td>Eritrea</td><td>45.99925</td></tr><tr><td>Canada</td><td>74.90275</td></tr><tr><td>Slovak Republic</td><td>70.6960833333333</td></tr><tr><td>Namibia</td><td>53.4913333333334</td></tr><tr><td>Argentina</td><td>69.0604166666667</td></tr><tr><td>Slovenia</td><td>71.60075</td></tr><tr><td>Greece</td><td>73.7331666666667</td></tr><tr><td>Egypt</td><td>56.243</td></tr><tr><td>Afghanistan</td><td>37.4788333333333</td></tr><tr><td>Puerto Rico</td><td>72.7393333333333</td></tr><tr><td>India</td><td>53.1660833333333</td></tr><tr><td>Chad</td><td>46.7735833333333</td></tr><tr><td>Iran</td><td>58.6365833333333</td></tr><tr><td>Chile</td><td>67.4309166666667</td></tr><tr><td>Gambia</td><td>44.4005833333333</td></tr><tr><td>Vietnam</td><td>57.4795</td></tr><tr><td>South Africa</td><td>53.9931666666667</td></tr><tr><td>Peru</td><td>58.8593333333333</td></tr><tr><td>Central African Republic</td><td>43.8669166666667</td></tr><tr><td>Japan</td><td>74.8269166666667</td></tr><tr><td>Denmark</td><td>74.3701666666667</td></tr><tr><td>Jamaica</td><td>68.7493333333333</td></tr><tr><td>Yemen, Rep.</td><td>46.7804166666667</td></tr><tr><td>Trinidad and Tobago</td><td>66.828</td></tr><tr><td>Mongolia</td><td>55.8903333333333</td></tr><tr><td>Iraq</td><td>56.58175</td></tr><tr><td>Mauritania</td><td>52.3020833333333</td></tr><tr><td>Korea, Rep.</td><td>65.001</td></tr><tr><td>Mozambique</td><td>40.3795</td></tr><tr><td>Switzerland</td><td>75.5650833333333</td></tr><tr><td>New Zealand</td><td>73.9895</td></tr><tr><td>Ecuador</td><td>62.8168333333333</td></tr><tr><td>Hungary</td><td>69.3931666666667</td></tr><tr><td>Korea, Dem. Rep.</td><td>63.6073333333333</td></tr><tr><td>Norway</td><td>75.843</td></tr><tr><td>Honduras</td><td>57.9208333333333</td></tr><tr><td>Botswana</td><td>54.5975</td></tr><tr><td>Pakistan</td><td>54.88225</td></tr><tr><td>Romania</td><td>68.2906666666667</td></tr><tr><td>Brazil</td><td>62.2395</td></tr><tr><td>Austria</td><td>73.10325</td></tr><tr><td>Guatemala</td><td>56.7294166666667</td></tr><tr><td>Guinea-Bissau</td><td>39.21025</td></tr><tr><td>Bolivia</td><td>52.5045833333333</td></tr><tr><td>Ethiopia</td><td>44.47575</td></tr><tr><td>Niger</td><td>44.5586666666667</td></tr><tr><td>Panama</td><td>67.80175</td></tr><tr><td>Bulgaria</td><td>69.74375</td></tr><tr><td>Croatia</td><td>70.0559166666667</td></tr><tr><td>Tunisia</td><td>60.721</td></tr><tr><td>Sudan</td><td>48.4005</td></tr><tr><td>Mali</td><td>43.4135</td></tr><tr><td>Swaziland</td><td>49.0024166666667</td></tr><tr><td>Morocco</td><td>57.6088333333333</td></tr><tr><td>Myanmar</td><td>53.3216666666667</td></tr><tr><td>Nicaragua</td><td>58.3494166666667</td></tr><tr><td>Mexico</td><td>65.4088333333333</td></tr><tr><td>Nepal</td><td>48.9863333333333</td></tr><tr><td>Tanzania</td><td>47.9123333333333</td></tr><tr><td>Poland</td><td>70.1769166666667</td></tr><tr><td>Lebanon</td><td>65.8656666666667</td></tr><tr><td>Costa Rica</td><td>70.1814166666667</td></tr><tr><td>Haiti</td><td>50.16525</td></tr><tr><td>Equatorial Guinea</td><td>42.96</td></tr><tr><td>Somalia</td><td>40.9886666666667</td></tr></table>"
                    }
                }
            ],
            "execution_count": 1
        },
        {
            "cell_type": "markdown",
            "source": [
                ""
            ],
            "metadata": {
                "azdata_cell_guid": "7e23ba5a-cb51-4223-8d5c-b5e9b214a792"
            }
        },
        {
            "cell_type": "code",
            "source": [
                "select country, avg(lifeexp)\n",
                "from gapminder\n",
                "GROUP BY grouping sets (country, ())"
            ],
            "metadata": {
                "azdata_cell_guid": "b380f7c6-fb56-4854-9e14-90c6700844c6",
                "tags": []
            },
            "outputs": [
                {
                    "output_type": "display_data",
                    "data": {
                        "text/html": "(143 row(s) affected)"
                    },
                    "metadata": {}
                },
                {
                    "output_type": "display_data",
                    "data": {
                        "text/html": "Total execution time: 00:00:00.012"
                    },
                    "metadata": {}
                },
                {
                    "output_type": "execute_result",
                    "metadata": {},
                    "execution_count": 2,
                    "data": {
                        "application/vnd.dataresource+json": {
                            "schema": {
                                "fields": [
                                    {
                                        "name": "country"
                                    },
                                    {
                                        "name": "avg"
                                    }
                                ]
                            },
                            "data": [
                                {
                                    "0": "NULL",
                                    "1": "59.4744393661971"
                                },
                                {
                                    "0": "Indonesia",
                                    "1": "54.33575"
                                },
                                {
                                    "0": "Bangladesh",
                                    "1": "49.8340833333333"
                                },
                                {
                                    "0": "Venezuela",
                                    "1": "66.5806666666667"
                                },
                                {
                                    "0": "Cameroon",
                                    "1": "48.1285"
                                },
                                {
                                    "0": "Czech Republic",
                                    "1": "71.5105"
                                },
                                {
                                    "0": "Sweden",
                                    "1": "76.177"
                                },
                                {
                                    "0": "Uganda",
                                    "1": "47.6188333333333"
                                },
                                {
                                    "0": "Montenegro",
                                    "1": "70.2991666666667"
                                },
                                {
                                    "0": "Jordan",
                                    "1": "59.7864166666667"
                                },
                                {
                                    "0": "Dominican Republic",
                                    "1": "61.5545"
                                },
                                {
                                    "0": "Ireland",
                                    "1": "73.01725"
                                },
                                {
                                    "0": "Cambodia",
                                    "1": "47.90275"
                                },
                                {
                                    "0": "Singapore",
                                    "1": "71.22025"
                                },
                                {
                                    "0": "Sri Lanka",
                                    "1": "66.5260833333333"
                                },
                                {
                                    "0": "Portugal",
                                    "1": "70.4198333333333"
                                },
                                {
                                    "0": "Finland",
                                    "1": "72.9919166666667"
                                },
                                {
                                    "0": "Colombia",
                                    "1": "63.89775"
                                },
                                {
                                    "0": "Albania",
                                    "1": "68.4329166666667"
                                },
                                {
                                    "0": "Saudi Arabia",
                                    "1": "58.67875"
                                },
                                {
                                    "0": "Sao Tome and Principe",
                                    "1": "57.8963333333333"
                                },
                                {
                                    "0": "Cote d'Ivoire",
                                    "1": "48.4361666666667"
                                },
                                {
                                    "0": "Cuba",
                                    "1": "71.0450833333334"
                                },
                                {
                                    "0": "Algeria",
                                    "1": "59.0301666666667"
                                },
                                {
                                    "0": "France",
                                    "1": "74.3489166666667"
                                },
                                {
                                    "0": "Israel",
                                    "1": "73.6458333333333"
                                },
                                {
                                    "0": "Djibouti",
                                    "1": "46.38075"
                                },
                                {
                                    "0": "Syria",
                                    "1": "61.3461666666667"
                                },
                                {
                                    "0": "Senegal",
                                    "1": "50.6259166666667"
                                },
                                {
                                    "0": "Malaysia",
                                    "1": "64.2795833333333"
                                },
                                {
                                    "0": "Kenya",
                                    "1": "52.681"
                                },
                                {
                                    "0": "Ghana",
                                    "1": "52.3406666666667"
                                },
                                {
                                    "0": "Zambia",
                                    "1": "45.9963333333333"
                                },
                                {
                                    "0": "Iceland",
                                    "1": "76.5114166666667"
                                },
                                {
                                    "0": "Madagascar",
                                    "1": "47.7705833333333"
                                },
                                {
                                    "0": "Kuwait",
                                    "1": "68.9223333333333"
                                },
                                {
                                    "0": "Sierra Leone",
                                    "1": "36.7691666666667"
                                },
                                {
                                    "0": "Liberia",
                                    "1": "42.47625"
                                },
                                {
                                    "0": "Bosnia and Herzegovina",
                                    "1": "67.7078333333333"
                                },
                                {
                                    "0": "Philippines",
                                    "1": "60.96725"
                                },
                                {
                                    "0": "Benin",
                                    "1": "48.7799166666667"
                                },
                                {
                                    "0": "United States",
                                    "1": "73.4785"
                                },
                                {
                                    "0": "Guinea",
                                    "1": "43.2398333333333"
                                },
                                {
                                    "0": "Turkey",
                                    "1": "59.6964166666667"
                                },
                                {
                                    "0": "Nigeria",
                                    "1": "43.5813333333333"
                                },
                                {
                                    "0": "Rwanda",
                                    "1": "41.4815833333333"
                                },
                                {
                                    "0": "Zimbabwe",
                                    "1": "52.6631666666667"
                                },
                                {
                                    "0": "Congo, Rep.",
                                    "1": "52.5019166666667"
                                },
                                {
                                    "0": "Comoros",
                                    "1": "52.38175"
                                },
                                {
                                    "0": "China",
                                    "1": "61.78514"
                                },
                                {
                                    "0": "Netherlands",
                                    "1": "75.6485"
                                },
                                {
                                    "0": "Lesotho",
                                    "1": "50.0070833333333"
                                },
                                {
                                    "0": "Paraguay",
                                    "1": "66.8090833333333"
                                },
                                {
                                    "0": "Gabon",
                                    "1": "51.2205"
                                },
                                {
                                    "0": "Australia",
                                    "1": "74.6629166666667"
                                },
                                {
                                    "0": "Serbia",
                                    "1": "68.551"
                                },
                                {
                                    "0": "Mauritius",
                                    "1": "64.95325"
                                },
                                {
                                    "0": "Angola",
                                    "1": "37.8835"
                                },
                                {
                                    "0": "Libya",
                                    "1": "59.3041666666667"
                                },
                                {
                                    "0": "Reunion",
                                    "1": "66.64425"
                                },
                                {
                                    "0": "Bahrain",
                                    "1": "65.6056666666667"
                                },
                                {
                                    "0": "Spain",
                                    "1": "74.2034166666667"
                                },
                                {
                                    "0": "Malawi",
                                    "1": "43.3515833333333"
                                },
                                {
                                    "0": "Belgium",
                                    "1": "73.64175"
                                },
                                {
                                    "0": "West Bank and Gaza",
                                    "1": "60.3286666666667"
                                },
                                {
                                    "0": "Burundi",
                                    "1": "44.8173333333333"
                                },
                                {
                                    "0": "Taiwan",
                                    "1": "70.3366666666667"
                                },
                                {
                                    "0": "Thailand",
                                    "1": "62.20025"
                                },
                                {
                                    "0": "Togo",
                                    "1": "51.49875"
                                },
                                {
                                    "0": "Hong Kong, China",
                                    "1": "73.4928333333333"
                                },
                                {
                                    "0": "Burkina Faso",
                                    "1": "44.694"
                                },
                                {
                                    "0": "El Salvador",
                                    "1": "59.6333333333333"
                                },
                                {
                                    "0": "Italy",
                                    "1": "74.0138333333333"
                                },
                                {
                                    "0": "Uruguay",
                                    "1": "70.7815833333333"
                                },
                                {
                                    "0": "Oman",
                                    "1": "58.4426666666667"
                                },
                                {
                                    "0": "United Kingdom",
                                    "1": "73.9225833333333"
                                },
                                {
                                    "0": "Germany",
                                    "1": "73.4444166666667"
                                },
                                {
                                    "0": "Congo, Dem. Rep.",
                                    "1": "44.54375"
                                },
                                {
                                    "0": "Eritrea",
                                    "1": "45.99925"
                                },
                                {
                                    "0": "Canada",
                                    "1": "74.90275"
                                },
                                {
                                    "0": "Slovak Republic",
                                    "1": "70.6960833333333"
                                },
                                {
                                    "0": "Namibia",
                                    "1": "53.4913333333334"
                                },
                                {
                                    "0": "Argentina",
                                    "1": "69.0604166666667"
                                },
                                {
                                    "0": "Slovenia",
                                    "1": "71.60075"
                                },
                                {
                                    "0": "Greece",
                                    "1": "73.7331666666667"
                                },
                                {
                                    "0": "Egypt",
                                    "1": "56.243"
                                },
                                {
                                    "0": "Afghanistan",
                                    "1": "37.4788333333333"
                                },
                                {
                                    "0": "Puerto Rico",
                                    "1": "72.7393333333333"
                                },
                                {
                                    "0": "India",
                                    "1": "53.1660833333333"
                                },
                                {
                                    "0": "Chad",
                                    "1": "46.7735833333333"
                                },
                                {
                                    "0": "Iran",
                                    "1": "58.6365833333333"
                                },
                                {
                                    "0": "Chile",
                                    "1": "67.4309166666667"
                                },
                                {
                                    "0": "Gambia",
                                    "1": "44.4005833333333"
                                },
                                {
                                    "0": "Vietnam",
                                    "1": "57.4795"
                                },
                                {
                                    "0": "South Africa",
                                    "1": "53.9931666666667"
                                },
                                {
                                    "0": "Peru",
                                    "1": "58.8593333333333"
                                },
                                {
                                    "0": "Central African Republic",
                                    "1": "43.8669166666667"
                                },
                                {
                                    "0": "Japan",
                                    "1": "74.8269166666667"
                                },
                                {
                                    "0": "Denmark",
                                    "1": "74.3701666666667"
                                },
                                {
                                    "0": "Jamaica",
                                    "1": "68.7493333333333"
                                },
                                {
                                    "0": "Yemen, Rep.",
                                    "1": "46.7804166666667"
                                },
                                {
                                    "0": "Trinidad and Tobago",
                                    "1": "66.828"
                                },
                                {
                                    "0": "Mongolia",
                                    "1": "55.8903333333333"
                                },
                                {
                                    "0": "Iraq",
                                    "1": "56.58175"
                                },
                                {
                                    "0": "Mauritania",
                                    "1": "52.3020833333333"
                                },
                                {
                                    "0": "Korea, Rep.",
                                    "1": "65.001"
                                },
                                {
                                    "0": "Mozambique",
                                    "1": "40.3795"
                                },
                                {
                                    "0": "Switzerland",
                                    "1": "75.5650833333333"
                                },
                                {
                                    "0": "New Zealand",
                                    "1": "73.9895"
                                },
                                {
                                    "0": "Ecuador",
                                    "1": "62.8168333333333"
                                },
                                {
                                    "0": "Hungary",
                                    "1": "69.3931666666667"
                                },
                                {
                                    "0": "Korea, Dem. Rep.",
                                    "1": "63.6073333333333"
                                },
                                {
                                    "0": "Norway",
                                    "1": "75.843"
                                },
                                {
                                    "0": "Honduras",
                                    "1": "57.9208333333333"
                                },
                                {
                                    "0": "Botswana",
                                    "1": "54.5975"
                                },
                                {
                                    "0": "Pakistan",
                                    "1": "54.88225"
                                },
                                {
                                    "0": "Romania",
                                    "1": "68.2906666666667"
                                },
                                {
                                    "0": "Brazil",
                                    "1": "62.2395"
                                },
                                {
                                    "0": "Austria",
                                    "1": "73.10325"
                                },
                                {
                                    "0": "Guatemala",
                                    "1": "56.7294166666667"
                                },
                                {
                                    "0": "Guinea-Bissau",
                                    "1": "39.21025"
                                },
                                {
                                    "0": "Bolivia",
                                    "1": "52.5045833333333"
                                },
                                {
                                    "0": "Ethiopia",
                                    "1": "44.47575"
                                },
                                {
                                    "0": "Niger",
                                    "1": "44.5586666666667"
                                },
                                {
                                    "0": "Panama",
                                    "1": "67.80175"
                                },
                                {
                                    "0": "Bulgaria",
                                    "1": "69.74375"
                                },
                                {
                                    "0": "Croatia",
                                    "1": "70.0559166666667"
                                },
                                {
                                    "0": "Tunisia",
                                    "1": "60.721"
                                },
                                {
                                    "0": "Sudan",
                                    "1": "48.4005"
                                },
                                {
                                    "0": "Mali",
                                    "1": "43.4135"
                                },
                                {
                                    "0": "Swaziland",
                                    "1": "49.0024166666667"
                                },
                                {
                                    "0": "Morocco",
                                    "1": "57.6088333333333"
                                },
                                {
                                    "0": "Myanmar",
                                    "1": "53.3216666666667"
                                },
                                {
                                    "0": "Nicaragua",
                                    "1": "58.3494166666667"
                                },
                                {
                                    "0": "Mexico",
                                    "1": "65.4088333333333"
                                },
                                {
                                    "0": "Nepal",
                                    "1": "48.9863333333333"
                                },
                                {
                                    "0": "Tanzania",
                                    "1": "47.9123333333333"
                                },
                                {
                                    "0": "Poland",
                                    "1": "70.1769166666667"
                                },
                                {
                                    "0": "Lebanon",
                                    "1": "65.8656666666667"
                                },
                                {
                                    "0": "Costa Rica",
                                    "1": "70.1814166666667"
                                },
                                {
                                    "0": "Haiti",
                                    "1": "50.16525"
                                },
                                {
                                    "0": "Equatorial Guinea",
                                    "1": "42.96"
                                },
                                {
                                    "0": "Somalia",
                                    "1": "40.9886666666667"
                                }
                            ]
                        },
                        "text/html": "<table><tr><th>country</th><th>avg</th></tr><tr><td>NULL</td><td>59.4744393661971</td></tr><tr><td>Indonesia</td><td>54.33575</td></tr><tr><td>Bangladesh</td><td>49.8340833333333</td></tr><tr><td>Venezuela</td><td>66.5806666666667</td></tr><tr><td>Cameroon</td><td>48.1285</td></tr><tr><td>Czech Republic</td><td>71.5105</td></tr><tr><td>Sweden</td><td>76.177</td></tr><tr><td>Uganda</td><td>47.6188333333333</td></tr><tr><td>Montenegro</td><td>70.2991666666667</td></tr><tr><td>Jordan</td><td>59.7864166666667</td></tr><tr><td>Dominican Republic</td><td>61.5545</td></tr><tr><td>Ireland</td><td>73.01725</td></tr><tr><td>Cambodia</td><td>47.90275</td></tr><tr><td>Singapore</td><td>71.22025</td></tr><tr><td>Sri Lanka</td><td>66.5260833333333</td></tr><tr><td>Portugal</td><td>70.4198333333333</td></tr><tr><td>Finland</td><td>72.9919166666667</td></tr><tr><td>Colombia</td><td>63.89775</td></tr><tr><td>Albania</td><td>68.4329166666667</td></tr><tr><td>Saudi Arabia</td><td>58.67875</td></tr><tr><td>Sao Tome and Principe</td><td>57.8963333333333</td></tr><tr><td>Cote d'Ivoire</td><td>48.4361666666667</td></tr><tr><td>Cuba</td><td>71.0450833333334</td></tr><tr><td>Algeria</td><td>59.0301666666667</td></tr><tr><td>France</td><td>74.3489166666667</td></tr><tr><td>Israel</td><td>73.6458333333333</td></tr><tr><td>Djibouti</td><td>46.38075</td></tr><tr><td>Syria</td><td>61.3461666666667</td></tr><tr><td>Senegal</td><td>50.6259166666667</td></tr><tr><td>Malaysia</td><td>64.2795833333333</td></tr><tr><td>Kenya</td><td>52.681</td></tr><tr><td>Ghana</td><td>52.3406666666667</td></tr><tr><td>Zambia</td><td>45.9963333333333</td></tr><tr><td>Iceland</td><td>76.5114166666667</td></tr><tr><td>Madagascar</td><td>47.7705833333333</td></tr><tr><td>Kuwait</td><td>68.9223333333333</td></tr><tr><td>Sierra Leone</td><td>36.7691666666667</td></tr><tr><td>Liberia</td><td>42.47625</td></tr><tr><td>Bosnia and Herzegovina</td><td>67.7078333333333</td></tr><tr><td>Philippines</td><td>60.96725</td></tr><tr><td>Benin</td><td>48.7799166666667</td></tr><tr><td>United States</td><td>73.4785</td></tr><tr><td>Guinea</td><td>43.2398333333333</td></tr><tr><td>Turkey</td><td>59.6964166666667</td></tr><tr><td>Nigeria</td><td>43.5813333333333</td></tr><tr><td>Rwanda</td><td>41.4815833333333</td></tr><tr><td>Zimbabwe</td><td>52.6631666666667</td></tr><tr><td>Congo, Rep.</td><td>52.5019166666667</td></tr><tr><td>Comoros</td><td>52.38175</td></tr><tr><td>China</td><td>61.78514</td></tr><tr><td>Netherlands</td><td>75.6485</td></tr><tr><td>Lesotho</td><td>50.0070833333333</td></tr><tr><td>Paraguay</td><td>66.8090833333333</td></tr><tr><td>Gabon</td><td>51.2205</td></tr><tr><td>Australia</td><td>74.6629166666667</td></tr><tr><td>Serbia</td><td>68.551</td></tr><tr><td>Mauritius</td><td>64.95325</td></tr><tr><td>Angola</td><td>37.8835</td></tr><tr><td>Libya</td><td>59.3041666666667</td></tr><tr><td>Reunion</td><td>66.64425</td></tr><tr><td>Bahrain</td><td>65.6056666666667</td></tr><tr><td>Spain</td><td>74.2034166666667</td></tr><tr><td>Malawi</td><td>43.3515833333333</td></tr><tr><td>Belgium</td><td>73.64175</td></tr><tr><td>West Bank and Gaza</td><td>60.3286666666667</td></tr><tr><td>Burundi</td><td>44.8173333333333</td></tr><tr><td>Taiwan</td><td>70.3366666666667</td></tr><tr><td>Thailand</td><td>62.20025</td></tr><tr><td>Togo</td><td>51.49875</td></tr><tr><td>Hong Kong, China</td><td>73.4928333333333</td></tr><tr><td>Burkina Faso</td><td>44.694</td></tr><tr><td>El Salvador</td><td>59.6333333333333</td></tr><tr><td>Italy</td><td>74.0138333333333</td></tr><tr><td>Uruguay</td><td>70.7815833333333</td></tr><tr><td>Oman</td><td>58.4426666666667</td></tr><tr><td>United Kingdom</td><td>73.9225833333333</td></tr><tr><td>Germany</td><td>73.4444166666667</td></tr><tr><td>Congo, Dem. Rep.</td><td>44.54375</td></tr><tr><td>Eritrea</td><td>45.99925</td></tr><tr><td>Canada</td><td>74.90275</td></tr><tr><td>Slovak Republic</td><td>70.6960833333333</td></tr><tr><td>Namibia</td><td>53.4913333333334</td></tr><tr><td>Argentina</td><td>69.0604166666667</td></tr><tr><td>Slovenia</td><td>71.60075</td></tr><tr><td>Greece</td><td>73.7331666666667</td></tr><tr><td>Egypt</td><td>56.243</td></tr><tr><td>Afghanistan</td><td>37.4788333333333</td></tr><tr><td>Puerto Rico</td><td>72.7393333333333</td></tr><tr><td>India</td><td>53.1660833333333</td></tr><tr><td>Chad</td><td>46.7735833333333</td></tr><tr><td>Iran</td><td>58.6365833333333</td></tr><tr><td>Chile</td><td>67.4309166666667</td></tr><tr><td>Gambia</td><td>44.4005833333333</td></tr><tr><td>Vietnam</td><td>57.4795</td></tr><tr><td>South Africa</td><td>53.9931666666667</td></tr><tr><td>Peru</td><td>58.8593333333333</td></tr><tr><td>Central African Republic</td><td>43.8669166666667</td></tr><tr><td>Japan</td><td>74.8269166666667</td></tr><tr><td>Denmark</td><td>74.3701666666667</td></tr><tr><td>Jamaica</td><td>68.7493333333333</td></tr><tr><td>Yemen, Rep.</td><td>46.7804166666667</td></tr><tr><td>Trinidad and Tobago</td><td>66.828</td></tr><tr><td>Mongolia</td><td>55.8903333333333</td></tr><tr><td>Iraq</td><td>56.58175</td></tr><tr><td>Mauritania</td><td>52.3020833333333</td></tr><tr><td>Korea, Rep.</td><td>65.001</td></tr><tr><td>Mozambique</td><td>40.3795</td></tr><tr><td>Switzerland</td><td>75.5650833333333</td></tr><tr><td>New Zealand</td><td>73.9895</td></tr><tr><td>Ecuador</td><td>62.8168333333333</td></tr><tr><td>Hungary</td><td>69.3931666666667</td></tr><tr><td>Korea, Dem. Rep.</td><td>63.6073333333333</td></tr><tr><td>Norway</td><td>75.843</td></tr><tr><td>Honduras</td><td>57.9208333333333</td></tr><tr><td>Botswana</td><td>54.5975</td></tr><tr><td>Pakistan</td><td>54.88225</td></tr><tr><td>Romania</td><td>68.2906666666667</td></tr><tr><td>Brazil</td><td>62.2395</td></tr><tr><td>Austria</td><td>73.10325</td></tr><tr><td>Guatemala</td><td>56.7294166666667</td></tr><tr><td>Guinea-Bissau</td><td>39.21025</td></tr><tr><td>Bolivia</td><td>52.5045833333333</td></tr><tr><td>Ethiopia</td><td>44.47575</td></tr><tr><td>Niger</td><td>44.5586666666667</td></tr><tr><td>Panama</td><td>67.80175</td></tr><tr><td>Bulgaria</td><td>69.74375</td></tr><tr><td>Croatia</td><td>70.0559166666667</td></tr><tr><td>Tunisia</td><td>60.721</td></tr><tr><td>Sudan</td><td>48.4005</td></tr><tr><td>Mali</td><td>43.4135</td></tr><tr><td>Swaziland</td><td>49.0024166666667</td></tr><tr><td>Morocco</td><td>57.6088333333333</td></tr><tr><td>Myanmar</td><td>53.3216666666667</td></tr><tr><td>Nicaragua</td><td>58.3494166666667</td></tr><tr><td>Mexico</td><td>65.4088333333333</td></tr><tr><td>Nepal</td><td>48.9863333333333</td></tr><tr><td>Tanzania</td><td>47.9123333333333</td></tr><tr><td>Poland</td><td>70.1769166666667</td></tr><tr><td>Lebanon</td><td>65.8656666666667</td></tr><tr><td>Costa Rica</td><td>70.1814166666667</td></tr><tr><td>Haiti</td><td>50.16525</td></tr><tr><td>Equatorial Guinea</td><td>42.96</td></tr><tr><td>Somalia</td><td>40.9886666666667</td></tr></table>"
                    }
                }
            ],
            "execution_count": 2
        },
        {
            "cell_type": "code",
            "source": [
                "select country, avg(lifeexp)\n",
                "from gapminder\n",
                "GROUP BY \n",
                "    grouping sets (\n",
                "        country,\n",
                "        continent,\n",
                "         ())\n",
                "order by continent, country"
            ],
            "metadata": {
                "azdata_cell_guid": "db7121ce-75a4-46de-9584-c746e56b7b19"
            },
            "outputs": [
                {
                    "output_type": "display_data",
                    "data": {
                        "text/html": "(148 row(s) affected)"
                    },
                    "metadata": {}
                },
                {
                    "output_type": "display_data",
                    "data": {
                        "text/html": "Total execution time: 00:00:00.022"
                    },
                    "metadata": {}
                },
                {
                    "output_type": "execute_result",
                    "metadata": {},
                    "execution_count": 4,
                    "data": {
                        "application/vnd.dataresource+json": {
                            "schema": {
                                "fields": [
                                    {
                                        "name": "country"
                                    },
                                    {
                                        "name": "avg"
                                    }
                                ]
                            },
                            "data": [
                                {
                                    "0": "NULL",
                                    "1": "48.8653301282051"
                                },
                                {
                                    "0": "NULL",
                                    "1": "64.6587366666667"
                                },
                                {
                                    "0": "NULL",
                                    "1": "60.0649032323232"
                                },
                                {
                                    "0": "NULL",
                                    "1": "71.9036861111111"
                                },
                                {
                                    "0": "NULL",
                                    "1": "74.3262083333333"
                                },
                                {
                                    "0": "Afghanistan",
                                    "1": "37.4788333333333"
                                },
                                {
                                    "0": "Albania",
                                    "1": "68.4329166666667"
                                },
                                {
                                    "0": "Algeria",
                                    "1": "59.0301666666667"
                                },
                                {
                                    "0": "Angola",
                                    "1": "37.8835"
                                },
                                {
                                    "0": "Argentina",
                                    "1": "69.0604166666667"
                                },
                                {
                                    "0": "Australia",
                                    "1": "74.6629166666667"
                                },
                                {
                                    "0": "Austria",
                                    "1": "73.10325"
                                },
                                {
                                    "0": "Bahrain",
                                    "1": "65.6056666666667"
                                },
                                {
                                    "0": "Bangladesh",
                                    "1": "49.8340833333333"
                                },
                                {
                                    "0": "Belgium",
                                    "1": "73.64175"
                                },
                                {
                                    "0": "Benin",
                                    "1": "48.7799166666667"
                                },
                                {
                                    "0": "Bolivia",
                                    "1": "52.5045833333333"
                                },
                                {
                                    "0": "Bosnia and Herzegovina",
                                    "1": "67.7078333333333"
                                },
                                {
                                    "0": "Botswana",
                                    "1": "54.5975"
                                },
                                {
                                    "0": "Brazil",
                                    "1": "62.2395"
                                },
                                {
                                    "0": "Bulgaria",
                                    "1": "69.74375"
                                },
                                {
                                    "0": "Burkina Faso",
                                    "1": "44.694"
                                },
                                {
                                    "0": "Burundi",
                                    "1": "44.8173333333333"
                                },
                                {
                                    "0": "Cambodia",
                                    "1": "47.90275"
                                },
                                {
                                    "0": "Cameroon",
                                    "1": "48.1285"
                                },
                                {
                                    "0": "Canada",
                                    "1": "74.90275"
                                },
                                {
                                    "0": "Central African Republic",
                                    "1": "43.8669166666667"
                                },
                                {
                                    "0": "Chad",
                                    "1": "46.7735833333333"
                                },
                                {
                                    "0": "Chile",
                                    "1": "67.4309166666667"
                                },
                                {
                                    "0": "China",
                                    "1": "61.78514"
                                },
                                {
                                    "0": "Colombia",
                                    "1": "63.89775"
                                },
                                {
                                    "0": "Comoros",
                                    "1": "52.38175"
                                },
                                {
                                    "0": "Congo, Dem. Rep.",
                                    "1": "44.54375"
                                },
                                {
                                    "0": "Congo, Rep.",
                                    "1": "52.5019166666667"
                                },
                                {
                                    "0": "Costa Rica",
                                    "1": "70.1814166666667"
                                },
                                {
                                    "0": "Cote d'Ivoire",
                                    "1": "48.4361666666667"
                                },
                                {
                                    "0": "Croatia",
                                    "1": "70.0559166666667"
                                },
                                {
                                    "0": "Cuba",
                                    "1": "71.0450833333334"
                                },
                                {
                                    "0": "Czech Republic",
                                    "1": "71.5105"
                                },
                                {
                                    "0": "Denmark",
                                    "1": "74.3701666666667"
                                },
                                {
                                    "0": "Djibouti",
                                    "1": "46.38075"
                                },
                                {
                                    "0": "Dominican Republic",
                                    "1": "61.5545"
                                },
                                {
                                    "0": "Ecuador",
                                    "1": "62.8168333333333"
                                },
                                {
                                    "0": "Egypt",
                                    "1": "56.243"
                                },
                                {
                                    "0": "El Salvador",
                                    "1": "59.6333333333333"
                                },
                                {
                                    "0": "Equatorial Guinea",
                                    "1": "42.96"
                                },
                                {
                                    "0": "Eritrea",
                                    "1": "45.99925"
                                },
                                {
                                    "0": "Ethiopia",
                                    "1": "44.47575"
                                },
                                {
                                    "0": "Finland",
                                    "1": "72.9919166666667"
                                },
                                {
                                    "0": "France",
                                    "1": "74.3489166666667"
                                },
                                {
                                    "0": "Gabon",
                                    "1": "51.2205"
                                },
                                {
                                    "0": "Gambia",
                                    "1": "44.4005833333333"
                                },
                                {
                                    "0": "Germany",
                                    "1": "73.4444166666667"
                                },
                                {
                                    "0": "Ghana",
                                    "1": "52.3406666666667"
                                },
                                {
                                    "0": "Greece",
                                    "1": "73.7331666666667"
                                },
                                {
                                    "0": "Guatemala",
                                    "1": "56.7294166666667"
                                },
                                {
                                    "0": "Guinea",
                                    "1": "43.2398333333333"
                                },
                                {
                                    "0": "Guinea-Bissau",
                                    "1": "39.21025"
                                },
                                {
                                    "0": "Haiti",
                                    "1": "50.16525"
                                },
                                {
                                    "0": "Honduras",
                                    "1": "57.9208333333333"
                                },
                                {
                                    "0": "Hong Kong, China",
                                    "1": "73.4928333333333"
                                },
                                {
                                    "0": "Hungary",
                                    "1": "69.3931666666667"
                                },
                                {
                                    "0": "Iceland",
                                    "1": "76.5114166666667"
                                },
                                {
                                    "0": "India",
                                    "1": "53.1660833333333"
                                },
                                {
                                    "0": "Indonesia",
                                    "1": "54.33575"
                                },
                                {
                                    "0": "Iran",
                                    "1": "58.6365833333333"
                                },
                                {
                                    "0": "Iraq",
                                    "1": "56.58175"
                                },
                                {
                                    "0": "Ireland",
                                    "1": "73.01725"
                                },
                                {
                                    "0": "Israel",
                                    "1": "73.6458333333333"
                                },
                                {
                                    "0": "Italy",
                                    "1": "74.0138333333333"
                                },
                                {
                                    "0": "Jamaica",
                                    "1": "68.7493333333333"
                                },
                                {
                                    "0": "Japan",
                                    "1": "74.8269166666667"
                                },
                                {
                                    "0": "Jordan",
                                    "1": "59.7864166666667"
                                },
                                {
                                    "0": "Kenya",
                                    "1": "52.681"
                                },
                                {
                                    "0": "Korea, Dem. Rep.",
                                    "1": "63.6073333333333"
                                },
                                {
                                    "0": "Korea, Rep.",
                                    "1": "65.001"
                                },
                                {
                                    "0": "Kuwait",
                                    "1": "68.9223333333333"
                                },
                                {
                                    "0": "Lebanon",
                                    "1": "65.8656666666667"
                                },
                                {
                                    "0": "Lesotho",
                                    "1": "50.0070833333333"
                                },
                                {
                                    "0": "Liberia",
                                    "1": "42.47625"
                                },
                                {
                                    "0": "Libya",
                                    "1": "59.3041666666667"
                                },
                                {
                                    "0": "Madagascar",
                                    "1": "47.7705833333333"
                                },
                                {
                                    "0": "Malawi",
                                    "1": "43.3515833333333"
                                },
                                {
                                    "0": "Malaysia",
                                    "1": "64.2795833333333"
                                },
                                {
                                    "0": "Mali",
                                    "1": "43.4135"
                                },
                                {
                                    "0": "Mauritania",
                                    "1": "52.3020833333333"
                                },
                                {
                                    "0": "Mauritius",
                                    "1": "64.95325"
                                },
                                {
                                    "0": "Mexico",
                                    "1": "65.4088333333333"
                                },
                                {
                                    "0": "Mongolia",
                                    "1": "55.8903333333333"
                                },
                                {
                                    "0": "Montenegro",
                                    "1": "70.2991666666667"
                                },
                                {
                                    "0": "Morocco",
                                    "1": "57.6088333333333"
                                },
                                {
                                    "0": "Mozambique",
                                    "1": "40.3795"
                                },
                                {
                                    "0": "Myanmar",
                                    "1": "53.3216666666667"
                                },
                                {
                                    "0": "Namibia",
                                    "1": "53.4913333333334"
                                },
                                {
                                    "0": "Nepal",
                                    "1": "48.9863333333333"
                                },
                                {
                                    "0": "Netherlands",
                                    "1": "75.6485"
                                },
                                {
                                    "0": "New Zealand",
                                    "1": "73.9895"
                                },
                                {
                                    "0": "Nicaragua",
                                    "1": "58.3494166666667"
                                },
                                {
                                    "0": "Niger",
                                    "1": "44.5586666666667"
                                },
                                {
                                    "0": "Nigeria",
                                    "1": "43.5813333333333"
                                },
                                {
                                    "0": "Norway",
                                    "1": "75.843"
                                },
                                {
                                    "0": "Oman",
                                    "1": "58.4426666666667"
                                },
                                {
                                    "0": "Pakistan",
                                    "1": "54.88225"
                                },
                                {
                                    "0": "Panama",
                                    "1": "67.80175"
                                },
                                {
                                    "0": "Paraguay",
                                    "1": "66.8090833333333"
                                },
                                {
                                    "0": "Peru",
                                    "1": "58.8593333333333"
                                },
                                {
                                    "0": "Philippines",
                                    "1": "60.96725"
                                },
                                {
                                    "0": "Poland",
                                    "1": "70.1769166666667"
                                },
                                {
                                    "0": "Portugal",
                                    "1": "70.4198333333333"
                                },
                                {
                                    "0": "Puerto Rico",
                                    "1": "72.7393333333333"
                                },
                                {
                                    "0": "Reunion",
                                    "1": "66.64425"
                                },
                                {
                                    "0": "Romania",
                                    "1": "68.2906666666667"
                                },
                                {
                                    "0": "Rwanda",
                                    "1": "41.4815833333333"
                                },
                                {
                                    "0": "Sao Tome and Principe",
                                    "1": "57.8963333333333"
                                },
                                {
                                    "0": "Saudi Arabia",
                                    "1": "58.67875"
                                },
                                {
                                    "0": "Senegal",
                                    "1": "50.6259166666667"
                                },
                                {
                                    "0": "Serbia",
                                    "1": "68.551"
                                },
                                {
                                    "0": "Sierra Leone",
                                    "1": "36.7691666666667"
                                },
                                {
                                    "0": "Singapore",
                                    "1": "71.22025"
                                },
                                {
                                    "0": "Slovak Republic",
                                    "1": "70.6960833333333"
                                },
                                {
                                    "0": "Slovenia",
                                    "1": "71.60075"
                                },
                                {
                                    "0": "Somalia",
                                    "1": "40.9886666666667"
                                },
                                {
                                    "0": "South Africa",
                                    "1": "53.9931666666667"
                                },
                                {
                                    "0": "Spain",
                                    "1": "74.2034166666667"
                                },
                                {
                                    "0": "Sri Lanka",
                                    "1": "66.5260833333333"
                                },
                                {
                                    "0": "Sudan",
                                    "1": "48.4005"
                                },
                                {
                                    "0": "Swaziland",
                                    "1": "49.0024166666667"
                                },
                                {
                                    "0": "Sweden",
                                    "1": "76.177"
                                },
                                {
                                    "0": "Switzerland",
                                    "1": "75.5650833333333"
                                },
                                {
                                    "0": "Syria",
                                    "1": "61.3461666666667"
                                },
                                {
                                    "0": "Taiwan",
                                    "1": "70.3366666666667"
                                },
                                {
                                    "0": "Tanzania",
                                    "1": "47.9123333333333"
                                },
                                {
                                    "0": "Thailand",
                                    "1": "62.20025"
                                },
                                {
                                    "0": "Togo",
                                    "1": "51.49875"
                                },
                                {
                                    "0": "Trinidad and Tobago",
                                    "1": "66.828"
                                },
                                {
                                    "0": "Tunisia",
                                    "1": "60.721"
                                },
                                {
                                    "0": "Turkey",
                                    "1": "59.6964166666667"
                                },
                                {
                                    "0": "Uganda",
                                    "1": "47.6188333333333"
                                },
                                {
                                    "0": "United Kingdom",
                                    "1": "73.9225833333333"
                                },
                                {
                                    "0": "United States",
                                    "1": "73.4785"
                                },
                                {
                                    "0": "Uruguay",
                                    "1": "70.7815833333333"
                                },
                                {
                                    "0": "Venezuela",
                                    "1": "66.5806666666667"
                                },
                                {
                                    "0": "Vietnam",
                                    "1": "57.4795"
                                },
                                {
                                    "0": "West Bank and Gaza",
                                    "1": "60.3286666666667"
                                },
                                {
                                    "0": "Yemen, Rep.",
                                    "1": "46.7804166666667"
                                },
                                {
                                    "0": "Zambia",
                                    "1": "45.9963333333333"
                                },
                                {
                                    "0": "Zimbabwe",
                                    "1": "52.6631666666667"
                                },
                                {
                                    "0": "NULL",
                                    "1": "59.4744393661971"
                                }
                            ]
                        },
                        "text/html": "<table><tr><th>country</th><th>avg</th></tr><tr><td>NULL</td><td>48.8653301282051</td></tr><tr><td>NULL</td><td>64.6587366666667</td></tr><tr><td>NULL</td><td>60.0649032323232</td></tr><tr><td>NULL</td><td>71.9036861111111</td></tr><tr><td>NULL</td><td>74.3262083333333</td></tr><tr><td>Afghanistan</td><td>37.4788333333333</td></tr><tr><td>Albania</td><td>68.4329166666667</td></tr><tr><td>Algeria</td><td>59.0301666666667</td></tr><tr><td>Angola</td><td>37.8835</td></tr><tr><td>Argentina</td><td>69.0604166666667</td></tr><tr><td>Australia</td><td>74.6629166666667</td></tr><tr><td>Austria</td><td>73.10325</td></tr><tr><td>Bahrain</td><td>65.6056666666667</td></tr><tr><td>Bangladesh</td><td>49.8340833333333</td></tr><tr><td>Belgium</td><td>73.64175</td></tr><tr><td>Benin</td><td>48.7799166666667</td></tr><tr><td>Bolivia</td><td>52.5045833333333</td></tr><tr><td>Bosnia and Herzegovina</td><td>67.7078333333333</td></tr><tr><td>Botswana</td><td>54.5975</td></tr><tr><td>Brazil</td><td>62.2395</td></tr><tr><td>Bulgaria</td><td>69.74375</td></tr><tr><td>Burkina Faso</td><td>44.694</td></tr><tr><td>Burundi</td><td>44.8173333333333</td></tr><tr><td>Cambodia</td><td>47.90275</td></tr><tr><td>Cameroon</td><td>48.1285</td></tr><tr><td>Canada</td><td>74.90275</td></tr><tr><td>Central African Republic</td><td>43.8669166666667</td></tr><tr><td>Chad</td><td>46.7735833333333</td></tr><tr><td>Chile</td><td>67.4309166666667</td></tr><tr><td>China</td><td>61.78514</td></tr><tr><td>Colombia</td><td>63.89775</td></tr><tr><td>Comoros</td><td>52.38175</td></tr><tr><td>Congo, Dem. Rep.</td><td>44.54375</td></tr><tr><td>Congo, Rep.</td><td>52.5019166666667</td></tr><tr><td>Costa Rica</td><td>70.1814166666667</td></tr><tr><td>Cote d'Ivoire</td><td>48.4361666666667</td></tr><tr><td>Croatia</td><td>70.0559166666667</td></tr><tr><td>Cuba</td><td>71.0450833333334</td></tr><tr><td>Czech Republic</td><td>71.5105</td></tr><tr><td>Denmark</td><td>74.3701666666667</td></tr><tr><td>Djibouti</td><td>46.38075</td></tr><tr><td>Dominican Republic</td><td>61.5545</td></tr><tr><td>Ecuador</td><td>62.8168333333333</td></tr><tr><td>Egypt</td><td>56.243</td></tr><tr><td>El Salvador</td><td>59.6333333333333</td></tr><tr><td>Equatorial Guinea</td><td>42.96</td></tr><tr><td>Eritrea</td><td>45.99925</td></tr><tr><td>Ethiopia</td><td>44.47575</td></tr><tr><td>Finland</td><td>72.9919166666667</td></tr><tr><td>France</td><td>74.3489166666667</td></tr><tr><td>Gabon</td><td>51.2205</td></tr><tr><td>Gambia</td><td>44.4005833333333</td></tr><tr><td>Germany</td><td>73.4444166666667</td></tr><tr><td>Ghana</td><td>52.3406666666667</td></tr><tr><td>Greece</td><td>73.7331666666667</td></tr><tr><td>Guatemala</td><td>56.7294166666667</td></tr><tr><td>Guinea</td><td>43.2398333333333</td></tr><tr><td>Guinea-Bissau</td><td>39.21025</td></tr><tr><td>Haiti</td><td>50.16525</td></tr><tr><td>Honduras</td><td>57.9208333333333</td></tr><tr><td>Hong Kong, China</td><td>73.4928333333333</td></tr><tr><td>Hungary</td><td>69.3931666666667</td></tr><tr><td>Iceland</td><td>76.5114166666667</td></tr><tr><td>India</td><td>53.1660833333333</td></tr><tr><td>Indonesia</td><td>54.33575</td></tr><tr><td>Iran</td><td>58.6365833333333</td></tr><tr><td>Iraq</td><td>56.58175</td></tr><tr><td>Ireland</td><td>73.01725</td></tr><tr><td>Israel</td><td>73.6458333333333</td></tr><tr><td>Italy</td><td>74.0138333333333</td></tr><tr><td>Jamaica</td><td>68.7493333333333</td></tr><tr><td>Japan</td><td>74.8269166666667</td></tr><tr><td>Jordan</td><td>59.7864166666667</td></tr><tr><td>Kenya</td><td>52.681</td></tr><tr><td>Korea, Dem. Rep.</td><td>63.6073333333333</td></tr><tr><td>Korea, Rep.</td><td>65.001</td></tr><tr><td>Kuwait</td><td>68.9223333333333</td></tr><tr><td>Lebanon</td><td>65.8656666666667</td></tr><tr><td>Lesotho</td><td>50.0070833333333</td></tr><tr><td>Liberia</td><td>42.47625</td></tr><tr><td>Libya</td><td>59.3041666666667</td></tr><tr><td>Madagascar</td><td>47.7705833333333</td></tr><tr><td>Malawi</td><td>43.3515833333333</td></tr><tr><td>Malaysia</td><td>64.2795833333333</td></tr><tr><td>Mali</td><td>43.4135</td></tr><tr><td>Mauritania</td><td>52.3020833333333</td></tr><tr><td>Mauritius</td><td>64.95325</td></tr><tr><td>Mexico</td><td>65.4088333333333</td></tr><tr><td>Mongolia</td><td>55.8903333333333</td></tr><tr><td>Montenegro</td><td>70.2991666666667</td></tr><tr><td>Morocco</td><td>57.6088333333333</td></tr><tr><td>Mozambique</td><td>40.3795</td></tr><tr><td>Myanmar</td><td>53.3216666666667</td></tr><tr><td>Namibia</td><td>53.4913333333334</td></tr><tr><td>Nepal</td><td>48.9863333333333</td></tr><tr><td>Netherlands</td><td>75.6485</td></tr><tr><td>New Zealand</td><td>73.9895</td></tr><tr><td>Nicaragua</td><td>58.3494166666667</td></tr><tr><td>Niger</td><td>44.5586666666667</td></tr><tr><td>Nigeria</td><td>43.5813333333333</td></tr><tr><td>Norway</td><td>75.843</td></tr><tr><td>Oman</td><td>58.4426666666667</td></tr><tr><td>Pakistan</td><td>54.88225</td></tr><tr><td>Panama</td><td>67.80175</td></tr><tr><td>Paraguay</td><td>66.8090833333333</td></tr><tr><td>Peru</td><td>58.8593333333333</td></tr><tr><td>Philippines</td><td>60.96725</td></tr><tr><td>Poland</td><td>70.1769166666667</td></tr><tr><td>Portugal</td><td>70.4198333333333</td></tr><tr><td>Puerto Rico</td><td>72.7393333333333</td></tr><tr><td>Reunion</td><td>66.64425</td></tr><tr><td>Romania</td><td>68.2906666666667</td></tr><tr><td>Rwanda</td><td>41.4815833333333</td></tr><tr><td>Sao Tome and Principe</td><td>57.8963333333333</td></tr><tr><td>Saudi Arabia</td><td>58.67875</td></tr><tr><td>Senegal</td><td>50.6259166666667</td></tr><tr><td>Serbia</td><td>68.551</td></tr><tr><td>Sierra Leone</td><td>36.7691666666667</td></tr><tr><td>Singapore</td><td>71.22025</td></tr><tr><td>Slovak Republic</td><td>70.6960833333333</td></tr><tr><td>Slovenia</td><td>71.60075</td></tr><tr><td>Somalia</td><td>40.9886666666667</td></tr><tr><td>South Africa</td><td>53.9931666666667</td></tr><tr><td>Spain</td><td>74.2034166666667</td></tr><tr><td>Sri Lanka</td><td>66.5260833333333</td></tr><tr><td>Sudan</td><td>48.4005</td></tr><tr><td>Swaziland</td><td>49.0024166666667</td></tr><tr><td>Sweden</td><td>76.177</td></tr><tr><td>Switzerland</td><td>75.5650833333333</td></tr><tr><td>Syria</td><td>61.3461666666667</td></tr><tr><td>Taiwan</td><td>70.3366666666667</td></tr><tr><td>Tanzania</td><td>47.9123333333333</td></tr><tr><td>Thailand</td><td>62.20025</td></tr><tr><td>Togo</td><td>51.49875</td></tr><tr><td>Trinidad and Tobago</td><td>66.828</td></tr><tr><td>Tunisia</td><td>60.721</td></tr><tr><td>Turkey</td><td>59.6964166666667</td></tr><tr><td>Uganda</td><td>47.6188333333333</td></tr><tr><td>United Kingdom</td><td>73.9225833333333</td></tr><tr><td>United States</td><td>73.4785</td></tr><tr><td>Uruguay</td><td>70.7815833333333</td></tr><tr><td>Venezuela</td><td>66.5806666666667</td></tr><tr><td>Vietnam</td><td>57.4795</td></tr><tr><td>West Bank and Gaza</td><td>60.3286666666667</td></tr><tr><td>Yemen, Rep.</td><td>46.7804166666667</td></tr><tr><td>Zambia</td><td>45.9963333333333</td></tr><tr><td>Zimbabwe</td><td>52.6631666666667</td></tr><tr><td>NULL</td><td>59.4744393661971</td></tr></table>"
                    }
                }
            ],
            "execution_count": 4
        },
        {
            "cell_type": "code",
            "source": [
                "SELECT YEAR , avg(lifeexp)\n",
                "from gapminder\n",
                "GROUP BY year\n",
                "ORDER BY year"
            ],
            "metadata": {
                "azdata_cell_guid": "d0206eab-f89b-414d-b89c-677587f6f3ae"
            },
            "outputs": [
                {
                    "output_type": "display_data",
                    "data": {
                        "text/html": "(12 row(s) affected)"
                    },
                    "metadata": {}
                },
                {
                    "output_type": "display_data",
                    "data": {
                        "text/html": "Total execution time: 00:00:00.007"
                    },
                    "metadata": {}
                },
                {
                    "output_type": "execute_result",
                    "metadata": {},
                    "execution_count": 5,
                    "data": {
                        "application/vnd.dataresource+json": {
                            "schema": {
                                "fields": [
                                    {
                                        "name": "year"
                                    },
                                    {
                                        "name": "avg"
                                    }
                                ]
                            },
                            "data": [
                                {
                                    "0": "1952",
                                    "1": "49.0576197183099"
                                },
                                {
                                    "0": "1957",
                                    "1": "51.5074011267605"
                                },
                                {
                                    "0": "1962",
                                    "1": "53.6092490140845"
                                },
                                {
                                    "0": "1967",
                                    "1": "55.6782895774648"
                                },
                                {
                                    "0": "1972",
                                    "1": "57.6473864788732"
                                },
                                {
                                    "0": "1977",
                                    "1": "59.5701574647887"
                                },
                                {
                                    "0": "1982",
                                    "1": "61.5331971830986"
                                },
                                {
                                    "0": "1987",
                                    "1": "63.2126126760564"
                                },
                                {
                                    "0": "1992",
                                    "1": "64.160338028169"
                                },
                                {
                                    "0": "1997",
                                    "1": "65.014676056338"
                                },
                                {
                                    "0": "2002",
                                    "1": "65.6949225352113"
                                },
                                {
                                    "0": "2007",
                                    "1": "67.0074225352113"
                                }
                            ]
                        },
                        "text/html": "<table><tr><th>year</th><th>avg</th></tr><tr><td>1952</td><td>49.0576197183099</td></tr><tr><td>1957</td><td>51.5074011267605</td></tr><tr><td>1962</td><td>53.6092490140845</td></tr><tr><td>1967</td><td>55.6782895774648</td></tr><tr><td>1972</td><td>57.6473864788732</td></tr><tr><td>1977</td><td>59.5701574647887</td></tr><tr><td>1982</td><td>61.5331971830986</td></tr><tr><td>1987</td><td>63.2126126760564</td></tr><tr><td>1992</td><td>64.160338028169</td></tr><tr><td>1997</td><td>65.014676056338</td></tr><tr><td>2002</td><td>65.6949225352113</td></tr><tr><td>2007</td><td>67.0074225352113</td></tr></table>"
                    }
                }
            ],
            "execution_count": 5
        },
        {
            "cell_type": "code",
            "source": [
                "SELECT YEAR , avg(lifeexp)\n",
                "from gapminder\n",
                "GROUP BY grouping sets (year,())\n",
                "ORDER BY year"
            ],
            "metadata": {
                "azdata_cell_guid": "a1c2b0cb-4ff9-46a9-8882-0740da4bb740"
            },
            "outputs": [
                {
                    "output_type": "display_data",
                    "data": {
                        "text/html": "(13 row(s) affected)"
                    },
                    "metadata": {}
                },
                {
                    "output_type": "display_data",
                    "data": {
                        "text/html": "Total execution time: 00:00:00.007"
                    },
                    "metadata": {}
                },
                {
                    "output_type": "execute_result",
                    "metadata": {},
                    "execution_count": 6,
                    "data": {
                        "application/vnd.dataresource+json": {
                            "schema": {
                                "fields": [
                                    {
                                        "name": "year"
                                    },
                                    {
                                        "name": "avg"
                                    }
                                ]
                            },
                            "data": [
                                {
                                    "0": "1952",
                                    "1": "49.0576197183099"
                                },
                                {
                                    "0": "1957",
                                    "1": "51.5074011267605"
                                },
                                {
                                    "0": "1962",
                                    "1": "53.6092490140845"
                                },
                                {
                                    "0": "1967",
                                    "1": "55.6782895774648"
                                },
                                {
                                    "0": "1972",
                                    "1": "57.6473864788732"
                                },
                                {
                                    "0": "1977",
                                    "1": "59.5701574647887"
                                },
                                {
                                    "0": "1982",
                                    "1": "61.5331971830986"
                                },
                                {
                                    "0": "1987",
                                    "1": "63.2126126760564"
                                },
                                {
                                    "0": "1992",
                                    "1": "64.160338028169"
                                },
                                {
                                    "0": "1997",
                                    "1": "65.014676056338"
                                },
                                {
                                    "0": "2002",
                                    "1": "65.6949225352113"
                                },
                                {
                                    "0": "2007",
                                    "1": "67.0074225352113"
                                },
                                {
                                    "0": "NULL",
                                    "1": "59.4744393661971"
                                }
                            ]
                        },
                        "text/html": "<table><tr><th>year</th><th>avg</th></tr><tr><td>1952</td><td>49.0576197183099</td></tr><tr><td>1957</td><td>51.5074011267605</td></tr><tr><td>1962</td><td>53.6092490140845</td></tr><tr><td>1967</td><td>55.6782895774648</td></tr><tr><td>1972</td><td>57.6473864788732</td></tr><tr><td>1977</td><td>59.5701574647887</td></tr><tr><td>1982</td><td>61.5331971830986</td></tr><tr><td>1987</td><td>63.2126126760564</td></tr><tr><td>1992</td><td>64.160338028169</td></tr><tr><td>1997</td><td>65.014676056338</td></tr><tr><td>2002</td><td>65.6949225352113</td></tr><tr><td>2007</td><td>67.0074225352113</td></tr><tr><td>NULL</td><td>59.4744393661971</td></tr></table>"
                    }
                }
            ],
            "execution_count": 6
        },
        {
            "cell_type": "code",
            "source": [
                "SELECT YEAR,continent , avg(lifeexp)\n",
                "from gapminder\n",
                "GROUP BY grouping sets (year,continent,())\n",
                "ORDER BY year"
            ],
            "metadata": {
                "azdata_cell_guid": "fc7162d8-d67f-489d-9627-de116fbf1574"
            },
            "outputs": [
                {
                    "output_type": "display_data",
                    "data": {
                        "text/html": "(18 row(s) affected)"
                    },
                    "metadata": {}
                },
                {
                    "output_type": "display_data",
                    "data": {
                        "text/html": "Total execution time: 00:00:00.009"
                    },
                    "metadata": {}
                },
                {
                    "output_type": "execute_result",
                    "metadata": {},
                    "execution_count": 9,
                    "data": {
                        "application/vnd.dataresource+json": {
                            "schema": {
                                "fields": [
                                    {
                                        "name": "year"
                                    },
                                    {
                                        "name": "continent"
                                    },
                                    {
                                        "name": "avg"
                                    }
                                ]
                            },
                            "data": [
                                {
                                    "0": "1952",
                                    "1": "NULL",
                                    "2": "49.0576197183099"
                                },
                                {
                                    "0": "1957",
                                    "1": "NULL",
                                    "2": "51.5074011267605"
                                },
                                {
                                    "0": "1962",
                                    "1": "NULL",
                                    "2": "53.6092490140845"
                                },
                                {
                                    "0": "1967",
                                    "1": "NULL",
                                    "2": "55.6782895774648"
                                },
                                {
                                    "0": "1972",
                                    "1": "NULL",
                                    "2": "57.6473864788732"
                                },
                                {
                                    "0": "1977",
                                    "1": "NULL",
                                    "2": "59.5701574647887"
                                },
                                {
                                    "0": "1982",
                                    "1": "NULL",
                                    "2": "61.5331971830986"
                                },
                                {
                                    "0": "1987",
                                    "1": "NULL",
                                    "2": "63.2126126760564"
                                },
                                {
                                    "0": "1992",
                                    "1": "NULL",
                                    "2": "64.160338028169"
                                },
                                {
                                    "0": "1997",
                                    "1": "NULL",
                                    "2": "65.014676056338"
                                },
                                {
                                    "0": "2002",
                                    "1": "NULL",
                                    "2": "65.6949225352113"
                                },
                                {
                                    "0": "2007",
                                    "1": "NULL",
                                    "2": "67.0074225352113"
                                },
                                {
                                    "0": "NULL",
                                    "1": "Asia",
                                    "2": "60.0649032323232"
                                },
                                {
                                    "0": "NULL",
                                    "1": "Europe",
                                    "2": "71.9036861111111"
                                },
                                {
                                    "0": "NULL",
                                    "1": "Oceania",
                                    "2": "74.3262083333333"
                                },
                                {
                                    "0": "NULL",
                                    "1": "Americas",
                                    "2": "64.6587366666667"
                                },
                                {
                                    "0": "NULL",
                                    "1": "Africa",
                                    "2": "48.8653301282051"
                                },
                                {
                                    "0": "NULL",
                                    "1": "NULL",
                                    "2": "59.4744393661971"
                                }
                            ]
                        },
                        "text/html": "<table><tr><th>year</th><th>continent</th><th>avg</th></tr><tr><td>1952</td><td>NULL</td><td>49.0576197183099</td></tr><tr><td>1957</td><td>NULL</td><td>51.5074011267605</td></tr><tr><td>1962</td><td>NULL</td><td>53.6092490140845</td></tr><tr><td>1967</td><td>NULL</td><td>55.6782895774648</td></tr><tr><td>1972</td><td>NULL</td><td>57.6473864788732</td></tr><tr><td>1977</td><td>NULL</td><td>59.5701574647887</td></tr><tr><td>1982</td><td>NULL</td><td>61.5331971830986</td></tr><tr><td>1987</td><td>NULL</td><td>63.2126126760564</td></tr><tr><td>1992</td><td>NULL</td><td>64.160338028169</td></tr><tr><td>1997</td><td>NULL</td><td>65.014676056338</td></tr><tr><td>2002</td><td>NULL</td><td>65.6949225352113</td></tr><tr><td>2007</td><td>NULL</td><td>67.0074225352113</td></tr><tr><td>NULL</td><td>Asia</td><td>60.0649032323232</td></tr><tr><td>NULL</td><td>Europe</td><td>71.9036861111111</td></tr><tr><td>NULL</td><td>Oceania</td><td>74.3262083333333</td></tr><tr><td>NULL</td><td>Americas</td><td>64.6587366666667</td></tr><tr><td>NULL</td><td>Africa</td><td>48.8653301282051</td></tr><tr><td>NULL</td><td>NULL</td><td>59.4744393661971</td></tr></table>"
                    }
                }
            ],
            "execution_count": 9
        },
        {
            "cell_type": "code",
            "source": [
                "SELECT YEAR,continent , avg(lifeexp)\n",
                "from gapminder\n",
                "GROUP BY \n",
                "    grouping sets (\n",
                "            (year,continent),\n",
                "            year,\n",
                "            continent,\n",
                "            ()\n",
                "        )\n",
                "ORDER BY year"
            ],
            "metadata": {
                "azdata_cell_guid": "1a5c7589-b1e1-494e-962e-dc7730c4bded"
            },
            "outputs": [
                {
                    "output_type": "display_data",
                    "data": {
                        "text/html": "(78 row(s) affected)"
                    },
                    "metadata": {}
                },
                {
                    "output_type": "display_data",
                    "data": {
                        "text/html": "Total execution time: 00:00:00.012"
                    },
                    "metadata": {}
                },
                {
                    "output_type": "execute_result",
                    "metadata": {},
                    "execution_count": 12,
                    "data": {
                        "application/vnd.dataresource+json": {
                            "schema": {
                                "fields": [
                                    {
                                        "name": "year"
                                    },
                                    {
                                        "name": "continent"
                                    },
                                    {
                                        "name": "avg"
                                    }
                                ]
                            },
                            "data": [
                                {
                                    "0": "1952",
                                    "1": "Oceania",
                                    "2": "69.255"
                                },
                                {
                                    "0": "1952",
                                    "1": "Asia",
                                    "2": "46.3143939393939"
                                },
                                {
                                    "0": "1952",
                                    "1": "Africa",
                                    "2": "39.1355"
                                },
                                {
                                    "0": "1952",
                                    "1": "Europe",
                                    "2": "64.4085"
                                },
                                {
                                    "0": "1952",
                                    "1": "NULL",
                                    "2": "49.0576197183099"
                                },
                                {
                                    "0": "1952",
                                    "1": "Americas",
                                    "2": "53.27984"
                                },
                                {
                                    "0": "1957",
                                    "1": "NULL",
                                    "2": "51.5074011267605"
                                },
                                {
                                    "0": "1957",
                                    "1": "Americas",
                                    "2": "55.96028"
                                },
                                {
                                    "0": "1957",
                                    "1": "Asia",
                                    "2": "49.3185442424243"
                                },
                                {
                                    "0": "1957",
                                    "1": "Africa",
                                    "2": "41.2663461538461"
                                },
                                {
                                    "0": "1957",
                                    "1": "Oceania",
                                    "2": "70.295"
                                },
                                {
                                    "0": "1957",
                                    "1": "Europe",
                                    "2": "66.7030666666667"
                                },
                                {
                                    "0": "1962",
                                    "1": "Oceania",
                                    "2": "71.085"
                                },
                                {
                                    "0": "1962",
                                    "1": "Europe",
                                    "2": "68.5392333333333"
                                },
                                {
                                    "0": "1962",
                                    "1": "Americas",
                                    "2": "58.39876"
                                },
                                {
                                    "0": "1962",
                                    "1": "Africa",
                                    "2": "43.3194423076923"
                                },
                                {
                                    "0": "1962",
                                    "1": "Asia",
                                    "2": "51.563223030303"
                                },
                                {
                                    "0": "1962",
                                    "1": "NULL",
                                    "2": "53.6092490140845"
                                },
                                {
                                    "0": "1967",
                                    "1": "NULL",
                                    "2": "55.6782895774648"
                                },
                                {
                                    "0": "1967",
                                    "1": "Africa",
                                    "2": "45.3345384615385"
                                },
                                {
                                    "0": "1967",
                                    "1": "Americas",
                                    "2": "60.41092"
                                },
                                {
                                    "0": "1967",
                                    "1": "Oceania",
                                    "2": "71.31"
                                },
                                {
                                    "0": "1967",
                                    "1": "Europe",
                                    "2": "69.7376"
                                },
                                {
                                    "0": "1967",
                                    "1": "Asia",
                                    "2": "54.66364"
                                },
                                {
                                    "0": "1972",
                                    "1": "Africa",
                                    "2": "47.4509423076923"
                                },
                                {
                                    "0": "1972",
                                    "1": "Oceania",
                                    "2": "71.91"
                                },
                                {
                                    "0": "1972",
                                    "1": "Asia",
                                    "2": "57.3192690909091"
                                },
                                {
                                    "0": "1972",
                                    "1": "Europe",
                                    "2": "70.7750333333333"
                                },
                                {
                                    "0": "1972",
                                    "1": "NULL",
                                    "2": "57.6473864788732"
                                },
                                {
                                    "0": "1972",
                                    "1": "Americas",
                                    "2": "62.39492"
                                },
                                {
                                    "0": "1977",
                                    "1": "Africa",
                                    "2": "49.5804230769231"
                                },
                                {
                                    "0": "1977",
                                    "1": "Americas",
                                    "2": "64.39156"
                                },
                                {
                                    "0": "1977",
                                    "1": "NULL",
                                    "2": "59.5701574647887"
                                },
                                {
                                    "0": "1977",
                                    "1": "Europe",
                                    "2": "71.9377666666667"
                                },
                                {
                                    "0": "1977",
                                    "1": "Oceania",
                                    "2": "72.855"
                                },
                                {
                                    "0": "1977",
                                    "1": "Asia",
                                    "2": "59.6105563636364"
                                },
                                {
                                    "0": "1982",
                                    "1": "Americas",
                                    "2": "66.22884"
                                },
                                {
                                    "0": "1982",
                                    "1": "Africa",
                                    "2": "51.5928653846154"
                                },
                                {
                                    "0": "1982",
                                    "1": "Asia",
                                    "2": "62.6179393939394"
                                },
                                {
                                    "0": "1982",
                                    "1": "NULL",
                                    "2": "61.5331971830986"
                                },
                                {
                                    "0": "1982",
                                    "1": "Europe",
                                    "2": "72.8064"
                                },
                                {
                                    "0": "1982",
                                    "1": "Oceania",
                                    "2": "74.29"
                                },
                                {
                                    "0": "1987",
                                    "1": "Oceania",
                                    "2": "75.32"
                                },
                                {
                                    "0": "1987",
                                    "1": "Africa",
                                    "2": "53.3447884615384"
                                },
                                {
                                    "0": "1987",
                                    "1": "Asia",
                                    "2": "64.8511818181818"
                                },
                                {
                                    "0": "1987",
                                    "1": "Americas",
                                    "2": "68.09072"
                                },
                                {
                                    "0": "1987",
                                    "1": "Europe",
                                    "2": "73.6421666666667"
                                },
                                {
                                    "0": "1987",
                                    "1": "NULL",
                                    "2": "63.2126126760564"
                                },
                                {
                                    "0": "1992",
                                    "1": "Oceania",
                                    "2": "76.945"
                                },
                                {
                                    "0": "1992",
                                    "1": "Americas",
                                    "2": "69.56836"
                                },
                                {
                                    "0": "1992",
                                    "1": "Asia",
                                    "2": "66.5372121212121"
                                },
                                {
                                    "0": "1992",
                                    "1": "NULL",
                                    "2": "64.160338028169"
                                },
                                {
                                    "0": "1992",
                                    "1": "Europe",
                                    "2": "74.4401"
                                },
                                {
                                    "0": "1992",
                                    "1": "Africa",
                                    "2": "53.6295769230769"
                                },
                                {
                                    "0": "1997",
                                    "1": "NULL",
                                    "2": "65.014676056338"
                                },
                                {
                                    "0": "1997",
                                    "1": "Africa",
                                    "2": "53.5982692307692"
                                },
                                {
                                    "0": "1997",
                                    "1": "Americas",
                                    "2": "71.15048"
                                },
                                {
                                    "0": "1997",
                                    "1": "Oceania",
                                    "2": "78.19"
                                },
                                {
                                    "0": "1997",
                                    "1": "Asia",
                                    "2": "68.0205151515151"
                                },
                                {
                                    "0": "1997",
                                    "1": "Europe",
                                    "2": "75.5051666666667"
                                },
                                {
                                    "0": "2002",
                                    "1": "NULL",
                                    "2": "65.6949225352113"
                                },
                                {
                                    "0": "2002",
                                    "1": "Europe",
                                    "2": "76.7006"
                                },
                                {
                                    "0": "2002",
                                    "1": "Africa",
                                    "2": "53.3252307692308"
                                },
                                {
                                    "0": "2002",
                                    "1": "Americas",
                                    "2": "72.42204"
                                },
                                {
                                    "0": "2002",
                                    "1": "Asia",
                                    "2": "69.2338787878788"
                                },
                                {
                                    "0": "2002",
                                    "1": "Oceania",
                                    "2": "79.74"
                                },
                                {
                                    "0": "2007",
                                    "1": "Europe",
                                    "2": "77.6486"
                                },
                                {
                                    "0": "2007",
                                    "1": "Oceania",
                                    "2": "80.7195"
                                },
                                {
                                    "0": "2007",
                                    "1": "Americas",
                                    "2": "73.60812"
                                },
                                {
                                    "0": "2007",
                                    "1": "Asia",
                                    "2": "70.7284848484848"
                                },
                                {
                                    "0": "2007",
                                    "1": "NULL",
                                    "2": "67.0074225352113"
                                },
                                {
                                    "0": "2007",
                                    "1": "Africa",
                                    "2": "54.8060384615384"
                                },
                                {
                                    "0": "NULL",
                                    "1": "Asia",
                                    "2": "60.0649032323232"
                                },
                                {
                                    "0": "NULL",
                                    "1": "Europe",
                                    "2": "71.9036861111111"
                                },
                                {
                                    "0": "NULL",
                                    "1": "Oceania",
                                    "2": "74.3262083333333"
                                },
                                {
                                    "0": "NULL",
                                    "1": "Americas",
                                    "2": "64.6587366666667"
                                },
                                {
                                    "0": "NULL",
                                    "1": "Africa",
                                    "2": "48.8653301282051"
                                },
                                {
                                    "0": "NULL",
                                    "1": "NULL",
                                    "2": "59.4744393661971"
                                }
                            ]
                        },
                        "text/html": "<table><tr><th>year</th><th>continent</th><th>avg</th></tr><tr><td>1952</td><td>Oceania</td><td>69.255</td></tr><tr><td>1952</td><td>Asia</td><td>46.3143939393939</td></tr><tr><td>1952</td><td>Africa</td><td>39.1355</td></tr><tr><td>1952</td><td>Europe</td><td>64.4085</td></tr><tr><td>1952</td><td>NULL</td><td>49.0576197183099</td></tr><tr><td>1952</td><td>Americas</td><td>53.27984</td></tr><tr><td>1957</td><td>NULL</td><td>51.5074011267605</td></tr><tr><td>1957</td><td>Americas</td><td>55.96028</td></tr><tr><td>1957</td><td>Asia</td><td>49.3185442424243</td></tr><tr><td>1957</td><td>Africa</td><td>41.2663461538461</td></tr><tr><td>1957</td><td>Oceania</td><td>70.295</td></tr><tr><td>1957</td><td>Europe</td><td>66.7030666666667</td></tr><tr><td>1962</td><td>Oceania</td><td>71.085</td></tr><tr><td>1962</td><td>Europe</td><td>68.5392333333333</td></tr><tr><td>1962</td><td>Americas</td><td>58.39876</td></tr><tr><td>1962</td><td>Africa</td><td>43.3194423076923</td></tr><tr><td>1962</td><td>Asia</td><td>51.563223030303</td></tr><tr><td>1962</td><td>NULL</td><td>53.6092490140845</td></tr><tr><td>1967</td><td>NULL</td><td>55.6782895774648</td></tr><tr><td>1967</td><td>Africa</td><td>45.3345384615385</td></tr><tr><td>1967</td><td>Americas</td><td>60.41092</td></tr><tr><td>1967</td><td>Oceania</td><td>71.31</td></tr><tr><td>1967</td><td>Europe</td><td>69.7376</td></tr><tr><td>1967</td><td>Asia</td><td>54.66364</td></tr><tr><td>1972</td><td>Africa</td><td>47.4509423076923</td></tr><tr><td>1972</td><td>Oceania</td><td>71.91</td></tr><tr><td>1972</td><td>Asia</td><td>57.3192690909091</td></tr><tr><td>1972</td><td>Europe</td><td>70.7750333333333</td></tr><tr><td>1972</td><td>NULL</td><td>57.6473864788732</td></tr><tr><td>1972</td><td>Americas</td><td>62.39492</td></tr><tr><td>1977</td><td>Africa</td><td>49.5804230769231</td></tr><tr><td>1977</td><td>Americas</td><td>64.39156</td></tr><tr><td>1977</td><td>NULL</td><td>59.5701574647887</td></tr><tr><td>1977</td><td>Europe</td><td>71.9377666666667</td></tr><tr><td>1977</td><td>Oceania</td><td>72.855</td></tr><tr><td>1977</td><td>Asia</td><td>59.6105563636364</td></tr><tr><td>1982</td><td>Americas</td><td>66.22884</td></tr><tr><td>1982</td><td>Africa</td><td>51.5928653846154</td></tr><tr><td>1982</td><td>Asia</td><td>62.6179393939394</td></tr><tr><td>1982</td><td>NULL</td><td>61.5331971830986</td></tr><tr><td>1982</td><td>Europe</td><td>72.8064</td></tr><tr><td>1982</td><td>Oceania</td><td>74.29</td></tr><tr><td>1987</td><td>Oceania</td><td>75.32</td></tr><tr><td>1987</td><td>Africa</td><td>53.3447884615384</td></tr><tr><td>1987</td><td>Asia</td><td>64.8511818181818</td></tr><tr><td>1987</td><td>Americas</td><td>68.09072</td></tr><tr><td>1987</td><td>Europe</td><td>73.6421666666667</td></tr><tr><td>1987</td><td>NULL</td><td>63.2126126760564</td></tr><tr><td>1992</td><td>Oceania</td><td>76.945</td></tr><tr><td>1992</td><td>Americas</td><td>69.56836</td></tr><tr><td>1992</td><td>Asia</td><td>66.5372121212121</td></tr><tr><td>1992</td><td>NULL</td><td>64.160338028169</td></tr><tr><td>1992</td><td>Europe</td><td>74.4401</td></tr><tr><td>1992</td><td>Africa</td><td>53.6295769230769</td></tr><tr><td>1997</td><td>NULL</td><td>65.014676056338</td></tr><tr><td>1997</td><td>Africa</td><td>53.5982692307692</td></tr><tr><td>1997</td><td>Americas</td><td>71.15048</td></tr><tr><td>1997</td><td>Oceania</td><td>78.19</td></tr><tr><td>1997</td><td>Asia</td><td>68.0205151515151</td></tr><tr><td>1997</td><td>Europe</td><td>75.5051666666667</td></tr><tr><td>2002</td><td>NULL</td><td>65.6949225352113</td></tr><tr><td>2002</td><td>Europe</td><td>76.7006</td></tr><tr><td>2002</td><td>Africa</td><td>53.3252307692308</td></tr><tr><td>2002</td><td>Americas</td><td>72.42204</td></tr><tr><td>2002</td><td>Asia</td><td>69.2338787878788</td></tr><tr><td>2002</td><td>Oceania</td><td>79.74</td></tr><tr><td>2007</td><td>Europe</td><td>77.6486</td></tr><tr><td>2007</td><td>Oceania</td><td>80.7195</td></tr><tr><td>2007</td><td>Americas</td><td>73.60812</td></tr><tr><td>2007</td><td>Asia</td><td>70.7284848484848</td></tr><tr><td>2007</td><td>NULL</td><td>67.0074225352113</td></tr><tr><td>2007</td><td>Africa</td><td>54.8060384615384</td></tr><tr><td>NULL</td><td>Asia</td><td>60.0649032323232</td></tr><tr><td>NULL</td><td>Europe</td><td>71.9036861111111</td></tr><tr><td>NULL</td><td>Oceania</td><td>74.3262083333333</td></tr><tr><td>NULL</td><td>Americas</td><td>64.6587366666667</td></tr><tr><td>NULL</td><td>Africa</td><td>48.8653301282051</td></tr><tr><td>NULL</td><td>NULL</td><td>59.4744393661971</td></tr></table>"
                    }
                }
            ],
            "execution_count": 12
        },
        {
            "cell_type": "markdown",
            "source": [
                "# HAVING"
            ],
            "metadata": {
                "azdata_cell_guid": "18306faa-3d51-459d-a226-5a6786ccccf7"
            }
        },
        {
            "cell_type": "code",
            "source": [
                "SELECT YEAR,continent , avg(lifeexp)\n",
                "from gapminder\n",
                "GROUP BY \n",
                "    grouping sets (\n",
                "            (year,continent),\n",
                "            year,\n",
                "            continent,\n",
                "            ()\n",
                "        )\n",
                "    having year > 2000\n",
                "ORDER BY year"
            ],
            "metadata": {
                "azdata_cell_guid": "094be5cb-d77a-460c-b0b4-94ef48264b7c"
            },
            "outputs": [
                {
                    "output_type": "display_data",
                    "data": {
                        "text/html": "(12 row(s) affected)"
                    },
                    "metadata": {}
                },
                {
                    "output_type": "display_data",
                    "data": {
                        "text/html": "Total execution time: 00:00:00.008"
                    },
                    "metadata": {}
                },
                {
                    "output_type": "execute_result",
                    "metadata": {},
                    "execution_count": 13,
                    "data": {
                        "application/vnd.dataresource+json": {
                            "schema": {
                                "fields": [
                                    {
                                        "name": "year"
                                    },
                                    {
                                        "name": "continent"
                                    },
                                    {
                                        "name": "avg"
                                    }
                                ]
                            },
                            "data": [
                                {
                                    "0": "2002",
                                    "1": "Asia",
                                    "2": "69.2338787878788"
                                },
                                {
                                    "0": "2002",
                                    "1": "Africa",
                                    "2": "53.3252307692308"
                                },
                                {
                                    "0": "2002",
                                    "1": "Europe",
                                    "2": "76.7006"
                                },
                                {
                                    "0": "2002",
                                    "1": "Americas",
                                    "2": "72.42204"
                                },
                                {
                                    "0": "2002",
                                    "1": "Oceania",
                                    "2": "79.74"
                                },
                                {
                                    "0": "2002",
                                    "1": "NULL",
                                    "2": "65.6949225352113"
                                },
                                {
                                    "0": "2007",
                                    "1": "Asia",
                                    "2": "70.7284848484848"
                                },
                                {
                                    "0": "2007",
                                    "1": "Europe",
                                    "2": "77.6486"
                                },
                                {
                                    "0": "2007",
                                    "1": "Africa",
                                    "2": "54.8060384615384"
                                },
                                {
                                    "0": "2007",
                                    "1": "Americas",
                                    "2": "73.60812"
                                },
                                {
                                    "0": "2007",
                                    "1": "Oceania",
                                    "2": "80.7195"
                                },
                                {
                                    "0": "2007",
                                    "1": "NULL",
                                    "2": "67.0074225352113"
                                }
                            ]
                        },
                        "text/html": "<table><tr><th>year</th><th>continent</th><th>avg</th></tr><tr><td>2002</td><td>Asia</td><td>69.2338787878788</td></tr><tr><td>2002</td><td>Africa</td><td>53.3252307692308</td></tr><tr><td>2002</td><td>Europe</td><td>76.7006</td></tr><tr><td>2002</td><td>Americas</td><td>72.42204</td></tr><tr><td>2002</td><td>Oceania</td><td>79.74</td></tr><tr><td>2002</td><td>NULL</td><td>65.6949225352113</td></tr><tr><td>2007</td><td>Asia</td><td>70.7284848484848</td></tr><tr><td>2007</td><td>Europe</td><td>77.6486</td></tr><tr><td>2007</td><td>Africa</td><td>54.8060384615384</td></tr><tr><td>2007</td><td>Americas</td><td>73.60812</td></tr><tr><td>2007</td><td>Oceania</td><td>80.7195</td></tr><tr><td>2007</td><td>NULL</td><td>67.0074225352113</td></tr></table>"
                    }
                }
            ],
            "execution_count": 13
        }
    ]
}