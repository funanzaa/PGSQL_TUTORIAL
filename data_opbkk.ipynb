{
    "metadata": {
        "kernelspec": {
            "name": "SQL",
            "display_name": "SQL",
            "language": "sql"
        },
        "language_info": {
            "name": "sql",
            "version": ""
        }
    },
    "nbformat_minor": 2,
    "nbformat": 4,
    "cells": [
        {
            "cell_type": "markdown",
            "source": [
                "ช่วงอาย 0-12 ที่มี tmt diag"
            ],
            "metadata": {
                "azdata_cell_guid": "6a4d29d5-0c19-450c-afcd-7f4064ded069"
            }
        },
        {
            "cell_type": "code",
            "source": [
                "select to_char(count(opbkk_service_year_0_12.pid),'9G999G999') pid ,to_char(sum(opbkk_service_year_0_12.sum),'9G999G999G999') sum\n",
                "from\n",
                "(\n",
                "SELECT opbkk_service_year_0_12.pid,sum(opbkk_service_year_0_12.amount_actualcharge)::int\n",
                "from opbkk_service_year_0_12\n",
                "inner JOIN opbkk_diag_have_code on opbkk_service_year_0_12.txid = opbkk_diag_have_code.txid\n",
                "inner JOIN opbkk_drug_have_influenza on opbkk_service_year_0_12.txid = opbkk_drug_have_influenza.txid \n",
                "GROUP BY opbkk_service_year_0_12.pid ) opbkk_service_year_0_12"
            ],
            "metadata": {
                "azdata_cell_guid": "e716c017-b65d-4f83-a917-7bd210023e89",
                "tags": []
            },
            "outputs": [
                {
                    "output_type": "display_data",
                    "data": {
                        "text/html": "(1 row(s) affected)"
                    },
                    "metadata": {}
                },
                {
                    "output_type": "display_data",
                    "data": {
                        "text/html": "Total execution time: 00:00:01.177"
                    },
                    "metadata": {}
                },
                {
                    "output_type": "execute_result",
                    "metadata": {},
                    "execution_count": 68,
                    "data": {
                        "application/vnd.dataresource+json": {
                            "schema": {
                                "fields": [
                                    {
                                        "name": "pid"
                                    },
                                    {
                                        "name": "sum"
                                    }
                                ]
                            },
                            "data": [
                                {
                                    "0": "        19",
                                    "1": "        14,480"
                                }
                            ]
                        },
                        "text/html": "<table><tr><th>pid</th><th>sum</th></tr><tr><td>        19</td><td>        14,480</td></tr></table>"
                    }
                }
            ],
            "execution_count": 68
        },
        {
            "cell_type": "markdown",
            "source": [
                "ช่วงอายุ 0-12 ที่มี  diag แต่ไม่ tmt"
            ],
            "metadata": {
                "azdata_cell_guid": "15f4c3ae-2811-44dc-a47d-1b1459261466"
            }
        },
        {
            "cell_type": "code",
            "source": [
                "select to_char(count(opbkk_service_year_0_12.pid),'9G999G999') pid ,to_char(sum(opbkk_service_year_0_12.sum),'9G999G999G999') sum\n",
                "from\n",
                "(\n",
                "SELECT opbkk_service_year_0_12.pid,sum(opbkk_service_year_0_12.amount_actualcharge)::int\n",
                "from opbkk_service_year_0_12\n",
                "inner JOIN opbkk_diag_have_code on opbkk_service_year_0_12.txid = opbkk_diag_have_code.txid\n",
                "--inner JOIN opbkk_drug_have_influenza on opbkk_service_year_0_12.txid = opbkk_drug_have_influenza.txid \n",
                "GROUP BY opbkk_service_year_0_12.pid ) opbkk_service_year_0_12"
            ],
            "metadata": {
                "azdata_cell_guid": "89861937-bd3c-4852-8c61-145c069914a9",
                "tags": []
            },
            "outputs": [
                {
                    "output_type": "display_data",
                    "data": {
                        "text/html": "(1 row(s) affected)"
                    },
                    "metadata": {}
                },
                {
                    "output_type": "display_data",
                    "data": {
                        "text/html": "Total execution time: 00:00:01.040"
                    },
                    "metadata": {}
                },
                {
                    "output_type": "execute_result",
                    "metadata": {},
                    "execution_count": 69,
                    "data": {
                        "application/vnd.dataresource+json": {
                            "schema": {
                                "fields": [
                                    {
                                        "name": "pid"
                                    },
                                    {
                                        "name": "sum"
                                    }
                                ]
                            },
                            "data": [
                                {
                                    "0": "     4,173",
                                    "1": "     1,851,246"
                                }
                            ]
                        },
                        "text/html": "<table><tr><th>pid</th><th>sum</th></tr><tr><td>     4,173</td><td>     1,851,246</td></tr></table>"
                    }
                }
            ],
            "execution_count": 69
        },
        {
            "cell_type": "markdown",
            "source": [
                "ช่วงอายุ 0-12 ที่ไม่มี diag แต่ มี tmt"
            ],
            "metadata": {
                "azdata_cell_guid": "af25cad8-835f-4d05-aaa8-dda3fab3b73c"
            }
        },
        {
            "cell_type": "code",
            "source": [
                "select to_char(count(opbkk_service_year_0_12.pid),'9G999G999') pid ,to_char(sum(opbkk_service_year_0_12.sum),'9G999G999G999') sum\n",
                "from\n",
                "(\n",
                "SELECT opbkk_service_year_0_12.pid,sum(opbkk_service_year_0_12.amount_actualcharge)::int\n",
                "from opbkk_service_year_0_12\n",
                "--inner JOIN opbkk_diag_have_code on opbkk_service_year_0_12.txid = opbkk_diag_have_code.txid\n",
                "inner JOIN opbkk_drug_have_influenza on opbkk_service_year_0_12.txid = opbkk_drug_have_influenza.txid \n",
                "GROUP BY opbkk_service_year_0_12.pid ) opbkk_service_year_0_12"
            ],
            "metadata": {
                "azdata_cell_guid": "5e7afcb4-9681-4af5-8104-d7400fa43129",
                "tags": []
            },
            "outputs": [
                {
                    "output_type": "display_data",
                    "data": {
                        "text/html": "(1 row(s) affected)"
                    },
                    "metadata": {}
                },
                {
                    "output_type": "display_data",
                    "data": {
                        "text/html": "Total execution time: 00:00:01.037"
                    },
                    "metadata": {}
                },
                {
                    "output_type": "execute_result",
                    "metadata": {},
                    "execution_count": 71,
                    "data": {
                        "application/vnd.dataresource+json": {
                            "schema": {
                                "fields": [
                                    {
                                        "name": "pid"
                                    },
                                    {
                                        "name": "sum"
                                    }
                                ]
                            },
                            "data": [
                                {
                                    "0": "     1,997",
                                    "1": "     2,676,111"
                                }
                            ]
                        },
                        "text/html": "<table><tr><th>pid</th><th>sum</th></tr><tr><td>     1,997</td><td>     2,676,111</td></tr></table>"
                    }
                }
            ],
            "execution_count": 71
        },
        {
            "cell_type": "markdown",
            "source": [
                "ช่วงอายุ 13-60 ที่มี tmt และ diag"
            ],
            "metadata": {
                "azdata_cell_guid": "9d1aee38-96b6-421f-83be-53e256516714"
            }
        },
        {
            "cell_type": "code",
            "source": [
                "select to_char(count(opbkk_service_year_13_60.pid),'9G999G999') pid ,to_char(sum(opbkk_service_year_13_60.sum),'9G999G999G999') sum\n",
                "from\n",
                "(\n",
                "SELECT opbkk_service_year_13_60.pid,sum(opbkk_service_year_13_60.amount_actualcharge)::int\n",
                "from opbkk_service_year_13_60\n",
                "inner JOIN opbkk_diag_have_code on opbkk_service_year_13_60.txid = opbkk_diag_have_code.txid\n",
                "inner JOIN opbkk_drug_have_influenza on opbkk_service_year_13_60.txid = opbkk_drug_have_influenza.txid \n",
                "GROUP BY opbkk_service_year_13_60.pid ) opbkk_service_year_13_60"
            ],
            "metadata": {
                "azdata_cell_guid": "6b6417f8-1c17-4773-803d-97f915b5685d",
                "tags": []
            },
            "outputs": [
                {
                    "output_type": "display_data",
                    "data": {
                        "text/html": "(1 row(s) affected)"
                    },
                    "metadata": {}
                },
                {
                    "output_type": "display_data",
                    "data": {
                        "text/html": "Total execution time: 00:00:03.052"
                    },
                    "metadata": {}
                },
                {
                    "output_type": "execute_result",
                    "metadata": {},
                    "execution_count": 72,
                    "data": {
                        "application/vnd.dataresource+json": {
                            "schema": {
                                "fields": [
                                    {
                                        "name": "pid"
                                    },
                                    {
                                        "name": "sum"
                                    }
                                ]
                            },
                            "data": [
                                {
                                    "0": "       253",
                                    "1": "       477,464"
                                }
                            ]
                        },
                        "text/html": "<table><tr><th>pid</th><th>sum</th></tr><tr><td>       253</td><td>       477,464</td></tr></table>"
                    }
                }
            ],
            "execution_count": 72
        },
        {
            "cell_type": "markdown",
            "source": [
                "ช่วงอายุ 13-60 ที่มี  diag แต่ไม่ tmt"
            ],
            "metadata": {
                "azdata_cell_guid": "00986397-d3bf-4dc7-8882-8af60a66d630"
            }
        },
        {
            "cell_type": "code",
            "source": [
                "select to_char(count(opbkk_service_year_13_60.pid),'9G999G999') pid ,to_char(sum(opbkk_service_year_13_60.sum),'9G999G999G999') sum\n",
                "from\n",
                "(\n",
                "SELECT opbkk_service_year_13_60.pid,sum(opbkk_service_year_13_60.amount_actualcharge)::int\n",
                "from opbkk_service_year_13_60\n",
                "inner JOIN opbkk_diag_have_code on opbkk_service_year_13_60.txid = opbkk_diag_have_code.txid\n",
                "--inner JOIN opbkk_drug_have_influenza on opbkk_service_year_13_60.txid = opbkk_drug_have_influenza.txid \n",
                "GROUP BY opbkk_service_year_13_60.pid ) opbkk_service_year_13_60"
            ],
            "metadata": {
                "azdata_cell_guid": "6b5d9a8d-81a8-45b9-925e-85dc1572af96"
            },
            "outputs": [
                {
                    "output_type": "display_data",
                    "data": {
                        "text/html": "(1 row(s) affected)"
                    },
                    "metadata": {}
                },
                {
                    "output_type": "display_data",
                    "data": {
                        "text/html": "Total execution time: 00:00:03.739"
                    },
                    "metadata": {}
                },
                {
                    "output_type": "execute_result",
                    "metadata": {},
                    "execution_count": 73,
                    "data": {
                        "application/vnd.dataresource+json": {
                            "schema": {
                                "fields": [
                                    {
                                        "name": "pid"
                                    },
                                    {
                                        "name": "sum"
                                    }
                                ]
                            },
                            "data": [
                                {
                                    "0": "     4,773",
                                    "1": "     3,688,573"
                                }
                            ]
                        },
                        "text/html": "<table><tr><th>pid</th><th>sum</th></tr><tr><td>     4,773</td><td>     3,688,573</td></tr></table>"
                    }
                }
            ],
            "execution_count": 73
        },
        {
            "cell_type": "markdown",
            "source": [
                "ช่วงอายุ 13-60 ที่ไม่มี diag แต่ มี tmt"
            ],
            "metadata": {
                "azdata_cell_guid": "7bf9a0b6-33c8-46fc-9b07-e3127ae4df3f"
            }
        },
        {
            "cell_type": "code",
            "source": [
                "select to_char(count(opbkk_service_year_13_60.pid),'9G999G999') pid ,to_char(sum(opbkk_service_year_13_60.sum),'9G999G999G999') sum\n",
                "from\n",
                "(\n",
                "SELECT opbkk_service_year_13_60.pid,sum(opbkk_service_year_13_60.amount_actualcharge)::int\n",
                "from opbkk_service_year_13_60\n",
                "--inner JOIN opbkk_diag_have_code on opbkk_service_year_13_60.txid = opbkk_diag_have_code.txid\n",
                "inner JOIN opbkk_drug_have_influenza on opbkk_service_year_13_60.txid = opbkk_drug_have_influenza.txid \n",
                "GROUP BY opbkk_service_year_13_60.pid ) opbkk_service_year_13_60"
            ],
            "metadata": {
                "azdata_cell_guid": "92a76f54-1ba7-4935-8daa-724a9cd482b2"
            },
            "outputs": [
                {
                    "output_type": "display_data",
                    "data": {
                        "text/html": "(1 row(s) affected)"
                    },
                    "metadata": {}
                },
                {
                    "output_type": "display_data",
                    "data": {
                        "text/html": "Total execution time: 00:00:03.917"
                    },
                    "metadata": {}
                },
                {
                    "output_type": "execute_result",
                    "metadata": {},
                    "execution_count": 74,
                    "data": {
                        "application/vnd.dataresource+json": {
                            "schema": {
                                "fields": [
                                    {
                                        "name": "pid"
                                    },
                                    {
                                        "name": "sum"
                                    }
                                ]
                            },
                            "data": [
                                {
                                    "0": "     8,017",
                                    "1": "    24,124,771"
                                }
                            ]
                        },
                        "text/html": "<table><tr><th>pid</th><th>sum</th></tr><tr><td>     8,017</td><td>    24,124,771</td></tr></table>"
                    }
                }
            ],
            "execution_count": 74
        },
        {
            "cell_type": "markdown",
            "source": [
                "ช่วงอายุ 60 up  ที่มี tmt และ diag"
            ],
            "metadata": {
                "azdata_cell_guid": "00495faa-1abb-4f82-be43-b630107b104f"
            }
        },
        {
            "cell_type": "code",
            "source": [
                "select to_char(count(opbkk_service_year_61up.pid),'9G999G999') pid ,to_char(sum(opbkk_service_year_61up.sum),'9G999G999G999') sum\n",
                "from\n",
                "(\n",
                "SELECT opbkk_service_year_61up.pid,sum(opbkk_service_year_61up.amount_actualcharge)::int\n",
                "from opbkk_service_year_61up\n",
                "inner JOIN opbkk_diag_have_code on opbkk_service_year_61up.txid = opbkk_diag_have_code.txid\n",
                "inner JOIN opbkk_drug_have_influenza on opbkk_service_year_61up.txid = opbkk_drug_have_influenza.txid \n",
                "and opbkk_service_year_61up.age_year not in ('n/a')\n",
                "GROUP BY opbkk_service_year_61up.pid ) opbkk_service_year_61up"
            ],
            "metadata": {
                "azdata_cell_guid": "be98acc3-7f0e-46ae-b3f3-934ff8d643a1"
            },
            "outputs": [
                {
                    "output_type": "display_data",
                    "data": {
                        "text/html": "(1 row(s) affected)"
                    },
                    "metadata": {}
                },
                {
                    "output_type": "display_data",
                    "data": {
                        "text/html": "Total execution time: 00:00:00.157"
                    },
                    "metadata": {}
                },
                {
                    "output_type": "execute_result",
                    "metadata": {},
                    "execution_count": 75,
                    "data": {
                        "application/vnd.dataresource+json": {
                            "schema": {
                                "fields": [
                                    {
                                        "name": "pid"
                                    },
                                    {
                                        "name": "sum"
                                    }
                                ]
                            },
                            "data": [
                                {
                                    "0": "       753",
                                    "1": "     1,320,591"
                                }
                            ]
                        },
                        "text/html": "<table><tr><th>pid</th><th>sum</th></tr><tr><td>       753</td><td>     1,320,591</td></tr></table>"
                    }
                }
            ],
            "execution_count": 75
        },
        {
            "cell_type": "markdown",
            "source": [
                "ช่วงอายุ 60 up มี diag แต่ไม่มี TMT"
            ],
            "metadata": {
                "azdata_cell_guid": "0f47c3f7-28f8-4460-9f82-a6fb86cc57b7"
            }
        },
        {
            "cell_type": "code",
            "source": [
                "select to_char(count(opbkk_service_year_61up.pid),'9G999G999') pid ,to_char(sum(opbkk_service_year_61up.sum),'9G999G999G999') sum\n",
                "from\n",
                "(\n",
                "SELECT opbkk_service_year_61up.pid,sum(opbkk_service_year_61up.amount_actualcharge)::int\n",
                "from opbkk_service_year_61up\n",
                "inner JOIN opbkk_diag_have_code on opbkk_service_year_61up.txid = opbkk_diag_have_code.txid\n",
                "--inner JOIN opbkk_drug_have_influenza on opbkk_service_year_61up.txid = opbkk_drug_have_influenza.txid \n",
                "and opbkk_service_year_61up.age_year not in ('n/a')\n",
                "GROUP BY opbkk_service_year_61up.pid ) opbkk_service_year_61up"
            ],
            "metadata": {
                "azdata_cell_guid": "99bf550b-85f8-4fbf-b8d0-803b1598d34a"
            },
            "outputs": [
                {
                    "output_type": "display_data",
                    "data": {
                        "text/html": "(1 row(s) affected)"
                    },
                    "metadata": {}
                },
                {
                    "output_type": "display_data",
                    "data": {
                        "text/html": "Total execution time: 00:00:01.559"
                    },
                    "metadata": {}
                },
                {
                    "output_type": "execute_result",
                    "metadata": {},
                    "execution_count": 76,
                    "data": {
                        "application/vnd.dataresource+json": {
                            "schema": {
                                "fields": [
                                    {
                                        "name": "pid"
                                    },
                                    {
                                        "name": "sum"
                                    }
                                ]
                            },
                            "data": [
                                {
                                    "0": "     2,827",
                                    "1": "     4,232,411"
                                }
                            ]
                        },
                        "text/html": "<table><tr><th>pid</th><th>sum</th></tr><tr><td>     2,827</td><td>     4,232,411</td></tr></table>"
                    }
                }
            ],
            "execution_count": 76
        },
        {
            "cell_type": "markdown",
            "source": [
                "ช่วงอายุ 60 up ไม่มี diag มี TMT"
            ],
            "metadata": {
                "azdata_cell_guid": "6975c231-0740-4001-861e-310d5dae655a"
            }
        },
        {
            "cell_type": "code",
            "source": [
                "select to_char(count(opbkk_service_year_61up.pid),'9G999G999') pid ,to_char(sum(opbkk_service_year_61up.sum),'9G999G999G999') sum\n",
                "from\n",
                "(\n",
                "SELECT opbkk_service_year_61up.pid,sum(opbkk_service_year_61up.amount_actualcharge)::int\n",
                "from opbkk_service_year_61up\n",
                "--inner JOIN opbkk_diag_have_code on opbkk_service_year_61up.txid = opbkk_diag_have_code.txid\n",
                "inner JOIN opbkk_drug_have_influenza on opbkk_service_year_61up.txid = opbkk_drug_have_influenza.txid \n",
                "and opbkk_service_year_61up.age_year not in ('n/a')\n",
                "GROUP BY opbkk_service_year_61up.pid ) opbkk_service_year_61up"
            ],
            "metadata": {
                "azdata_cell_guid": "0889ce38-ca2e-4675-a80b-2f0e3b408219"
            },
            "outputs": [
                {
                    "output_type": "display_data",
                    "data": {
                        "text/html": "(1 row(s) affected)"
                    },
                    "metadata": {}
                },
                {
                    "output_type": "display_data",
                    "data": {
                        "text/html": "Total execution time: 00:00:05.353"
                    },
                    "metadata": {}
                },
                {
                    "output_type": "execute_result",
                    "metadata": {},
                    "execution_count": 77,
                    "data": {
                        "application/vnd.dataresource+json": {
                            "schema": {
                                "fields": [
                                    {
                                        "name": "pid"
                                    },
                                    {
                                        "name": "sum"
                                    }
                                ]
                            },
                            "data": [
                                {
                                    "0": "    14,877",
                                    "1": "    46,870,922"
                                }
                            ]
                        },
                        "text/html": "<table><tr><th>pid</th><th>sum</th></tr><tr><td>    14,877</td><td>    46,870,922</td></tr></table>"
                    }
                }
            ],
            "execution_count": 77
        }
    ]
}